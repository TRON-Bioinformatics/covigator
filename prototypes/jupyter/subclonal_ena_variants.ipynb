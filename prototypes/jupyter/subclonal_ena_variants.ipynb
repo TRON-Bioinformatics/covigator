{
 "cells": [
  {
   "cell_type": "markdown",
   "id": "2a9cede1-ceec-4ce9-bf8e-2486e6dfeaed",
   "metadata": {
    "tags": []
   },
   "source": [
    "# Subclonal and clonal variants in SARS-CoV-2 derived from ENA dataset\n",
    "\n",
    "**Background**\n",
    "\n",
    "The ENA dataset (queried on 07/07/2021, n=44,371) provides the raw reads on which to perform variant calling with LoFreq. LoFreq annotates its variant calls with the observed VAF of the variant \n",
    "and it does not impose assumptions about the ploidy in order to allow for calling subclonal variants. We processed all these samples through the CoVigator pipeline through read trimming, alignment, deduplication, LoFreq variant calling, variant normalization and finally annotations. In the CoVigator analysis pipeline we annotate all variants with a frequency >= 0.8 as clonal, any\n",
    "variant with a frequency < 0.8 as subclonal and furthermore any variant < 0.2 as low frequency.\n",
    "\n",
    "**Motivation**\n",
    "\n",
    "Although LoFreq applies a default filtering strategy on the variant calls, our dataset of subclonal variants is one order of magnitude larger than the clonal dataset. Some samples with extreme counts of clonal variants were excluded in the CoVigator knowledge base data loading. We want to assess here if we can define a procedure to determine a high confidence subclonal dataset.\n",
    "\n",
    "Furthermore, we want to investigate if there is a temporal correlation between the appearance of subclonal variants and the appearance of clonal variants. We want to assess whether the subclonal dataset is fit to predict future clonal mutations."
   ]
  },
  {
   "cell_type": "code",
   "execution_count": 1,
   "id": "f84ea827-720a-46b0-9422-5eb16ca5b6ef",
   "metadata": {
    "tags": []
   },
   "outputs": [],
   "source": [
    "import os\n",
    "import pandas as pd\n",
    "import seaborn as sns\n",
    "import matplotlib.pyplot as plt\n",
    "sns.set_context(\"poster\")\n",
    "import numpy as np\n",
    "from matplotlib.ticker import ScalarFormatter \n",
    "from matplotlib_venn import venn2, venn2_circles\n",
    "from upsetplot import UpSet\n",
    "import warnings\n",
    "warnings.filterwarnings('ignore')\n",
    "import math\n",
    "sns.set_style(\"whitegrid\")"
   ]
  },
  {
   "cell_type": "code",
   "execution_count": 2,
   "id": "524064b1-26b5-4215-9476-de24fa741d05",
   "metadata": {
    "tags": []
   },
   "outputs": [
    {
     "data": {
      "text/html": [
       "<svg  width=\"550\" height=\"55\"><rect x=\"0\" y=\"0\" width=\"55\" height=\"55\" style=\"fill:#0173b2;stroke-width:2;stroke:rgb(255,255,255)\"/><rect x=\"55\" y=\"0\" width=\"55\" height=\"55\" style=\"fill:#de8f05;stroke-width:2;stroke:rgb(255,255,255)\"/><rect x=\"110\" y=\"0\" width=\"55\" height=\"55\" style=\"fill:#029e73;stroke-width:2;stroke:rgb(255,255,255)\"/><rect x=\"165\" y=\"0\" width=\"55\" height=\"55\" style=\"fill:#d55e00;stroke-width:2;stroke:rgb(255,255,255)\"/><rect x=\"220\" y=\"0\" width=\"55\" height=\"55\" style=\"fill:#cc78bc;stroke-width:2;stroke:rgb(255,255,255)\"/><rect x=\"275\" y=\"0\" width=\"55\" height=\"55\" style=\"fill:#ca9161;stroke-width:2;stroke:rgb(255,255,255)\"/><rect x=\"330\" y=\"0\" width=\"55\" height=\"55\" style=\"fill:#fbafe4;stroke-width:2;stroke:rgb(255,255,255)\"/><rect x=\"385\" y=\"0\" width=\"55\" height=\"55\" style=\"fill:#949494;stroke-width:2;stroke:rgb(255,255,255)\"/><rect x=\"440\" y=\"0\" width=\"55\" height=\"55\" style=\"fill:#ece133;stroke-width:2;stroke:rgb(255,255,255)\"/><rect x=\"495\" y=\"0\" width=\"55\" height=\"55\" style=\"fill:#56b4e9;stroke-width:2;stroke:rgb(255,255,255)\"/></svg>"
      ],
      "text/plain": [
       "[(0.00392156862745098, 0.45098039215686275, 0.6980392156862745),\n",
       " (0.8705882352941177, 0.5607843137254902, 0.0196078431372549),\n",
       " (0.00784313725490196, 0.6196078431372549, 0.45098039215686275),\n",
       " (0.8352941176470589, 0.3686274509803922, 0.0),\n",
       " (0.8, 0.47058823529411764, 0.7372549019607844),\n",
       " (0.792156862745098, 0.5686274509803921, 0.3803921568627451),\n",
       " (0.984313725490196, 0.6862745098039216, 0.8941176470588236),\n",
       " (0.5803921568627451, 0.5803921568627451, 0.5803921568627451),\n",
       " (0.9254901960784314, 0.8823529411764706, 0.2),\n",
       " (0.33725490196078434, 0.7058823529411765, 0.9137254901960784)]"
      ]
     },
     "execution_count": 2,
     "metadata": {},
     "output_type": "execute_result"
    }
   ],
   "source": [
    "sns.color_palette(\"colorblind\")"
   ]
  },
  {
   "cell_type": "code",
   "execution_count": 3,
   "id": "7b67ce01-5dfc-43e5-99c2-bfb306ee8eee",
   "metadata": {
    "tags": []
   },
   "outputs": [],
   "source": [
    "blue = sns.color_palette(\"colorblind\")[0]\n",
    "orange = sns.color_palette(\"colorblind\")[1]\n",
    "green = sns.color_palette(\"colorblind\")[2]\n",
    "red = sns.color_palette(\"colorblind\")[3]\n",
    "brown = sns.color_palette(\"colorblind\")[5]\n",
    "grey = sns.color_palette(\"colorblind\")[7]\n",
    "lightblue = sns.color_palette(\"colorblind\")[-1]"
   ]
  },
  {
   "cell_type": "code",
   "execution_count": 4,
   "id": "56801c6b-f160-4398-8373-2684ee5f21b3",
   "metadata": {
    "tags": []
   },
   "outputs": [],
   "source": [
    "SARS_COV_2_GENOME_LENGTH = 29903"
   ]
  },
  {
   "cell_type": "code",
   "execution_count": 5,
   "id": "ba61ed1f-74c8-4e79-aba1-2ad9d39b7f73",
   "metadata": {},
   "outputs": [],
   "source": [
    "figure_output_folder = 'subclonal_ena_variants_figures'"
   ]
  },
  {
   "cell_type": "markdown",
   "id": "bb779efb-29d7-4ae3-8931-6ffe17e69199",
   "metadata": {},
   "source": [
    "## Data loading"
   ]
  },
  {
   "cell_type": "code",
   "execution_count": 6,
   "id": "778dd9a7-9b9f-4b34-a4ba-d204f23919e1",
   "metadata": {
    "tags": []
   },
   "outputs": [],
   "source": [
    "def load_data():\n",
    "    clonal_variants = pd.read_csv('variant_observation_v15_ena.csv.gz')\n",
    "    subclonal_variants = pd.read_csv('subclonal_variant_observation_v15_ena.csv.gz')\n",
    "    sample_ena = pd.read_csv('sample_ena_v15_ena.csv.gz')\n",
    "    sample_ena[\"month\"] = pd.to_datetime(sample_ena.collection_date, format='%Y-%m-%d', errors='coerce').dt.to_period('m')\n",
    "    # filter out samples without a collection date\n",
    "    sample_ena = sample_ena[~ sample_ena.collection_date.isna()]\n",
    "    \n",
    "    print(\"Subclonal variant calls: {}\".format(subclonal_variants.shape[0]))\n",
    "    print(\"Clonal variant calls: {}\".format(clonal_variants.shape[0]))\n",
    "    print(\"Subclonal unique variants: {}\".format(subclonal_variants.variant_id.unique().shape[0]))\n",
    "    print(\"Clonal unique variants: {}\".format(clonal_variants.variant_id.unique().shape[0]))\n",
    "    print(\"Samples: {}\".format(sample_ena.run_accession.unique().shape[0]))\n",
    "    \n",
    "    return clonal_variants, subclonal_variants, sample_ena"
   ]
  },
  {
   "cell_type": "code",
   "execution_count": 7,
   "id": "506f3119-85c4-4135-bbd5-5bd309ea9dca",
   "metadata": {
    "tags": []
   },
   "outputs": [
    {
     "name": "stdout",
     "output_type": "stream",
     "text": [
      "Subclonal variant calls: 8555943\n",
      "Clonal variant calls: 775196\n",
      "Subclonal unique variants: 187222\n",
      "Clonal unique variants: 18698\n",
      "Samples: 43239\n"
     ]
    }
   ],
   "source": [
    "clonal_variants, subclonal_variants, sample_ena = load_data()"
   ]
  },
  {
   "cell_type": "code",
   "execution_count": 8,
   "id": "01f08d48-7f96-4cb6-b018-0370d23e7525",
   "metadata": {
    "tags": []
   },
   "outputs": [],
   "source": [
    "# add collection date to all variants\n",
    "def add_dates_to_variants(variants, samples):\n",
    "    variants_with_collection_date = pd.merge(\n",
    "        left=variants[[\"variant_id\", \"sample\", \"cons_hmm_sars_cov_2\", \"gene_name\", \"hgvs_p\"]], \n",
    "        right=samples[[\"run_accession\", \"collection_date\"]], \n",
    "        left_on=\"sample\", right_on=\"run_accession\", how=\"inner\")\n",
    "    variants_with_collection_date.collection_date = pd.to_datetime(variants_with_collection_date.collection_date)\n",
    "    variants_with_collection_date[\"collection_date_month\"] = variants_with_collection_date.collection_date.dt.to_period('m')\n",
    "    variants_with_collection_date[\"collection_date_month_str\"] = variants_with_collection_date.collection_date_month.astype(str)\n",
    "    return variants_with_collection_date\n",
    "    \n",
    "\n",
    "clonal_variants_with_collection_date = add_dates_to_variants(variants=clonal_variants, samples=sample_ena)\n",
    "subclonal_variants_with_collection_date = add_dates_to_variants(variants=subclonal_variants, samples=sample_ena)"
   ]
  },
  {
   "cell_type": "code",
   "execution_count": 9,
   "id": "f426d5e7-4284-4a7a-aac4-09968e105a5e",
   "metadata": {},
   "outputs": [],
   "source": [
    "def filter_out_synonymous_variants(data):\n",
    "    return data[data.annotation_highest_impact != 'synonymous_variant']"
   ]
  },
  {
   "cell_type": "code",
   "execution_count": 10,
   "id": "1d9c597e-8a4c-40fe-adec-cee934a2a1be",
   "metadata": {
    "tags": []
   },
   "outputs": [],
   "source": [
    "clonal_snvs = clonal_variants[clonal_variants.variant_type == 'SNV']\n",
    "subclonal_snvs = subclonal_variants[subclonal_variants.variant_type == 'SNV']\n",
    "clonal_indels = clonal_variants[clonal_variants.variant_type != 'SNV']\n",
    "subclonal_indels = subclonal_variants[subclonal_variants.variant_type != 'SNV']\n",
    "clonal_snvs_non_synonymous = filter_out_synonymous_variants(clonal_snvs)\n",
    "subclonal_snvs_non_synonymous = filter_out_synonymous_variants(subclonal_snvs)"
   ]
  },
  {
   "cell_type": "code",
   "execution_count": 11,
   "id": "1ec55dad-557e-46de-9c67-7ac42b72aa75",
   "metadata": {
    "tags": []
   },
   "outputs": [
    {
     "name": "stdout",
     "output_type": "stream",
     "text": [
      "Subclonal SNVs calls: 4294355\n",
      "Clonal SNVs calls: 731518\n",
      "Subclonal unique SNVs: 85949 (95.809 % of all possible mutations)\n",
      "Clonal unique SNVs: 17978 (20.04 % of all possible mutations)\n",
      "Subclonal indel calls: 4261588\n",
      "Clonal indel calls: 43678\n",
      "Subclonal unique indels: 101273\n",
      "Clonal unique indels: 720\n"
     ]
    }
   ],
   "source": [
    "print(\"Subclonal SNVs calls: {}\".format(subclonal_snvs.shape[0]))\n",
    "print(\"Clonal SNVs calls: {}\".format(clonal_snvs.shape[0]))\n",
    "print(\"Subclonal unique SNVs: {} ({} % of all possible mutations)\".format(subclonal_snvs.variant_id.unique().shape[0], \n",
    "                                                                          round((subclonal_snvs.variant_id.unique().shape[0] / (SARS_COV_2_GENOME_LENGTH * 3)) * 100, 3)))\n",
    "print(\"Clonal unique SNVs: {} ({} % of all possible mutations)\".format(clonal_snvs.variant_id.unique().shape[0], \n",
    "                                                                       round((clonal_snvs.variant_id.unique().shape[0] / (SARS_COV_2_GENOME_LENGTH * 3)) * 100, 3)))\n",
    "print(\"Subclonal indel calls: {}\".format(subclonal_indels.shape[0]))\n",
    "print(\"Clonal indel calls: {}\".format(clonal_indels.shape[0]))\n",
    "print(\"Subclonal unique indels: {}\".format(subclonal_indels.variant_id.unique().shape[0]))\n",
    "print(\"Clonal unique indels: {}\".format(clonal_indels.variant_id.unique().shape[0]))"
   ]
  },
  {
   "cell_type": "code",
   "execution_count": 12,
   "id": "313f2dac-a57d-4c0d-b652-b456ff621e03",
   "metadata": {
    "tags": []
   },
   "outputs": [],
   "source": [
    "clonal_snvs_with_collection_date = add_dates_to_variants(variants=clonal_snvs, samples=sample_ena)\n",
    "subclonal_snvs_with_collection_date = add_dates_to_variants(variants=subclonal_snvs, samples=sample_ena)"
   ]
  },
  {
   "cell_type": "markdown",
   "id": "4b8cbf55-7656-499f-92c3-e8ed67ea624b",
   "metadata": {
    "tags": []
   },
   "source": [
    "## Subclonal variant quality controls\n",
    "\n",
    "We want to filter down the list of subclonal SNVs to high quality calls."
   ]
  },
  {
   "cell_type": "markdown",
   "id": "20a46fa0-0335-467f-abef-b2cce67edf1c",
   "metadata": {
    "tags": []
   },
   "source": [
    "### Variant allele frequency distribution\n",
    "\n",
    "The distribution of VAFs shows two peaks at each extreme of the frequency range (0.0, 0.05] and (0.95, 1.0] with a marked valley between 0.25 and 0.8.\n",
    "It is remarkable that while indels are less abundant in the clonal dataset than SNVs, this is not the case for the subclonal dataset.\n",
    "In fact around half (ie: 4,261,588 indels and 4,294,355 SNVs) of the subclonal dataset is composed of indels."
   ]
  },
  {
   "cell_type": "code",
   "execution_count": 13,
   "id": "0a26e362-ede7-44ba-a4d2-22b9c2f7b257",
   "metadata": {
    "tags": []
   },
   "outputs": [],
   "source": [
    "def get_frequency_distribution(data, bins):\n",
    "    data[\"vaf_bin\"] = pd.cut(data.vaf, bins=np.linspace(0, 1.0, bins))\n",
    "    frequencies = data[[\"vaf_bin\", \"variant_id\"]].groupby(\"vaf_bin\").count().reset_index()\n",
    "    frequencies = frequencies.rename(columns={\"variant_id\": \"count\"})\n",
    "    return frequencies\n",
    "\n",
    "def plot_vaf(clonal_data, subclonal_data, num_bins=21, title=None):\n",
    "    vaf_clonal = get_frequency_distribution(clonal_data, bins=num_bins)\n",
    "    vaf_subclonal = get_frequency_distribution(subclonal_data, bins=num_bins)\n",
    "    fig = plt.figure(figsize=(20, 8))\n",
    "    sns.barplot(data=vaf_clonal, x=\"vaf_bin\", y=\"count\", color=lightblue)\n",
    "    sns.barplot(data=vaf_subclonal, x=\"vaf_bin\", y=\"count\", color=brown)\n",
    "    plt.xlabel(\"VAF\")\n",
    "    plt.ylabel(None)\n",
    "    sns.despine(bottom=True, left=True)\n",
    "    plt.grid(axis='y')\n",
    "    plt.yscale('log')\n",
    "    plt.xticks(rotation=30)\n",
    "    plt.title(title)\n",
    "    return fig"
   ]
  },
  {
   "cell_type": "code",
   "execution_count": 14,
   "id": "0b72df41-2ace-4e82-80d8-31e92c9d824f",
   "metadata": {
    "tags": []
   },
   "outputs": [
    {
     "data": {
      "image/png": "[encoded data removed]",
      "text/plain": [
       "<Figure size 1440x576 with 1 Axes>"
      ]
     },
     "metadata": {
      "needs_background": "light"
     },
     "output_type": "display_data"
    }
   ],
   "source": [
    "fig = plot_vaf(clonal_data=clonal_variants, subclonal_data=subclonal_variants, title=\"All variants\")\n",
    "fig.savefig(os.path.join(figure_output_folder, 'figure_01_allele_frequencies.jpg'), dpi=200)"
   ]
  },
  {
   "cell_type": "code",
   "execution_count": 15,
   "id": "32f9c585-53d6-4f1d-8eeb-460cb371b214",
   "metadata": {
    "tags": []
   },
   "outputs": [
    {
     "data": {
      "image/png": "[encoded data removed]",
      "text/plain": [
       "<Figure size 1440x576 with 1 Axes>"
      ]
     },
     "metadata": {
      "needs_background": "light"
     },
     "output_type": "display_data"
    }
   ],
   "source": [
    "fig = plot_vaf(clonal_data=clonal_snvs, subclonal_data=subclonal_snvs, title=\"All SNVs\")\n",
    "fig.savefig(os.path.join(figure_output_folder, 'figure_01_allele_frequencies_snvs.jpg'), dpi=200)"
   ]
  },
  {
   "cell_type": "code",
   "execution_count": 16,
   "id": "092a5b81-f3b7-4fa7-8c6e-18653b1611fc",
   "metadata": {
    "tags": []
   },
   "outputs": [
    {
     "data": {
      "image/png": "[encoded data removed]",
      "text/plain": [
       "<Figure size 1440x576 with 1 Axes>"
      ]
     },
     "metadata": {
      "needs_background": "light"
     },
     "output_type": "display_data"
    }
   ],
   "source": [
    "fig = plot_vaf(clonal_data=clonal_indels, subclonal_data=subclonal_indels, title=\"All indels\")\n",
    "fig.savefig(os.path.join(figure_output_folder, 'figure_01_allele_frequencies_indels.jpg'), dpi=200)"
   ]
  },
  {
   "cell_type": "code",
   "execution_count": 17,
   "id": "af03586f-fa17-41f8-a759-3688deb24106",
   "metadata": {},
   "outputs": [
    {
     "data": {
      "image/png": "[encoded data removed]",
      "text/plain": [
       "<Figure size 1440x576 with 1 Axes>"
      ]
     },
     "metadata": {
      "needs_background": "light"
     },
     "output_type": "display_data"
    }
   ],
   "source": [
    "fig = plot_vaf(clonal_data=clonal_snvs_non_synonymous, subclonal_data=subclonal_snvs_non_synonymous, title=\"Non synonymous SNVs\")\n",
    "fig.savefig(os.path.join(figure_output_folder, 'figure_01_allele_frequencies_snvs_non_synonymous.jpg'), dpi=200)"
   ]
  },
  {
   "cell_type": "markdown",
   "id": "cb77a1af-5533-4f95-9211-99a6025797d9",
   "metadata": {},
   "source": [
    "### Filter out samples\n",
    "\n",
    "We may want to filter out some samples with extreme counts of variants. A similar approach has already been done using the count of clonal SNVs and indels separately. All samples with a count greater than the median plus three times the inter-quartile range were excluded."
   ]
  },
  {
   "cell_type": "markdown",
   "id": "f53ea907-0b01-47e8-895f-9ef197a4d0b9",
   "metadata": {},
   "source": [
    "#### Number of subclonal SNVs per sample"
   ]
  },
  {
   "cell_type": "code",
   "execution_count": 18,
   "id": "c928ea82-77ff-4f75-b8ba-38720731bd11",
   "metadata": {
    "tags": []
   },
   "outputs": [
    {
     "data": {
      "text/plain": [
       "[None, Text(0.5, 0, '# SNVs')]"
      ]
     },
     "execution_count": 18,
     "metadata": {},
     "output_type": "execute_result"
    },
    {
     "data": {
      "image/png": "[encoded data removed]",
      "text/plain": [
       "<Figure size 432x288 with 1 Axes>"
      ]
     },
     "metadata": {
      "needs_background": "light"
     },
     "output_type": "display_data"
    }
   ],
   "source": [
    "count_subclonal_snvs_per_samples = subclonal_snvs[[\"sample\", \"variant_id\"]].groupby(\"sample\").count().reset_index().rename(columns={'variant_id': 'count_snvs'})\n",
    "splot = sns.boxplot(count_subclonal_snvs_per_samples.count_snvs, color=grey)\n",
    "splot.set(xscale=\"log\", xlabel=\"# SNVs\")"
   ]
  },
  {
   "cell_type": "code",
   "execution_count": 19,
   "id": "3566a13d-cbe7-4613-ad89-bd49eec9fa1a",
   "metadata": {
    "tags": []
   },
   "outputs": [
    {
     "name": "stdout",
     "output_type": "stream",
     "text": [
      "Median number of SNVs per sample 28.0\n",
      "IQR number of SNVs per sample 69.0\n"
     ]
    }
   ],
   "source": [
    "print(\"Median number of SNVs per sample {}\".format(count_subclonal_snvs_per_samples.count_snvs.quantile(0.5)))\n",
    "iqr_count_subclonal_snvs = count_subclonal_snvs_per_samples.count_snvs.quantile(0.75) - count_subclonal_snvs_per_samples.count_snvs.quantile(0.25)\n",
    "print(\"IQR number of SNVs per sample {}\".format(iqr_count_subclonal_snvs))"
   ]
  },
  {
   "cell_type": "code",
   "execution_count": 20,
   "id": "cb21085b-d238-489f-b51e-273ebcdfb746",
   "metadata": {
    "tags": []
   },
   "outputs": [
    {
     "name": "stdout",
     "output_type": "stream",
     "text": [
      "Filtering all samples with a count of SNVs greater than 235.0, 2770 samples and 2462619 SNVs are filtered out\n"
     ]
    }
   ],
   "source": [
    "count_snvs_threshold = count_subclonal_snvs_per_samples.count_snvs.quantile(0.5) + (3 * iqr_count_subclonal_snvs)\n",
    "excluded_samples_count_snvs = count_subclonal_snvs_per_samples[count_subclonal_snvs_per_samples.count_snvs > count_snvs_threshold][\"sample\"].unique()\n",
    "print(\"Filtering all samples with a count of SNVs greater than {}, {} samples and {} SNVs are filtered out\".format(\n",
    "    count_snvs_threshold,\n",
    "    excluded_samples_count_snvs.shape[0],\n",
    "    count_subclonal_snvs_per_samples[count_subclonal_snvs_per_samples.count_snvs > count_snvs_threshold].count_snvs.sum()))"
   ]
  },
  {
   "cell_type": "markdown",
   "id": "46c495b0-13e2-4c27-84e9-7420aae9c91f",
   "metadata": {},
   "source": [
    "#### Number of subclonal indels per samples"
   ]
  },
  {
   "cell_type": "code",
   "execution_count": 21,
   "id": "2655ca10-c339-4124-a27f-5771faca2c28",
   "metadata": {
    "tags": []
   },
   "outputs": [
    {
     "data": {
      "image/png": "[encoded data removed]",
      "text/plain": [
       "<Figure size 432x288 with 1 Axes>"
      ]
     },
     "metadata": {
      "needs_background": "light"
     },
     "output_type": "display_data"
    }
   ],
   "source": [
    "count_subclonal_indels_per_samples = subclonal_indels[[\"sample\", \"variant_id\"]].groupby(\"sample\").count().reset_index().rename(columns={'variant_id': 'count_indels'})\n",
    "splot = sns.boxplot(count_subclonal_indels_per_samples.count_indels, color=grey)\n",
    "splot.set(xscale=\"log\", xlabel=\"# indels\")\n",
    "sns.despine(bottom=True, left=True)"
   ]
  },
  {
   "cell_type": "code",
   "execution_count": 22,
   "id": "75b03deb-2929-4f0c-aada-bb5dc089155c",
   "metadata": {
    "tags": []
   },
   "outputs": [
    {
     "name": "stdout",
     "output_type": "stream",
     "text": [
      "Median number of indels per sample 68.0\n",
      "IQR number of indels per sample 105.0\n"
     ]
    }
   ],
   "source": [
    "print(\"Median number of indels per sample {}\".format(count_subclonal_indels_per_samples.count_indels.quantile(0.5)))\n",
    "iqr_count_subclonal_indels = count_subclonal_indels_per_samples.count_indels.quantile(0.75) - count_subclonal_indels_per_samples.count_indels.quantile(0.25)\n",
    "print(\"IQR number of indels per sample {}\".format(iqr_count_subclonal_indels))"
   ]
  },
  {
   "cell_type": "code",
   "execution_count": 23,
   "id": "fe568309-4574-4115-9c4c-447d9bb8b8b5",
   "metadata": {
    "tags": []
   },
   "outputs": [
    {
     "name": "stdout",
     "output_type": "stream",
     "text": [
      "Filtering all samples with a count of indels greater than 383.0, 985 samples and 586322 indels are filtered out\n"
     ]
    }
   ],
   "source": [
    "count_indels_threshold = count_subclonal_indels_per_samples.count_indels.quantile(0.5) + (3 * iqr_count_subclonal_indels)\n",
    "excluded_samples_count_indels = count_subclonal_indels_per_samples[count_subclonal_indels_per_samples.count_indels > count_indels_threshold][\"sample\"].unique()\n",
    "print(\"Filtering all samples with a count of indels greater than {}, {} samples and {} indels are filtered out\".format(\n",
    "    count_indels_threshold,\n",
    "    excluded_samples_count_indels.shape[0],\n",
    "    count_subclonal_indels_per_samples[count_subclonal_indels_per_samples.count_indels > count_indels_threshold].count_indels.sum()))"
   ]
  },
  {
   "cell_type": "code",
   "execution_count": 24,
   "id": "75375759-9846-4396-936c-0c72f6d44315",
   "metadata": {
    "tags": []
   },
   "outputs": [
    {
     "data": {
      "text/plain": [
       "670"
      ]
     },
     "execution_count": 24,
     "metadata": {},
     "output_type": "execute_result"
    }
   ],
   "source": [
    "len(set(excluded_samples_count_indels).intersection(excluded_samples_count_snvs))"
   ]
  },
  {
   "cell_type": "code",
   "execution_count": 25,
   "id": "ba296091-c2b5-4cb0-9740-0c0d4be9c88e",
   "metadata": {
    "tags": []
   },
   "outputs": [
    {
     "name": "stdout",
     "output_type": "stream",
     "text": [
      "Filtered 996934 indels after excluding all samples\n",
      "Filtered 2507339 SNVs after excluding all samples\n"
     ]
    }
   ],
   "source": [
    "excluded_samples_by_count_variants = set(excluded_samples_count_indels).union(excluded_samples_count_snvs)\n",
    "print(\"Filtered {} indels after excluding all samples\".format(\n",
    "    count_subclonal_indels_per_samples[count_subclonal_indels_per_samples[\"sample\"].isin(excluded_samples_by_count_variants)].count_indels.sum()))\n",
    "print(\"Filtered {} SNVs after excluding all samples\".format(\n",
    "    count_subclonal_snvs_per_samples[count_subclonal_snvs_per_samples[\"sample\"].isin(excluded_samples_by_count_variants)].count_snvs.sum()))"
   ]
  },
  {
   "cell_type": "markdown",
   "id": "2ee6c86e-8628-413b-86aa-47721069a22a",
   "metadata": {},
   "source": [
    "### Sample distribution and number of subclonal SNVs by technology"
   ]
  },
  {
   "cell_type": "code",
   "execution_count": 26,
   "id": "f3154dd4-d5af-4323-9a5c-1cf98d80dd1b",
   "metadata": {
    "tags": []
   },
   "outputs": [],
   "source": [
    "colors_library_strategy = {\n",
    "    \"RNA-Seq\": blue,\n",
    "    \"Targeted-Capture\": orange,\n",
    "    \"WGS\": green,\n",
    "    \"WGA\": grey\n",
    "}"
   ]
  },
  {
   "cell_type": "code",
   "execution_count": 27,
   "id": "79b83233-da96-40ac-bf06-e046c27ba52f",
   "metadata": {
    "tags": []
   },
   "outputs": [
    {
     "data": {
      "image/png": "[encoded data removed]",
      "text/plain": [
       "<Figure size 1440x576 with 1 Axes>"
      ]
     },
     "metadata": {
      "needs_background": "light"
     },
     "output_type": "display_data"
    }
   ],
   "source": [
    "fig, ax = plt.subplots(1, 1, figsize=(20, 8))\n",
    "splot = sns.barplot(data=sample_ena[[\"library_strategy\", \"run_accession\", \"month\"]].groupby([\"month\", \"library_strategy\"]).count().reset_index(), \n",
    "            y=\"run_accession\", x=\"month\", hue='library_strategy', palette=colors_library_strategy)\n",
    "plt.xticks(rotation=30)\n",
    "ax.legend(loc='upper right')\n",
    "splot.set(xlabel=None, ylabel=None)\n",
    "fig.savefig(os.path.join(figure_output_folder, \"figure_02_distribution_samples_through_time_by_technology\"), dpi=200)"
   ]
  },
  {
   "cell_type": "code",
   "execution_count": 28,
   "id": "b7ebbc5b-8973-45a3-9b45-3a285488ce35",
   "metadata": {},
   "outputs": [],
   "source": [
    "def plot_subclonal_per_sample(subclonal_data, sample_data, title=None):\n",
    "    count_subclonal_snvs_per_sample_and_library_strategy = pd.merge(\n",
    "        left=subclonal_data[[\"sample\", \"variant_id\"]], \n",
    "        right=sample_data[[\"run_accession\", \"library_strategy\"]],\n",
    "        left_on=\"sample\", right_on=\"run_accession\", how=\"inner\")[[\"sample\", \"variant_id\", \"library_strategy\"]] \\\n",
    "    .groupby([\"sample\", \"library_strategy\"]).count().reset_index().rename(columns={'variant_id': 'count_snvs'})\n",
    "    fig, ax = plt.subplots(1, 1, figsize=(12, 8))\n",
    "    splot = sns.boxplot(data=count_subclonal_snvs_per_sample_and_library_strategy, x=\"count_snvs\", y=\"library_strategy\", palette=colors_library_strategy)\n",
    "    splot.set(xscale=\"log\", xlabel=None, ylabel=None, title=title)\n",
    "    plt.tight_layout()\n",
    "    return splot.figure"
   ]
  },
  {
   "cell_type": "code",
   "execution_count": 29,
   "id": "4a4939d6-7758-4abe-987b-dbb4d1a7d0c7",
   "metadata": {},
   "outputs": [
    {
     "data": {
      "image/png": "[encoded data removed]",
      "text/plain": [
       "<Figure size 864x576 with 1 Axes>"
      ]
     },
     "metadata": {
      "needs_background": "light"
     },
     "output_type": "display_data"
    }
   ],
   "source": [
    "fig = plot_subclonal_per_sample(subclonal_data=subclonal_snvs, sample_data=sample_ena, title='No. of SNVs')\n",
    "fig.savefig(os.path.join(figure_output_folder, \"figure_03_count_snvs_by_technology\"), dpi=200)"
   ]
  },
  {
   "cell_type": "code",
   "execution_count": 30,
   "id": "57a6a167-bbbc-466c-8425-0cb5f404eba3",
   "metadata": {},
   "outputs": [
    {
     "data": {
      "image/png": "[encoded data removed]",
      "text/plain": [
       "<Figure size 864x576 with 1 Axes>"
      ]
     },
     "metadata": {
      "needs_background": "light"
     },
     "output_type": "display_data"
    }
   ],
   "source": [
    "fig = plot_subclonal_per_sample(subclonal_data=subclonal_indels, sample_data=sample_ena, title='No. of indels')\n",
    "fig.savefig(os.path.join(figure_output_folder, \"figure_03_count_indels_by_technology\"), dpi=200)"
   ]
  },
  {
   "cell_type": "code",
   "execution_count": 31,
   "id": "ad9e738a-b2ca-4d8b-bcf9-eaa51f1865c7",
   "metadata": {
    "tags": []
   },
   "outputs": [
    {
     "name": "stdout",
     "output_type": "stream",
     "text": [
      "Total excluded samples: 6275\n"
     ]
    }
   ],
   "source": [
    "# excludes samples effectively\n",
    "excluded_samples = sample_ena[(sample_ena.run_accession.isin(excluded_samples_by_count_variants)) | (sample_ena.library_strategy == \"RNA-Seq\")].run_accession.unique()\n",
    "sample_ena_filtered_samples = sample_ena[~sample_ena.run_accession.isin(excluded_samples)]\n",
    "subclonal_snvs_filtered_samples = subclonal_snvs[~subclonal_snvs[\"sample\"].isin(excluded_samples)]\n",
    "subclonal_indels_filtered_samples = subclonal_indels[~subclonal_indels[\"sample\"].isin(excluded_samples)]\n",
    "print(\"Total excluded samples: {}\".format(excluded_samples.shape[0]))"
   ]
  },
  {
   "cell_type": "markdown",
   "id": "adbe21a0-3bb0-47fa-acef-4cb7b6eaf96b",
   "metadata": {},
   "source": [
    "### Filter out low quality SNVs\n",
    "\n",
    "* Filter out SNVs with too high coverage at the position. The distribution of DP has a long tail on the higher end, thus we filter out anything above the 99th percentile.\n",
    "* The quality reported by LoFreq is not a Phred score. We filter out variant calls with quality less than or equal to 50.\n",
    "* We filter variant calls with a strand bias score (ie: the lower the better) greater than 100.\n",
    "* The number of supporting reads is calculated using the VAF and the DP. All variant calls with less than 10 supporting reads are filtered out.\n",
    "* Finally, we filter all variant calls with a VAF lower than 0.01\n",
    "\n",
    "The above rules allows us to filter down to **18.23 % of unique subclonal variants** and to **1.05 % of subclonal variant calls**. This represents **17.46 % of all possible SARS-CoV-2 mutations**."
   ]
  },
  {
   "cell_type": "code",
   "execution_count": 32,
   "id": "60558d55-130b-4bda-b950-ad6de2f93db3",
   "metadata": {
    "tags": []
   },
   "outputs": [
    {
     "data": {
      "text/plain": [
       "[None]"
      ]
     },
     "execution_count": 32,
     "metadata": {},
     "output_type": "execute_result"
    },
    {
     "data": {
      "image/png": "[encoded data removed]",
      "text/plain": [
       "<Figure size 432x288 with 1 Axes>"
      ]
     },
     "metadata": {
      "needs_background": "light"
     },
     "output_type": "display_data"
    }
   ],
   "source": [
    "splot = sns.boxplot(subclonal_snvs_filtered_samples.dp)\n",
    "splot.set(xscale=\"log\")"
   ]
  },
  {
   "cell_type": "code",
   "execution_count": 33,
   "id": "bc08654f-5866-4b0a-a288-40bd34e5509b",
   "metadata": {
    "tags": []
   },
   "outputs": [
    {
     "data": {
      "text/plain": [
       "20915.0"
      ]
     },
     "execution_count": 33,
     "metadata": {},
     "output_type": "execute_result"
    }
   ],
   "source": [
    "subclonal_snvs_filtered_samples.dp.quantile(0.99)"
   ]
  },
  {
   "cell_type": "code",
   "execution_count": 34,
   "id": "8366b9ed-661e-4add-a9ba-19704ff95ec0",
   "metadata": {
    "tags": []
   },
   "outputs": [
    {
     "name": "stdout",
     "output_type": "stream",
     "text": [
      "Filtering all variants on positions with DP > 20915.0 removes 16082 variants\n"
     ]
    }
   ],
   "source": [
    "DP_UPPER_THRESHOLD = subclonal_snvs_filtered_samples.dp.quantile(0.99)\n",
    "print(\"Filtering all variants on positions with DP > {} removes {} variants\".format(DP_UPPER_THRESHOLD, subclonal_snvs_filtered_samples[subclonal_snvs_filtered_samples.dp > DP_UPPER_THRESHOLD].shape[0]))"
   ]
  },
  {
   "cell_type": "code",
   "execution_count": 35,
   "id": "13bfaa8f-36d7-4dad-9c81-732e19a59ba1",
   "metadata": {
    "tags": []
   },
   "outputs": [
    {
     "data": {
      "text/plain": [
       "[None]"
      ]
     },
     "execution_count": 35,
     "metadata": {},
     "output_type": "execute_result"
    },
    {
     "data": {
      "image/png": "[encoded data removed]",
      "text/plain": [
       "<Figure size 432x288 with 1 Axes>"
      ]
     },
     "metadata": {
      "needs_background": "light"
     },
     "output_type": "display_data"
    }
   ],
   "source": [
    "splot = sns.boxplot(subclonal_snvs_filtered_samples.quality)\n",
    "splot.set(xscale=\"log\")"
   ]
  },
  {
   "cell_type": "code",
   "execution_count": 36,
   "id": "e9ea0082-449d-4a2d-a120-25f45ed624de",
   "metadata": {
    "tags": []
   },
   "outputs": [
    {
     "name": "stdout",
     "output_type": "stream",
     "text": [
      "Filtering all variants on positions with quality <= 50 removes 16288 variants\n"
     ]
    }
   ],
   "source": [
    "QUALITY_THRESHOLD = 50 #subclonal_snvs.quality.quantile(0.01)\n",
    "print(\"Filtering all variants on positions with quality <= {} removes {} variants\".format(QUALITY_THRESHOLD, subclonal_snvs_filtered_samples[subclonal_snvs_filtered_samples.quality <= QUALITY_THRESHOLD].shape[0]))"
   ]
  },
  {
   "cell_type": "code",
   "execution_count": 37,
   "id": "3aa84f3e-6b4b-436c-a867-df9a0ca000ca",
   "metadata": {
    "tags": []
   },
   "outputs": [
    {
     "name": "stdout",
     "output_type": "stream",
     "text": [
      "There are 2 extreme values for strand bias\n"
     ]
    }
   ],
   "source": [
    "print(\"There are {} extreme values for strand bias\".format(subclonal_snvs_filtered_samples[subclonal_snvs_filtered_samples.strand_bias > 1000000].shape[0]))"
   ]
  },
  {
   "cell_type": "code",
   "execution_count": 38,
   "id": "edc622f3-a144-4d54-9534-c8b0761267d1",
   "metadata": {
    "tags": []
   },
   "outputs": [
    {
     "data": {
      "text/plain": [
       "[None]"
      ]
     },
     "execution_count": 38,
     "metadata": {},
     "output_type": "execute_result"
    },
    {
     "data": {
      "image/png": "[encoded data removed]",
      "text/plain": [
       "<Figure size 432x288 with 1 Axes>"
      ]
     },
     "metadata": {
      "needs_background": "light"
     },
     "output_type": "display_data"
    }
   ],
   "source": [
    "splot = sns.boxplot(subclonal_snvs_filtered_samples[subclonal_snvs_filtered_samples.strand_bias < 1000000].strand_bias)\n",
    "splot.set(xscale=\"log\")"
   ]
  },
  {
   "cell_type": "code",
   "execution_count": 39,
   "id": "f087159c-5cc9-46b5-b573-847e26c8ae4f",
   "metadata": {
    "tags": []
   },
   "outputs": [
    {
     "name": "stdout",
     "output_type": "stream",
     "text": [
      "Filtering all variants on positions with strand bias > 100 removes 5015 variants\n"
     ]
    }
   ],
   "source": [
    "STRAND_BIAS_THRESHOLD = 100\n",
    "print(\"Filtering all variants on positions with strand bias > {} removes {} variants\".format(\n",
    "    STRAND_BIAS_THRESHOLD, subclonal_snvs_filtered_samples[subclonal_snvs_filtered_samples.strand_bias > STRAND_BIAS_THRESHOLD].shape[0]))"
   ]
  },
  {
   "cell_type": "code",
   "execution_count": 40,
   "id": "e669dea4-c794-448f-9e06-26e539980e1c",
   "metadata": {
    "tags": []
   },
   "outputs": [
    {
     "data": {
      "text/plain": [
       "[None]"
      ]
     },
     "execution_count": 40,
     "metadata": {},
     "output_type": "execute_result"
    },
    {
     "data": {
      "image/png": "[encoded data removed]",
      "text/plain": [
       "<Figure size 432x288 with 1 Axes>"
      ]
     },
     "metadata": {
      "needs_background": "light"
     },
     "output_type": "display_data"
    }
   ],
   "source": [
    "subclonal_snvs_filtered_samples[\"supporting_reads\"] = subclonal_snvs_filtered_samples.vaf * subclonal_snvs_filtered_samples.dp\n",
    "splot = sns.boxplot(subclonal_snvs_filtered_samples.supporting_reads)\n",
    "splot.set(xscale=\"log\")"
   ]
  },
  {
   "cell_type": "code",
   "execution_count": 41,
   "id": "8fabc571-5f12-4a8b-b6fb-73d8d1dff67c",
   "metadata": {
    "tags": []
   },
   "outputs": [
    {
     "name": "stdout",
     "output_type": "stream",
     "text": [
      "Filtering all variants on positions with supporting_reads < 3 removes 209456 variants\n"
     ]
    }
   ],
   "source": [
    "SUPPORTING_READS_THRESHOLD = 3\n",
    "print(\"Filtering all variants on positions with supporting_reads < {} removes {} variants\".format(\n",
    "    SUPPORTING_READS_THRESHOLD, subclonal_snvs_filtered_samples[subclonal_snvs_filtered_samples.supporting_reads < SUPPORTING_READS_THRESHOLD].shape[0]))"
   ]
  },
  {
   "cell_type": "code",
   "execution_count": 42,
   "id": "10b6007f-0d3c-4db8-bf38-c06ac0e4b6be",
   "metadata": {
    "tags": []
   },
   "outputs": [
    {
     "name": "stdout",
     "output_type": "stream",
     "text": [
      "Filtering all variants with VAF < 0.001 removes 1073 variants\n"
     ]
    }
   ],
   "source": [
    "MINIMUM_VAF_THRESHOLD = 0.001\n",
    "print(\"Filtering all variants with VAF < {} removes {} variants\".format(MINIMUM_VAF_THRESHOLD, subclonal_snvs_filtered_samples[subclonal_snvs_filtered_samples.vaf < MINIMUM_VAF_THRESHOLD].shape[0]))"
   ]
  },
  {
   "cell_type": "code",
   "execution_count": 43,
   "id": "9c622bda-cfcb-40be-8002-9f662cfb224e",
   "metadata": {
    "tags": []
   },
   "outputs": [],
   "source": [
    "def filter_out_variants(data, dp_upper_threshold=DP_UPPER_THRESHOLD, quality_threshold=QUALITY_THRESHOLD, strand_bias_threshold=STRAND_BIAS_THRESHOLD,\n",
    "                       supporting_reads_threshold=SUPPORTING_READS_THRESHOLD, minimum_vaf_threshold=MINIMUM_VAF_THRESHOLD):\n",
    "    data_filtered_variants = data[\n",
    "        (data.dp <= dp_upper_threshold) &\n",
    "        (data.quality > quality_threshold) &\n",
    "        (data.strand_bias <= strand_bias_threshold) &\n",
    "        (data.supporting_reads >= supporting_reads_threshold) &\n",
    "        (data.vaf >= minimum_vaf_threshold)\n",
    "    ]\n",
    "    print(\"Filtered subclonal SNV calls {}\".format(data.shape[0] - data_filtered_variants.shape[0]))\n",
    "    print(\"Subclonal SNV calls after filtering {}\".format(data_filtered_variants.shape[0]))\n",
    "    count_unique_after_filtering = data_filtered_variants.variant_id.unique().shape[0]\n",
    "    print(\"Subclonal unique SNVs after filtering {} ({} % of all possible mutations)\".format(count_unique_after_filtering, round(count_unique_after_filtering / (SARS_COV_2_GENOME_LENGTH * 3) * 100, 3)))\n",
    "    return data_filtered_variants"
   ]
  },
  {
   "cell_type": "code",
   "execution_count": 44,
   "id": "d9622b29-6f88-4b9e-8cb0-954b067232c6",
   "metadata": {},
   "outputs": [
    {
     "name": "stdout",
     "output_type": "stream",
     "text": [
      "Filtered subclonal SNV calls 36580\n",
      "Subclonal SNV calls after filtering 1571674\n",
      "Subclonal unique SNVs after filtering 79005 (88.068 % of all possible mutations)\n"
     ]
    }
   ],
   "source": [
    "subclonal_snvs_filtered_vaf0_sr0 = filter_out_variants(subclonal_snvs_filtered_samples, minimum_vaf_threshold=0.0, supporting_reads_threshold=0)"
   ]
  },
  {
   "cell_type": "code",
   "execution_count": 45,
   "id": "59f83ed2-b50f-4b7c-bce0-f201f4cddefd",
   "metadata": {
    "tags": []
   },
   "outputs": [
    {
     "name": "stdout",
     "output_type": "stream",
     "text": [
      "Filtered subclonal SNV calls 954577\n",
      "Subclonal SNV calls after filtering 653677\n",
      "Subclonal unique SNVs after filtering 68285 (76.118 % of all possible mutations)\n"
     ]
    }
   ],
   "source": [
    "subclonal_snvs_filtered_vaf001 = filter_out_variants(subclonal_snvs_filtered_samples, minimum_vaf_threshold=0.01)"
   ]
  },
  {
   "cell_type": "code",
   "execution_count": 46,
   "id": "f59de92f-e3cf-4194-99e7-3cd6f7ff1dd2",
   "metadata": {},
   "outputs": [
    {
     "name": "stdout",
     "output_type": "stream",
     "text": [
      "Filtered subclonal SNV calls 1204636\n",
      "Subclonal SNV calls after filtering 403618\n",
      "Subclonal unique SNVs after filtering 60482 (67.42 % of all possible mutations)\n"
     ]
    }
   ],
   "source": [
    "subclonal_snvs_filtered_vaf002 = filter_out_variants(subclonal_snvs_filtered_samples, minimum_vaf_threshold=0.02)"
   ]
  },
  {
   "cell_type": "code",
   "execution_count": 47,
   "id": "61b9eb6f-2066-499d-b6a7-d12302f97924",
   "metadata": {},
   "outputs": [
    {
     "name": "stdout",
     "output_type": "stream",
     "text": [
      "Filtered subclonal SNV calls 1309158\n",
      "Subclonal SNV calls after filtering 299096\n",
      "Subclonal unique SNVs after filtering 54413 (60.655 % of all possible mutations)\n"
     ]
    }
   ],
   "source": [
    "subclonal_snvs_filtered_vaf003 = filter_out_variants(subclonal_snvs_filtered_samples, minimum_vaf_threshold=0.03)"
   ]
  },
  {
   "cell_type": "code",
   "execution_count": 48,
   "id": "f751f40f-1261-4c52-acac-ad19d70ed08e",
   "metadata": {
    "tags": []
   },
   "outputs": [
    {
     "name": "stdout",
     "output_type": "stream",
     "text": [
      "Filtered subclonal SNV calls 1413000\n",
      "Subclonal SNV calls after filtering 195254\n",
      "Subclonal unique SNVs after filtering 44677 (49.802 % of all possible mutations)\n"
     ]
    }
   ],
   "source": [
    "subclonal_snvs_filtered_vaf005 = filter_out_variants(subclonal_snvs_filtered_samples, minimum_vaf_threshold=0.05)"
   ]
  },
  {
   "cell_type": "code",
   "execution_count": 49,
   "id": "a97c6796-ad10-4a04-abc3-1c05bd4f23f7",
   "metadata": {
    "tags": []
   },
   "outputs": [
    {
     "name": "stdout",
     "output_type": "stream",
     "text": [
      "Filtered subclonal SNV calls 1501433\n",
      "Subclonal SNV calls after filtering 106821\n",
      "Subclonal unique SNVs after filtering 29835 (33.258 % of all possible mutations)\n"
     ]
    }
   ],
   "source": [
    "subclonal_snvs_filtered_vaf01 = filter_out_variants(subclonal_snvs_filtered_samples, minimum_vaf_threshold=0.1)"
   ]
  },
  {
   "cell_type": "code",
   "execution_count": 50,
   "id": "11ee9268-f834-401a-9b73-5d1a9e1f31ad",
   "metadata": {},
   "outputs": [
    {
     "name": "stdout",
     "output_type": "stream",
     "text": [
      "Filtered subclonal SNV calls 1548574\n",
      "Subclonal SNV calls after filtering 59680\n",
      "Subclonal unique SNVs after filtering 16235 (18.097 % of all possible mutations)\n"
     ]
    }
   ],
   "source": [
    "subclonal_snvs_filtered_vaf02 = filter_out_variants(subclonal_snvs_filtered_samples, minimum_vaf_threshold=0.2)"
   ]
  },
  {
   "cell_type": "code",
   "execution_count": 51,
   "id": "2e016152-c0ac-4297-bcb2-d11ef3064254",
   "metadata": {},
   "outputs": [
    {
     "name": "stdout",
     "output_type": "stream",
     "text": [
      "Filtered subclonal SNV calls 1567886\n",
      "Subclonal SNV calls after filtering 40368\n",
      "Subclonal unique SNVs after filtering 10010 (11.158 % of all possible mutations)\n"
     ]
    }
   ],
   "source": [
    "subclonal_snvs_filtered_vaf03 = filter_out_variants(subclonal_snvs_filtered_samples, minimum_vaf_threshold=0.3)"
   ]
  },
  {
   "cell_type": "code",
   "execution_count": 52,
   "id": "c96ab49e-5fe0-4fa2-8cab-2ce163c67c27",
   "metadata": {},
   "outputs": [
    {
     "data": {
      "text/plain": [
       "(37246,)"
      ]
     },
     "execution_count": 52,
     "metadata": {},
     "output_type": "execute_result"
    }
   ],
   "source": [
    "subclonal_snvs_filtered_samples[\"sample\"].unique().shape"
   ]
  },
  {
   "cell_type": "code",
   "execution_count": 53,
   "id": "c8c58eb0-1a18-4cd2-955f-9b46cad8fa94",
   "metadata": {
    "tags": []
   },
   "outputs": [
    {
     "data": {
      "image/png": "[encoded data removed]",
      "text/plain": [
       "<Figure size 1440x576 with 1 Axes>"
      ]
     },
     "metadata": {
      "needs_background": "light"
     },
     "output_type": "display_data"
    }
   ],
   "source": [
    "fig = plot_vaf(clonal_data=clonal_snvs, subclonal_data=subclonal_snvs_filtered_vaf001, title=\"High quality subclonal SNVs (VAF >= 1 %) + clonal SNVs\")\n"
   ]
  },
  {
   "cell_type": "code",
   "execution_count": 54,
   "id": "43331511-1769-47ad-9179-9a4104116bc0",
   "metadata": {},
   "outputs": [
    {
     "data": {
      "image/png": "[encoded data removed]",
      "text/plain": [
       "<Figure size 864x576 with 1 Axes>"
      ]
     },
     "metadata": {
      "needs_background": "light"
     },
     "output_type": "display_data"
    }
   ],
   "source": [
    "fig = plot_subclonal_per_sample(subclonal_data=subclonal_snvs_filtered_vaf001, sample_data=sample_ena_filtered_samples, title=\"VAF >= 1 %\")\n",
    "fig.savefig(os.path.join(figure_output_folder, \"figure_04_count_snvs_by_technology_after_filtering_vaf_1.png\"), dpi=200)"
   ]
  },
  {
   "cell_type": "code",
   "execution_count": 55,
   "id": "a7d0a842-fcb3-4559-9f75-9c880d135d64",
   "metadata": {},
   "outputs": [
    {
     "data": {
      "image/png": "[encoded data removed]",
      "text/plain": [
       "<Figure size 864x576 with 1 Axes>"
      ]
     },
     "metadata": {
      "needs_background": "light"
     },
     "output_type": "display_data"
    }
   ],
   "source": [
    "fig = plot_subclonal_per_sample(subclonal_data=subclonal_snvs_filtered_vaf002, sample_data=sample_ena_filtered_samples, title=\"VAF >= 2 %\")\n",
    "fig.savefig(os.path.join(figure_output_folder, \"figure_04_count_snvs_by_technology_after_filtering_vaf_2.png\"), dpi=200)"
   ]
  },
  {
   "cell_type": "code",
   "execution_count": 56,
   "id": "a185c0a6-f81e-4515-91ca-cdd2a47323fb",
   "metadata": {},
   "outputs": [
    {
     "data": {
      "image/png": "[encoded data removed]",
      "text/plain": [
       "<Figure size 864x576 with 1 Axes>"
      ]
     },
     "metadata": {
      "needs_background": "light"
     },
     "output_type": "display_data"
    }
   ],
   "source": [
    "fig = plot_subclonal_per_sample(subclonal_data=subclonal_snvs_filtered_vaf003, sample_data=sample_ena_filtered_samples, title=\"VAF >= 3 %\")\n",
    "fig.savefig(os.path.join(figure_output_folder, \"figure_04_count_snvs_by_technology_after_filtering_vaf_3.png\"), dpi=200)"
   ]
  },
  {
   "cell_type": "code",
   "execution_count": 57,
   "id": "5d2ed79e-629d-437b-bc70-8c90e2aef789",
   "metadata": {},
   "outputs": [
    {
     "data": {
      "image/png": "[encoded data removed]",
      "text/plain": [
       "<Figure size 864x576 with 1 Axes>"
      ]
     },
     "metadata": {
      "needs_background": "light"
     },
     "output_type": "display_data"
    }
   ],
   "source": [
    "fig = plot_subclonal_per_sample(subclonal_data=subclonal_snvs_filtered_vaf005, sample_data=sample_ena_filtered_samples, title=\"VAF >= 5 %\")\n",
    "fig.savefig(os.path.join(figure_output_folder, \"figure_04_count_snvs_by_technology_after_filtering_vaf_5.png\"), dpi=200)"
   ]
  },
  {
   "cell_type": "code",
   "execution_count": 58,
   "id": "8d4362b3-a1ec-441d-a085-103603040140",
   "metadata": {},
   "outputs": [
    {
     "data": {
      "image/png": "[encoded data removed]",
      "text/plain": [
       "<Figure size 864x576 with 1 Axes>"
      ]
     },
     "metadata": {
      "needs_background": "light"
     },
     "output_type": "display_data"
    }
   ],
   "source": [
    "fig = plot_subclonal_per_sample(subclonal_data=subclonal_snvs_filtered_vaf01, sample_data=sample_ena_filtered_samples, title=\"VAF >= 10 %\")\n",
    "fig.savefig(os.path.join(figure_output_folder, \"figure_04_count_snvs_by_technology_after_filtering_vaf_10.png\"), dpi=200)"
   ]
  },
  {
   "cell_type": "code",
   "execution_count": 59,
   "id": "3eecf933-24ce-4ab3-a051-0d936d2a46c2",
   "metadata": {},
   "outputs": [
    {
     "data": {
      "image/png": "[encoded data removed]",
      "text/plain": [
       "<Figure size 864x576 with 1 Axes>"
      ]
     },
     "metadata": {
      "needs_background": "light"
     },
     "output_type": "display_data"
    }
   ],
   "source": [
    "fig = plot_subclonal_per_sample(subclonal_data=subclonal_snvs_filtered_vaf02, sample_data=sample_ena_filtered_samples, title=\"VAF >= 20 %\")\n",
    "fig.savefig(os.path.join(figure_output_folder, \"figure_04_count_snvs_by_technology_after_filtering_vaf_20.png\"), dpi=200)"
   ]
  },
  {
   "cell_type": "code",
   "execution_count": 60,
   "id": "ef39fd5e-f9c8-40e6-b417-72b6a5224c54",
   "metadata": {},
   "outputs": [
    {
     "data": {
      "image/png": "[encoded data removed]",
      "text/plain": [
       "<Figure size 864x576 with 1 Axes>"
      ]
     },
     "metadata": {
      "needs_background": "light"
     },
     "output_type": "display_data"
    }
   ],
   "source": [
    "fig = plot_subclonal_per_sample(subclonal_data=subclonal_snvs_filtered_vaf03, sample_data=sample_ena_filtered_samples, title=\"VAF >= 30 %\")\n",
    "fig.savefig(os.path.join(figure_output_folder, \"figure_04_count_snvs_by_technology_after_filtering_vaf_30.png\"), dpi=200)"
   ]
  },
  {
   "cell_type": "markdown",
   "id": "7df3d291-dae9-4c15-bc4d-4672e777d473",
   "metadata": {},
   "source": [
    "### Recurrent subclonal variants"
   ]
  },
  {
   "cell_type": "code",
   "execution_count": 61,
   "id": "a0701935-6107-41f5-8ccf-6d6c0bb6c997",
   "metadata": {},
   "outputs": [],
   "source": [
    "def filter_out_non_recurrent_variants(data, recurrence_threshold=2):\n",
    "    counts = data[[\"variant_id\", \"sample\"]].groupby(\"variant_id\").count().reset_index().rename(columns={\"sample\": \"count\"})\n",
    "    non_recurrent_variant_ids = counts[counts[\"count\"] < recurrence_threshold].variant_id\n",
    "    data_filtered = data[~data.variant_id.isin(non_recurrent_variant_ids)]\n",
    "    print(\"Filtered out {} unique variants and {} variant calls\".format(non_recurrent_variant_ids.shape[0], data.shape[0] - data_filtered.shape[0]))\n",
    "    return data_filtered"
   ]
  },
  {
   "cell_type": "code",
   "execution_count": 62,
   "id": "d9e377ae-bdf0-476b-ab8f-26eddb694c3f",
   "metadata": {},
   "outputs": [
    {
     "name": "stdout",
     "output_type": "stream",
     "text": [
      "Filtered out 11353 unique variants and 11353 variant calls\n"
     ]
    }
   ],
   "source": [
    "subclonal_snvs_filtered_samples_recurrence2 = filter_out_non_recurrent_variants(data=subclonal_snvs_filtered_vaf0_sr0)"
   ]
  },
  {
   "cell_type": "code",
   "execution_count": 63,
   "id": "1d93dba4-a7c3-401b-a7b1-020985713565",
   "metadata": {},
   "outputs": [
    {
     "name": "stdout",
     "output_type": "stream",
     "text": [
      "Filtered out 20321 unique variants and 29289 variant calls\n"
     ]
    }
   ],
   "source": [
    "subclonal_snvs_filtered_samples_recurrence3 = filter_out_non_recurrent_variants(data=subclonal_snvs_filtered_vaf0_sr0, recurrence_threshold=3)"
   ]
  },
  {
   "cell_type": "code",
   "execution_count": 64,
   "id": "0a426611-118c-49ae-af49-3908b789aa86",
   "metadata": {},
   "outputs": [
    {
     "name": "stdout",
     "output_type": "stream",
     "text": [
      "Filtered out 26795 unique variants and 48711 variant calls\n"
     ]
    }
   ],
   "source": [
    "subclonal_snvs_filtered_samples_recurrence4 = filter_out_non_recurrent_variants(data=subclonal_snvs_filtered_vaf0_sr0, recurrence_threshold=4)"
   ]
  },
  {
   "cell_type": "code",
   "execution_count": 65,
   "id": "7f5c11e4-9f9b-4e64-ad94-3812ba1c22df",
   "metadata": {},
   "outputs": [
    {
     "name": "stdout",
     "output_type": "stream",
     "text": [
      "Filtered out 15677 unique variants and 15677 variant calls\n"
     ]
    }
   ],
   "source": [
    "subclonal_snvs_filtered_samples_vaf001_sr3_recurrence2 = filter_out_non_recurrent_variants(data=subclonal_snvs_filtered_vaf001)"
   ]
  },
  {
   "cell_type": "code",
   "execution_count": 66,
   "id": "bf979294-6902-40c4-b8e3-3b5940293972",
   "metadata": {},
   "outputs": [
    {
     "name": "stdout",
     "output_type": "stream",
     "text": [
      "Filtered out 16263 unique variants and 16263 variant calls\n"
     ]
    }
   ],
   "source": [
    "subclonal_snvs_filtered_samples_vaf01_sr3_recurrence2 = filter_out_non_recurrent_variants(data=subclonal_snvs_filtered_vaf01)"
   ]
  },
  {
   "cell_type": "markdown",
   "id": "d1032431-de03-47a0-9476-9917aca51e66",
   "metadata": {
    "tags": []
   },
   "source": [
    "## Variant allele frequency distribution through time\n",
    "\n",
    "1,132 samples were excluded due to a missing collection date."
   ]
  },
  {
   "cell_type": "code",
   "execution_count": 67,
   "id": "f667c2dd-c6a1-41ab-a751-38bcebb625c4",
   "metadata": {
    "tags": []
   },
   "outputs": [
    {
     "ename": "NameError",
     "evalue": "name 'subclonal_snvs_filtered_variants' is not defined",
     "output_type": "error",
     "traceback": [
      "\u001b[0;31m---------------------------------------------------------------------------\u001b[0m",
      "\u001b[0;31mNameError\u001b[0m                                 Traceback (most recent call last)",
      "\u001b[0;32m<ipython-input-67-c9eb6515bc60>\u001b[0m in \u001b[0;36m<module>\u001b[0;34m()\u001b[0m\n\u001b[0;32m----> 1\u001b[0;31m \u001b[0mcount_subclonal_variants_per_sample\u001b[0m \u001b[0;34m=\u001b[0m \u001b[0msubclonal_snvs_filtered_variants\u001b[0m\u001b[0;34m[\u001b[0m\u001b[0;34m[\u001b[0m\u001b[0;34m\"sample\"\u001b[0m\u001b[0;34m,\u001b[0m \u001b[0;34m\"variant_id\"\u001b[0m\u001b[0;34m]\u001b[0m\u001b[0;34m]\u001b[0m\u001b[0;34m.\u001b[0m\u001b[0mgroupby\u001b[0m\u001b[0;34m(\u001b[0m\u001b[0;34m\"sample\"\u001b[0m\u001b[0;34m)\u001b[0m\u001b[0;34m.\u001b[0m\u001b[0mcount\u001b[0m\u001b[0;34m(\u001b[0m\u001b[0;34m)\u001b[0m\u001b[0;34m.\u001b[0m\u001b[0mreset_index\u001b[0m\u001b[0;34m(\u001b[0m\u001b[0;34m)\u001b[0m\u001b[0;34m\u001b[0m\u001b[0;34m\u001b[0m\u001b[0m\n\u001b[0m\u001b[1;32m      2\u001b[0m \u001b[0mcount_subclonal_variants_per_sample\u001b[0m\u001b[0;34m.\u001b[0m\u001b[0mhead\u001b[0m\u001b[0;34m(\u001b[0m\u001b[0;34m)\u001b[0m\u001b[0;34m\u001b[0m\u001b[0;34m\u001b[0m\u001b[0m\n",
      "\u001b[0;31mNameError\u001b[0m: name 'subclonal_snvs_filtered_variants' is not defined"
     ]
    }
   ],
   "source": [
    "count_subclonal_variants_per_sample = subclonal_snvs_filtered_variants[[\"sample\", \"variant_id\"]].groupby(\"sample\").count().reset_index()\n",
    "count_subclonal_variants_per_sample.head()"
   ]
  },
  {
   "cell_type": "code",
   "execution_count": null,
   "id": "25ad1f82-5937-450a-bf13-f75521e93e4c",
   "metadata": {
    "tags": []
   },
   "outputs": [],
   "source": [
    "samples_with_counts = pd.merge(left=sample_ena_filtered_samples[[\"run_accession\", \"month\"]], right=count_subclonal_variants_per_sample, left_on=\"run_accession\", right_on=\"sample\", how=\"inner\")\n",
    "samples_with_counts.head()"
   ]
  },
  {
   "cell_type": "code",
   "execution_count": null,
   "id": "cc9210ac-b39d-4fe7-97ba-a9887d6932ec",
   "metadata": {
    "tags": []
   },
   "outputs": [],
   "source": [
    "samples_with_counts.shape"
   ]
  },
  {
   "cell_type": "code",
   "execution_count": null,
   "id": "84f114ea-2482-43f4-8cbb-f659bb6ba37c",
   "metadata": {
    "tags": []
   },
   "outputs": [],
   "source": [
    "subclonal_variant_with_month = pd.merge(left=subclonal_variants[[\"sample\", \"vaf\"]], right=sample_ena[[\"run_accession\", \"month\"]], right_on=\"run_accession\", left_on=\"sample\", how=\"inner\")"
   ]
  },
  {
   "cell_type": "code",
   "execution_count": null,
   "id": "130096f4-3fd1-4214-a355-3e7f30b53d87",
   "metadata": {
    "tags": []
   },
   "outputs": [],
   "source": [
    "sample_counts_per_month = samples_with_counts[[\"month\", \"sample\"]].groupby(\"month\").count().reset_index()\n",
    "sample_counts_per_month.head()"
   ]
  },
  {
   "cell_type": "code",
   "execution_count": null,
   "id": "2c71ecde-37ee-4012-8e74-86ff3713b20c",
   "metadata": {
    "tags": []
   },
   "outputs": [],
   "source": [
    "fig, (ax1, ax2, ax3) = plt.subplots(3, sharex=True, figsize=(20, 14), gridspec_kw={'height_ratios': [3, 3, 1]})\n",
    "sns.boxplot(data=samples_with_counts.sort_values(\"month\"), y=\"variant_id\", x=\"month\", ax=ax1, color='lightgrey')\n",
    "sns.boxplot(data=subclonal_variant_with_month.sort_values(\"month\"), y=\"vaf\", x=\"month\", ax=ax2, color='lightgrey')\n",
    "sns.barplot(data=sample_counts_per_month, y=\"sample\", x=\"month\", ax=ax3, color='lightgrey')\n",
    "ax1.set_ylabel(\"variants / sample (log)\")\n",
    "ax2.set_ylabel(\"variant allele frequency\")\n",
    "ax3.set_ylabel(\"# samples\")\n",
    "ax1.set_yscale('log')\n",
    "ax2.set_yscale('log')\n",
    "ax1.set_xlabel(None)\n",
    "ax2.set_xlabel(None)\n",
    "ax3.set_xlabel(None)\n",
    "plt.xticks(rotation=30)\n",
    "sns.despine(bottom=True, left=True)\n",
    "ax1.grid(axis='y')\n",
    "ax2.grid(axis='y')\n",
    "ax1.yaxis.set_major_formatter(ScalarFormatter())\n",
    "ax1.ticklabel_format(style='plain', axis='y')\n",
    "ax2.yaxis.set_major_formatter(ScalarFormatter())\n",
    "ax2.ticklabel_format(style='plain', axis='y')\n",
    "fig.savefig(\"subclonal_variant_allele_frequencies_evolution.jpg\", dpi=200)"
   ]
  },
  {
   "cell_type": "markdown",
   "id": "bcca19f4-3816-4c0a-aa4a-11f9d19c9a8c",
   "metadata": {
    "tags": []
   },
   "source": [
    "## Population allele frequency of subclonal and clonal variants through time"
   ]
  },
  {
   "cell_type": "code",
   "execution_count": null,
   "id": "61655928-95b2-4a87-9729-07e011a36514",
   "metadata": {
    "tags": []
   },
   "outputs": [],
   "source": [
    "all_variants = pd.concat([clonal_variants.loc[:, [\"sample\", \"variant_id\"]], subclonal_variants.loc[:, [\"sample\", \"variant_id\"]]])\n",
    "all_variants = pd.merge(left=all_variants, right=sample_ena[[\"run_accession\", \"month\"]], left_on=\"sample\", right_on=\"run_accession\", how=\"inner\")\n",
    "all_variants.head()"
   ]
  },
  {
   "cell_type": "code",
   "execution_count": null,
   "id": "e32f8dbc-8fea-4c62-b719-7b26e1bd2d07",
   "metadata": {
    "tags": []
   },
   "outputs": [],
   "source": [
    "sample_counts_per_month[\"sample_cumsum\"] = sample_counts_per_month.sort_values(\"month\")[\"sample\"].cumsum()\n",
    "sample_counts_per_month.head()"
   ]
  },
  {
   "cell_type": "code",
   "execution_count": null,
   "id": "cae97d22-0260-4d2d-b333-3ef23e096748",
   "metadata": {
    "tags": []
   },
   "outputs": [],
   "source": [
    "def plot_allele_frequencies_through_time(data, sample_counts_per_month, title):\n",
    "    count_samples = data[\"sample\"].unique().shape[0]\n",
    "    count_variant_recurrence_per_month = data[[\"month\", \"sample\", \"variant_id\"]].groupby([\"month\", \"variant_id\"]).count().reset_index()\n",
    "    count_variant_recurrence_per_month.sort_values(\"month\", inplace=True)\n",
    "    count_variant_recurrence_per_month.rename(columns={\"sample\": \"count\"}, inplace=True)\n",
    "    count_variant_recurrence_per_month[\"cumsum\"] = count_variant_recurrence_per_month.groupby(\"variant_id\")['count'].cumsum()\n",
    "    count_variant_recurrence_per_month_with_sample_counts = pd.merge(left=count_variant_recurrence_per_month, right=sample_counts_per_month, on=\"month\")\n",
    "    count_variant_recurrence_per_month_with_sample_counts[\"af\"] = count_variant_recurrence_per_month_with_sample_counts[\"cumsum\"] / count_variant_recurrence_per_month_with_sample_counts[\"sample_cumsum\"]\n",
    "    count_variant_recurrence_per_month_with_sample_counts[\"af_intramonth\"] = count_variant_recurrence_per_month_with_sample_counts[\"count\"] / count_variant_recurrence_per_month_with_sample_counts[\"sample\"]\n",
    "    \n",
    "    # plot\n",
    "    fig, (ax1, ax2) = plt.subplots(2, sharex=True, figsize=(20, 14), gridspec_kw={'height_ratios': [3, 3]})\n",
    "    sns.boxplot(data=count_variant_recurrence_per_month_with_sample_counts, x=\"month\", y=\"af\", ax=ax1, color=\"lightgrey\")\n",
    "    sns.boxplot(data=count_variant_recurrence_per_month_with_sample_counts, x=\"month\", y=\"af_intramonth\", ax=ax2, color=\"lightgrey\")\n",
    "    ax1.set_ylabel(\"accumulated allele frequency\")\n",
    "    ax2.set_ylabel(\"intra month allele frequency\")\n",
    "    ax1.set_yscale('log')\n",
    "    ax2.set_yscale('log')\n",
    "    ax1.set_xlabel(None)\n",
    "    ax2.set_xlabel(None)\n",
    "    plt.xticks(rotation=30)\n",
    "    sns.despine(bottom=True, left=True)\n",
    "    ax1.grid(axis='y')\n",
    "    ax2.grid(axis='y')\n",
    "    ax1.yaxis.set_major_formatter(ScalarFormatter())\n",
    "    ax1.ticklabel_format(style='plain', axis='y')\n",
    "    ax2.yaxis.set_major_formatter(ScalarFormatter())\n",
    "    ax2.ticklabel_format(style='plain', axis='y')\n",
    "    ax1.set_title(title)\n",
    "    fig.savefig(\"population_allele_frequencies_evolution_{}.jpg\".format(title.lower().replace(\" \", \"_\")), dpi=200)"
   ]
  },
  {
   "cell_type": "code",
   "execution_count": null,
   "id": "686e3715-7aa0-406d-86c1-394368153354",
   "metadata": {
    "tags": []
   },
   "outputs": [],
   "source": [
    "plot_allele_frequencies_through_time(data=all_variants, sample_counts_per_month=sample_counts_per_month, title=\"Clonal + subclonal variants\")"
   ]
  },
  {
   "cell_type": "code",
   "execution_count": null,
   "id": "bca6ff8f-559d-4eb8-99fd-420f585a9736",
   "metadata": {
    "tags": []
   },
   "outputs": [],
   "source": [
    "clonal_variants_with_month = pd.merge(left=clonal_variants.loc[:, [\"sample\", \"variant_id\"]], right=sample_ena[[\"run_accession\", \"month\"]], left_on=\"sample\", right_on=\"run_accession\", how=\"inner\")"
   ]
  },
  {
   "cell_type": "code",
   "execution_count": null,
   "id": "3c22e4b4-d8f3-49f2-bf8f-46f8b708a150",
   "metadata": {
    "tags": []
   },
   "outputs": [],
   "source": [
    "plot_allele_frequencies_through_time(data=clonal_variants_with_month, sample_counts_per_month=sample_counts_per_month, title=\"Clonal variants\")"
   ]
  },
  {
   "cell_type": "code",
   "execution_count": null,
   "id": "40a3e9c9-9574-4d00-b582-1f35a501e0f4",
   "metadata": {
    "tags": []
   },
   "outputs": [],
   "source": [
    "subclonal_variants_with_month = pd.merge(left=subclonal_variants.loc[:, [\"sample\", \"variant_id\"]], right=sample_ena[[\"run_accession\", \"month\"]], left_on=\"sample\", right_on=\"run_accession\", how=\"inner\")"
   ]
  },
  {
   "cell_type": "code",
   "execution_count": null,
   "id": "bdbac4b2-e5b4-458e-9856-87b27a43ee41",
   "metadata": {
    "tags": []
   },
   "outputs": [],
   "source": [
    "plot_allele_frequencies_through_time(data=subclonal_variants_with_month, sample_counts_per_month=sample_counts_per_month, title=\"Subclonal variants\")"
   ]
  },
  {
   "cell_type": "code",
   "execution_count": null,
   "id": "8118a137-e7f1-436c-af2f-b2216be3aada",
   "metadata": {
    "tags": []
   },
   "outputs": [],
   "source": [
    "ns_all_variants_with_month = pd.merge(\n",
    "    left=pd.concat([subclonal_variants.loc[subclonal_variants[\"annotation_highest_impact\"] == \"missense_variant\", [\"sample\", \"variant_id\"]], \n",
    "                    clonal_variants.loc[clonal_variants[\"annotation_highest_impact\"] == \"missense_variant\", [\"sample\", \"variant_id\"]]]),\n",
    "    right=sample_ena[[\"run_accession\", \"month\"]], left_on=\"sample\", right_on=\"run_accession\", how=\"inner\")\n",
    "plot_allele_frequencies_through_time(data=ns_all_variants_with_month, sample_counts_per_month=sample_counts_per_month, title=\"Missense clonal + subclonal variants\")"
   ]
  },
  {
   "cell_type": "code",
   "execution_count": null,
   "id": "8239f7f2-a377-4f1e-8e3c-8b9707fe385c",
   "metadata": {
    "tags": []
   },
   "outputs": [],
   "source": [
    "ns_subclonal_variants_with_month = pd.merge(\n",
    "    left=subclonal_variants.loc[subclonal_variants[\"annotation_highest_impact\"] == \"missense_variant\", [\"sample\", \"variant_id\"]], \n",
    "    right=sample_ena[[\"run_accession\", \"month\"]], left_on=\"sample\", right_on=\"run_accession\", how=\"inner\")\n",
    "plot_allele_frequencies_through_time(data=ns_subclonal_variants_with_month, sample_counts_per_month=sample_counts_per_month, title=\"Missense subclonal variants\")"
   ]
  },
  {
   "cell_type": "code",
   "execution_count": null,
   "id": "b29e9ecf-737e-45fe-8cc1-9d91acf2142b",
   "metadata": {
    "tags": []
   },
   "outputs": [],
   "source": [
    "ns_clonal_variants_with_month = pd.merge(\n",
    "    left=clonal_variants.loc[clonal_variants[\"annotation_highest_impact\"] == \"missense_variant\", [\"sample\", \"variant_id\"]], \n",
    "    right=sample_ena[[\"run_accession\", \"month\"]], left_on=\"sample\", right_on=\"run_accession\", how=\"inner\")\n",
    "plot_allele_frequencies_through_time(data=ns_clonal_variants_with_month, sample_counts_per_month=sample_counts_per_month, title=\"Missense clonal variants\")"
   ]
  },
  {
   "cell_type": "markdown",
   "id": "348e01b5-a4e0-445d-b854-b514c69a80cc",
   "metadata": {},
   "source": [
    "## Correlations between clonal and subclonal"
   ]
  },
  {
   "cell_type": "code",
   "execution_count": null,
   "id": "8d479b40-057b-4168-b3ed-bf017af0947b",
   "metadata": {
    "tags": []
   },
   "outputs": [],
   "source": [
    "def plot_correlation(sample_data, clonal_data, subclonal_data, title=None):\n",
    "    \n",
    "    included_samples = sample_data.run_accession.unique()\n",
    "    frequencies_clonal_snvs = clonal_data[clonal_data[\"sample\"].isin(included_samples)][[\"variant_id\", \"sample\"]].groupby(\"variant_id\").count().reset_index()\n",
    "    frequencies_clonal_snvs[\"af\"] = frequencies_clonal_snvs[\"sample\"] / included_samples.shape[0]\n",
    "    frequencies_subclonal_snvs = subclonal_data[subclonal_data[\"sample\"].isin(included_samples)][[\"variant_id\", \"sample\"]].groupby(\"variant_id\").count().reset_index()\n",
    "    frequencies_subclonal_snvs[\"af\"] = frequencies_subclonal_snvs[\"sample\"] / included_samples.shape[0]\n",
    "    frequencies_snvs = pd.merge(left=frequencies_clonal_snvs[[\"variant_id\", \"af\"]], right=frequencies_subclonal_snvs[[\"variant_id\", \"af\"]], on=\"variant_id\", suffixes=(\"_clonal\", \"_subclonal\"))\n",
    "    \n",
    "    fig, ax = plt.subplots(1, 1, figsize=(20, 12))\n",
    "    sns.regplot(data=frequencies_snvs, x=\"af_clonal\", y=\"af_subclonal\")\n",
    "    plt.xticks(rotation=30)\n",
    "    sns.despine(bottom=True, left=True)\n",
    "    ax.set_xlabel(\"Clonal AF\")\n",
    "    ax.set_ylabel(\"Subclonal AF\")\n",
    "    plt.title(\"{} Pearson corr={}\".format(title, round(frequencies_snvs.corr().af_subclonal[0], 3)))\n",
    "    return fig"
   ]
  },
  {
   "cell_type": "code",
   "execution_count": null,
   "id": "173d79e1-010c-45ce-b91e-07741fcd5199",
   "metadata": {
    "tags": []
   },
   "outputs": [],
   "source": [
    "fig = plot_correlation(sample_data=sample_ena_filtered_samples, \n",
    "                 clonal_data=filter_out_synonymous_variants(clonal_snvs), \n",
    "                 subclonal_data=filter_out_synonymous_variants(subclonal_snvs_filtered_vaf001), \n",
    "                 title=\"Subclonal SNVs: VAF >= 1 %, \")\n",
    "fig.savefig(os.path.join(figure_output_folder, \"figure_05_correlation_clonal_subclonal_af_vaf_1.png\"), dpi=200)"
   ]
  },
  {
   "cell_type": "code",
   "execution_count": null,
   "id": "9f208b08-966a-4eb5-85da-6c279f84b947",
   "metadata": {},
   "outputs": [],
   "source": [
    "fig = plot_correlation(sample_data=sample_ena_filtered_samples, \n",
    "                 clonal_data=filter_out_synonymous_variants(clonal_snvs), \n",
    "                 subclonal_data=filter_out_synonymous_variants(subclonal_snvs_filtered_vaf002), \n",
    "                 title=\"Subclonal SNVs: VAF >= 2 %, \")\n",
    "fig.savefig(os.path.join(figure_output_folder, \"figure_05_correlation_clonal_subclonal_af_vaf_2.png\"), dpi=200)"
   ]
  },
  {
   "cell_type": "code",
   "execution_count": null,
   "id": "5676c017-af33-4679-9438-2d0a5576956d",
   "metadata": {},
   "outputs": [],
   "source": [
    "fig = plot_correlation(sample_data=sample_ena_filtered_samples, \n",
    "                 clonal_data=filter_out_synonymous_variants(clonal_snvs), \n",
    "                 subclonal_data=filter_out_synonymous_variants(subclonal_snvs_filtered_vaf003), \n",
    "                 title=\"Subclonal SNVs: VAF >= 3 %, \")\n",
    "fig.savefig(os.path.join(figure_output_folder, \"figure_05_correlation_clonal_subclonal_af_vaf_3.png\"), dpi=200)"
   ]
  },
  {
   "cell_type": "code",
   "execution_count": null,
   "id": "c4b84672-7ae8-48ea-ade9-726c4294b5b2",
   "metadata": {},
   "outputs": [],
   "source": [
    "fig = plot_correlation(sample_data=sample_ena_filtered_samples, \n",
    "                 clonal_data=filter_out_synonymous_variants(clonal_snvs), \n",
    "                 subclonal_data=filter_out_synonymous_variants(subclonal_snvs_filtered_vaf005), \n",
    "                 title=\"Subclonal SNVs: VAF >= 5 %, \")\n",
    "fig.savefig(os.path.join(figure_output_folder, \"figure_05_correlation_clonal_subclonal_af_vaf_5.png\"), dpi=200)"
   ]
  },
  {
   "cell_type": "code",
   "execution_count": null,
   "id": "9c8699be-d06c-4b1e-9f3e-4160366fea89",
   "metadata": {},
   "outputs": [],
   "source": [
    "fig = plot_correlation(sample_data=sample_ena_filtered_samples, \n",
    "                 clonal_data=filter_out_synonymous_variants(clonal_snvs), \n",
    "                 subclonal_data=filter_out_synonymous_variants(subclonal_snvs_filtered_vaf01), \n",
    "                 title=\"Subclonal SNVs: VAF >= 10 %, \")\n",
    "fig.savefig(os.path.join(figure_output_folder, \"figure_05_correlation_clonal_subclonal_af_vaf_10.png\"), dpi=200)"
   ]
  },
  {
   "cell_type": "code",
   "execution_count": null,
   "id": "159182d0-d51b-4b12-9fd9-73783201f8cf",
   "metadata": {},
   "outputs": [],
   "source": [
    "fig = plot_correlation(sample_data=sample_ena_filtered_samples, \n",
    "                 clonal_data=filter_out_synonymous_variants(clonal_snvs), \n",
    "                 subclonal_data=filter_out_synonymous_variants(subclonal_snvs_filtered_vaf02), \n",
    "                 title=\"Subclonal SNVs: VAF >= 20 %, \")\n",
    "fig.savefig(os.path.join(figure_output_folder, \"figure_05_correlation_clonal_subclonal_af_vaf_20.png\"), dpi=200)"
   ]
  },
  {
   "cell_type": "code",
   "execution_count": null,
   "id": "100ebd55-65e1-4dff-8b87-4e8cab9f412d",
   "metadata": {},
   "outputs": [],
   "source": [
    "fig = plot_correlation(sample_data=sample_ena_filtered_samples, \n",
    "                 clonal_data=filter_out_synonymous_variants(clonal_snvs), \n",
    "                 subclonal_data=filter_out_synonymous_variants(subclonal_snvs_filtered_vaf03), \n",
    "                 title=\"Subclonal SNVs: VAF >= 30 %, \")\n",
    "fig.savefig(os.path.join(figure_output_folder, \"figure_05_correlation_clonal_subclonal_af_vaf_30.png\"), dpi=200)"
   ]
  },
  {
   "cell_type": "markdown",
   "id": "67c86894-9c38-4495-862c-56e05df45929",
   "metadata": {
    "tags": []
   },
   "source": [
    "## Evolution from subclonal into clonal"
   ]
  },
  {
   "cell_type": "code",
   "execution_count": null,
   "id": "6ae1a46e-211a-452f-9c86-18b827d32dc4",
   "metadata": {
    "tags": []
   },
   "outputs": [],
   "source": [
    "def plot_upset(clonal_data, subclonal_data, month):\n",
    "    data = pd.merge(left=clonal_data[clonal_data.month <= month][[\"variant_id\", \"clonal\"]],\n",
    "             right=subclonal_data[subclonal_data.month <= month][[\"variant_id\", \"subclonal\"]],\n",
    "             on=\"variant_id\", how=\"outer\").fillna(False)[[\"variant_id\", \"clonal\", \"subclonal\"]].groupby(\"variant_id\").sum().reset_index()\n",
    "    data.clonal = data.clonal.astype(bool)\n",
    "    data.subclonal = data.subclonal.astype(bool)\n",
    "    data.set_index([\"clonal\", \"subclonal\"], inplace=True)\n",
    "    #return data\n",
    "    fig = plt.figure(figsize=(10,6))\n",
    "    upset = UpSet(data, subset_size='auto', intersection_plot_elements=2, facecolor='steelblue', show_counts=True, element_size=80)\n",
    "    upset.plot(fig=fig)\n",
    "    plt.title(\"Until {}                                                                                                                 \".format(month))\n",
    "    fig.savefig(\"clonal_subclonal_upset_until_{}.jpg\".format(month), dpi=200)"
   ]
  },
  {
   "cell_type": "code",
   "execution_count": null,
   "id": "a2a7ea78-a65c-4e3b-8bb9-b9a1ebaddaff",
   "metadata": {
    "tags": []
   },
   "outputs": [],
   "source": [
    "def plot_subclonal_clonal_through_time(clonal_data, subclonal_data, samples_data, title=None):\n",
    "    \n",
    "    subclonal_data = add_dates_to_variants(variants=subclonal_data, samples=samples_data)\n",
    "    clonal_data = add_dates_to_variants(variants=clonal_data, samples=samples_data)\n",
    "    \n",
    "    months = list(clonal_data.collection_date_month.sort_values().unique())\n",
    "    only_clonal = []\n",
    "    only_subclonal = []\n",
    "    both = []\n",
    "    \n",
    "    for m in months:\n",
    "        subclonal_variant_ids = set(subclonal_data[subclonal_data.collection_date_month <= m].variant_id.unique())\n",
    "        clonal_variant_ids = set(clonal_data[clonal_data.collection_date_month <= m].variant_id.unique())\n",
    "        both.append(len(subclonal_variant_ids.intersection(clonal_variant_ids)))\n",
    "        only_clonal.append(len(clonal_variant_ids.difference(subclonal_variant_ids)))\n",
    "        only_subclonal.append(len(subclonal_variant_ids.difference(clonal_variant_ids)))\n",
    "    \n",
    "    all_counts = [x + y + z for x, y, z in  zip(only_clonal, only_subclonal, both)] \n",
    "    \n",
    "    \n",
    "    fig, ax = plt.subplots(1, 1, figsize=(20, 8))\n",
    "    sns.lineplot(x=pd.Series(months).astype(str), y=both, color=orange, label=\"Subclonal + clonal\", marker='o')\n",
    "    sns.lineplot(x=pd.Series(months).astype(str), y=only_clonal, color=lightblue, label=\"Only clonal\", marker='o')\n",
    "    sns.lineplot(x=pd.Series(months).astype(str), y=only_subclonal, color=green, label=\"Only subclonal\", marker='o')\n",
    "    sns.lineplot(x=pd.Series(months).astype(str), y=all_counts, color=grey, label=\"All\", linestyle='--')\n",
    "    plt.axhline(SARS_COV_2_GENOME_LENGTH * 3, linestyle='--', color=red, label=\"Max. number SNVs\")\n",
    "    plt.title(title)\n",
    "    plt.xlabel(None)\n",
    "    plt.ylabel(\"Number of unique mutations\")\n",
    "    plt.yscale('log')\n",
    "    plt.xticks(rotation=30)\n",
    "    plt.minorticks_on()\n",
    "    sns.despine(bottom=True, left=True)\n",
    "    ax.legend()\n",
    "    #ax.grid(axis='x')\n",
    "    ax.grid(axis='x', which='major', alpha=0.5, linewidth=0.5)\n",
    "    ax.grid(axis='y', which='minor', alpha=0.5, linestyle='dashed', linewidth=0.5)\n",
    "    #ax.yaxis.set_major_formatter(ScalarFormatter())\n",
    "    #ax.ticklabel_format(style='plain', axis='y')\n",
    "    plt.tight_layout()\n",
    "    return fig"
   ]
  },
  {
   "cell_type": "code",
   "execution_count": null,
   "id": "8c0c76d8-f469-410b-9a52-3c0c2ca92603",
   "metadata": {
    "tags": []
   },
   "outputs": [],
   "source": [
    "fig = plot_subclonal_clonal_through_time(\n",
    "    clonal_data=clonal_variants, \n",
    "    subclonal_data=subclonal_snvs_filtered_vaf0_sr0, \n",
    "    samples_data=sample_ena_filtered_samples, \n",
    "    title=\"High quality SNVs\")\n",
    "fig.savefig(os.path.join(figure_output_folder, \"figure_06_evolution_subclonal_into_clonal_snvs.png\"), dpi=200)"
   ]
  },
  {
   "cell_type": "code",
   "execution_count": null,
   "id": "cf58355d-b8b3-4553-8122-7e67493286fa",
   "metadata": {
    "tags": []
   },
   "outputs": [],
   "source": [
    "fig = plot_subclonal_clonal_through_time(\n",
    "    clonal_data=clonal_variants, \n",
    "    subclonal_data=subclonal_snvs_filtered_vaf001, \n",
    "    samples_data=sample_ena_filtered_samples, \n",
    "    title=\"High quality SNVs (VAF >= 1 %)\")\n",
    "fig.savefig(os.path.join(figure_output_folder, \"figure_06_evolution_subclonal_into_clonal_snvs_vaf_1.png\"), dpi=200)"
   ]
  },
  {
   "cell_type": "code",
   "execution_count": null,
   "id": "44ca09ae-1071-41b2-8f4f-9ac2859ae4b8",
   "metadata": {
    "tags": []
   },
   "outputs": [],
   "source": [
    "fig = plot_subclonal_clonal_through_time(\n",
    "    clonal_data=clonal_variants, \n",
    "    subclonal_data=subclonal_snvs_filtered_vaf002, \n",
    "    samples_data=sample_ena_filtered_samples, \n",
    "    title=\"High quality SNVs (VAF >= 2 %)\")\n",
    "fig.savefig(os.path.join(figure_output_folder, \"figure_06_evolution_subclonal_into_clonal_snvs_vaf_2.png\"), dpi=200)"
   ]
  },
  {
   "cell_type": "code",
   "execution_count": null,
   "id": "5224fca6-8b6a-4b21-9e43-31481f058dbb",
   "metadata": {
    "tags": []
   },
   "outputs": [],
   "source": [
    "fig = plot_subclonal_clonal_through_time(\n",
    "    clonal_data=clonal_variants, \n",
    "    subclonal_data=subclonal_snvs_filtered_vaf003, \n",
    "    samples_data=sample_ena_filtered_samples, \n",
    "    title=\"High quality SNVs (VAF >= 3 %)\")\n",
    "fig.savefig(os.path.join(figure_output_folder, \"figure_06_evolution_subclonal_into_clonal_snvs_vaf_3.png\"), dpi=200)"
   ]
  },
  {
   "cell_type": "code",
   "execution_count": null,
   "id": "146d4a0a-58f9-4ea9-872a-0db6576db676",
   "metadata": {
    "tags": []
   },
   "outputs": [],
   "source": [
    "fig = plot_subclonal_clonal_through_time(\n",
    "    clonal_data=clonal_variants, \n",
    "    subclonal_data=subclonal_snvs_filtered_vaf005, \n",
    "    samples_data=sample_ena_filtered_samples, \n",
    "    title=\"High quality SNVs (VAF >= 5 %)\")\n",
    "fig.savefig(os.path.join(figure_output_folder, \"figure_06_evolution_subclonal_into_clonal_snvs_vaf_5.png\"), dpi=200)"
   ]
  },
  {
   "cell_type": "code",
   "execution_count": null,
   "id": "b06718f4-8134-434f-919a-09ccb7343ec0",
   "metadata": {
    "tags": []
   },
   "outputs": [],
   "source": [
    "fig = plot_subclonal_clonal_through_time(\n",
    "    clonal_data=clonal_variants, \n",
    "    subclonal_data=subclonal_snvs_filtered_vaf01, \n",
    "    samples_data=sample_ena_filtered_samples, \n",
    "    title=\"High quality SNVs (VAF >= 10 %)\")\n",
    "fig.savefig(os.path.join(figure_output_folder, \"figure_06_evolution_subclonal_into_clonal_snvs_vaf_10.png\"), dpi=200)"
   ]
  },
  {
   "cell_type": "code",
   "execution_count": null,
   "id": "886aa937-2847-47de-b9d4-8806640a2275",
   "metadata": {
    "tags": []
   },
   "outputs": [],
   "source": [
    "fig = plot_subclonal_clonal_through_time(\n",
    "    clonal_data=clonal_variants, \n",
    "    subclonal_data=subclonal_snvs_filtered_vaf02, \n",
    "    samples_data=sample_ena_filtered_samples, \n",
    "    title=\"High quality SNVs (VAF >= 20 %)\")\n",
    "fig.savefig(os.path.join(figure_output_folder, \"figure_06_evolution_subclonal_into_clonal_snvs_vaf_20.png\"), dpi=200)"
   ]
  },
  {
   "cell_type": "code",
   "execution_count": null,
   "id": "8ddefee0-2673-4cde-9441-b2cb0a633e6b",
   "metadata": {
    "tags": []
   },
   "outputs": [],
   "source": [
    "fig = plot_subclonal_clonal_through_time(\n",
    "    clonal_data=clonal_variants, \n",
    "    subclonal_data=subclonal_snvs_filtered_vaf03, \n",
    "    samples_data=sample_ena_filtered_samples, \n",
    "    title=\"High quality SNVs (VAF >= 30 %)\")\n",
    "fig.savefig(os.path.join(figure_output_folder, \"figure_06_evolution_subclonal_into_clonal_snvs_vaf_30.png\"), dpi=200)"
   ]
  },
  {
   "cell_type": "markdown",
   "id": "62d4ec82-28de-4411-87cb-6f024796fc90",
   "metadata": {},
   "source": [
    "## Time from subclonal to clonal\n",
    "\n",
    "Here we aim to confirm if subclonal observations occur before clonal observations. For that purpose we look into those variants which have both clonal and subclonal observations and then look at the time between the first clonal observation and the first subclonal observation. We expect to see a trend that grows with the passing of time as subclonal observations accumulate. \n",
    "\n",
    "Depending on the filtering criteria applied on the subclonal dataset, the mutation space for SARS-CoV-2 is saturated very quickly, meaning that all possible mutations are in the subclonal dataset and thus virtually all clonal variants are previously observed as subclonal. Thus we aim to confirm that the expected trend holds when the mutation space is not saturated. The RNA-Seq samples have a strong effect on the quick saturation of the mutation space, as those are more prevalent on the early months of the dataset and RNA-Seq shows a larger average number of mutations per sample."
   ]
  },
  {
   "cell_type": "code",
   "execution_count": null,
   "id": "735431a8-28cd-4e33-8f58-94e10844386a",
   "metadata": {
    "tags": []
   },
   "outputs": [],
   "source": [
    "def plot_subclonal_to_clonal_time(clonal_data, subclonal_data, sample_data, title=None):\n",
    "    clonal_variant_ids = set(clonal_data.variant_id)\n",
    "    subclonal_variant_ids = set(subclonal_data.variant_id)\n",
    "    variants_of_interest = list(subclonal_variant_ids.intersection(clonal_variant_ids))\n",
    "    print(\"There are {} variants with clonal and subclonal observations\".format(len(variants_of_interest)))\n",
    "    \n",
    "    clonal_data_with_collection_date = add_dates_to_variants(variants=clonal_data, samples=sample_data)\n",
    "    subclonal_data_with_collection_date = add_dates_to_variants(variants=subclonal_data, samples=sample_data)\n",
    "    \n",
    "    first_clonal_observations = clonal_data_with_collection_date[clonal_data_with_collection_date.variant_id.isin(variants_of_interest)][[\"variant_id\", \"collection_date\"]]\\\n",
    "        .groupby(\"variant_id\").min().reset_index().rename(columns={\"collection_date\": \"first_clonal_observation\"})\n",
    "    first_clonal_observations.first_clonal_observation = pd.to_datetime(first_clonal_observations.first_clonal_observation)\n",
    "    \n",
    "    first_subclonal_observations = subclonal_data_with_collection_date[subclonal_data_with_collection_date.variant_id.isin(variants_of_interest)][[\"variant_id\", \"collection_date\"]]\\\n",
    "        .groupby(\"variant_id\").min().reset_index().rename(columns={\"collection_date\": \"first_subclonal_observation\"})\n",
    "    first_subclonal_observations.first_subclonal_observation = pd.to_datetime(first_subclonal_observations.first_subclonal_observation)\n",
    "    \n",
    "    first_clonal_subclonal_observations = pd.merge(left=first_clonal_observations, right=first_subclonal_observations, on=\"variant_id\", how=\"inner\")\n",
    "    first_clonal_subclonal_observations[\"time_from_subclonal_to_clonal\"] = first_clonal_subclonal_observations.first_clonal_observation - first_clonal_subclonal_observations.first_subclonal_observation\n",
    "    first_clonal_subclonal_observations[\"days_from_subclonal_to_clonal\"] = first_clonal_subclonal_observations.time_from_subclonal_to_clonal.transform(lambda x: int(x.days))\n",
    "    \n",
    "    predictable = first_clonal_subclonal_observations[first_clonal_subclonal_observations.days_from_subclonal_to_clonal > 0]\n",
    "    unpredictable = first_clonal_subclonal_observations[first_clonal_subclonal_observations.days_from_subclonal_to_clonal <= 0]\n",
    "    predictable = predictable[predictable.first_clonal_observation > '2020-02']\n",
    "    unpredictable = unpredictable[unpredictable.first_clonal_observation > '2020-02']\n",
    "    \n",
    "    predictable[\"first_subclonal_observation_month\"] = predictable.first_subclonal_observation.dt.to_period('m')\n",
    "    predictable[\"first_clonal_observation_month\"] = predictable.first_clonal_observation.dt.to_period('m')\n",
    "    unpredictable[\"first_subclonal_observation_month\"] = unpredictable.first_subclonal_observation.dt.to_period('m')\n",
    "    unpredictable[\"first_clonal_observation_month\"] = unpredictable.first_clonal_observation.dt.to_period('m')\n",
    "    \n",
    "    predictable_counts_per_month = predictable[[\"first_subclonal_observation_month\", \"variant_id\"]] \\\n",
    "        .groupby(\"first_subclonal_observation_month\").count().reset_index().rename(columns={\"variant_id\": \"count\"})\n",
    "    predictable_counts_per_month[\"class\"] = \"predictable\"\n",
    "    unpredictable_counts_per_month = unpredictable[[\"first_subclonal_observation_month\", \"variant_id\"]] \\\n",
    "        .groupby(\"first_subclonal_observation_month\").count().reset_index().rename(columns={\"variant_id\": \"count\"})\n",
    "    unpredictable_counts_per_month[\"class\"] = \"unpredictable\"\n",
    "\n",
    "    fig, (ax1, ax2) = plt.subplots(2, 1, figsize=(20, 12), gridspec_kw={'height_ratios': [2, 1]})\n",
    "    sns.scatterplot(data=predictable, \n",
    "                    x=\"first_clonal_observation\", \n",
    "                    y=\"days_from_subclonal_to_clonal\", \n",
    "                    marker=\"x\", color=orange, alpha=0.7,\n",
    "                    label=\"Predictable (n={})\".format(predictable.shape[0]),\n",
    "                    ax=ax1)\n",
    "    sns.scatterplot(data=unpredictable, \n",
    "                    x=\"first_clonal_observation\", \n",
    "                    y=\"days_from_subclonal_to_clonal\", \n",
    "                    marker=\"x\", color=grey, alpha=0.7,\n",
    "                    label=\"Unpredictable (n={})\".format(unpredictable.shape[0]),\n",
    "                    ax=ax1)\n",
    "    sbarplot = sns.barplot(data=pd.concat([predictable_counts_per_month, unpredictable_counts_per_month]).sort_values(\"first_subclonal_observation_month\"), \n",
    "                y=\"count\", x=\"first_subclonal_observation_month\", hue=\"class\",  ax=ax2, palette=[orange, grey])\n",
    "    for p in sbarplot.patches:\n",
    "        value = int(p.get_height()) if not math.isnan(p.get_height()) else 0\n",
    "        sbarplot.annotate(value, (p.get_x() + p.get_width() / 2., p.get_height()), ha = 'center', va = 'center', xytext = (0, 9), textcoords = 'offset points', size=10)\n",
    "    \n",
    "    ax1.tick_params(axis='x', labelrotation=30)\n",
    "    ax2.tick_params(axis='x', labelrotation=30)\n",
    "    ax1.set_title(title)\n",
    "    sns.despine(bottom=True, left=True)\n",
    "    ax1.grid(axis='y')\n",
    "    ax1.yaxis.set_major_formatter(ScalarFormatter())\n",
    "    ax1.ticklabel_format(style='plain', axis='y')\n",
    "    ax1.legend(loc='lower right')\n",
    "    ax2.legend().remove()\n",
    "    ax1.set_xlabel(\"1st clonal observation\")\n",
    "    ax2.set_ylabel(None)\n",
    "    ax2.set_xlabel(\"Abundance of 1st subclonal observations\")\n",
    "    ax1.set_ylabel(\"Days since 1st subclonal observation\")\n",
    "    ax2.set_yscale(\"log\")\n",
    "    \n",
    "    fig.tight_layout()\n",
    "\n",
    "    return fig"
   ]
  },
  {
   "cell_type": "code",
   "execution_count": null,
   "id": "0731a9fc-6d0a-4386-b911-da662fd56ad1",
   "metadata": {
    "tags": []
   },
   "outputs": [],
   "source": [
    "fig = plot_subclonal_to_clonal_time(\n",
    "    clonal_data=clonal_snvs, \n",
    "    subclonal_data=subclonal_snvs_filtered_vaf0_sr0, \n",
    "    sample_data=sample_ena_filtered_samples,\n",
    "    title=\"High quality SNVs observed as clonal and subclonal\")\n",
    "fig.savefig(os.path.join(figure_output_folder, \"figure_07_time_subclonal_into_clonal_snvs.png\"), dpi=200)"
   ]
  },
  {
   "cell_type": "code",
   "execution_count": null,
   "id": "8804804f-e25c-432f-a70e-d55863c4ad54",
   "metadata": {
    "tags": []
   },
   "outputs": [],
   "source": [
    "fig = plot_subclonal_to_clonal_time(\n",
    "    clonal_data=clonal_snvs, \n",
    "    subclonal_data=subclonal_snvs_filtered_vaf001, \n",
    "    sample_data=sample_ena_filtered_samples,\n",
    "    title=\"High quality SNVs observed as clonal and subclonal (VAF >= 1 %)\")\n",
    "fig.savefig(os.path.join(figure_output_folder, \"figure_07_time_subclonal_into_clonal_snvs_vaf_1.png\"), dpi=200)"
   ]
  },
  {
   "cell_type": "code",
   "execution_count": null,
   "id": "b2694808-86b5-41a4-920c-7819a8ed61d8",
   "metadata": {},
   "outputs": [],
   "source": [
    "fig = plot_subclonal_to_clonal_time(\n",
    "    clonal_data=clonal_snvs, \n",
    "    subclonal_data=subclonal_snvs_filtered_vaf002, \n",
    "    sample_data=sample_ena_filtered_samples,\n",
    "    title=\"High quality SNVs observed as clonal and subclonal (VAF >= 2 %)\")\n",
    "fig.savefig(os.path.join(figure_output_folder, \"figure_07_time_subclonal_into_clonal_snvs_vaf_2.png\"), dpi=200)"
   ]
  },
  {
   "cell_type": "code",
   "execution_count": null,
   "id": "e53fa518-2f5e-4f79-80b6-7d9cff3db20d",
   "metadata": {},
   "outputs": [],
   "source": [
    "fig = plot_subclonal_to_clonal_time(\n",
    "    clonal_data=clonal_snvs, \n",
    "    subclonal_data=subclonal_snvs_filtered_vaf003, \n",
    "    sample_data=sample_ena_filtered_samples,\n",
    "    title=\"High quality SNVs observed as clonal and subclonal (VAF >= 3 %)\")\n",
    "fig.savefig(os.path.join(figure_output_folder, \"figure_07_time_subclonal_into_clonal_snvs_vaf_3.png\"), dpi=200)"
   ]
  },
  {
   "cell_type": "code",
   "execution_count": null,
   "id": "972f47fe-8602-455a-974a-a6236902a163",
   "metadata": {},
   "outputs": [],
   "source": [
    "fig = plot_subclonal_to_clonal_time(\n",
    "    clonal_data=clonal_snvs, \n",
    "    subclonal_data=subclonal_snvs_filtered_vaf005, \n",
    "    sample_data=sample_ena_filtered_samples,\n",
    "    title=\"High quality SNVs observed as clonal and subclonal (VAF >= 5 %)\")\n",
    "fig.savefig(os.path.join(figure_output_folder, \"figure_07_time_subclonal_into_clonal_snvs_vaf_5.png\"), dpi=200)"
   ]
  },
  {
   "cell_type": "code",
   "execution_count": null,
   "id": "94426131-3df8-45dc-ad52-d4f08a05e097",
   "metadata": {},
   "outputs": [],
   "source": [
    "fig = plot_subclonal_to_clonal_time(\n",
    "    clonal_data=clonal_snvs, \n",
    "    subclonal_data=subclonal_snvs_filtered_vaf01, \n",
    "    sample_data=sample_ena_filtered_samples,\n",
    "    title=\"High quality SNVs observed as clonal and subclonal (VAF >= 10 %)\")\n",
    "fig.savefig(os.path.join(figure_output_folder, \"figure_07_time_subclonal_into_clonal_snvs_vaf_10.png\"), dpi=200)"
   ]
  },
  {
   "cell_type": "code",
   "execution_count": null,
   "id": "58545355-f81f-4d67-92f1-eb6e34ac2e12",
   "metadata": {},
   "outputs": [],
   "source": [
    "fig = plot_subclonal_to_clonal_time(\n",
    "    clonal_data=clonal_snvs, \n",
    "    subclonal_data=subclonal_snvs_filtered_vaf02, \n",
    "    sample_data=sample_ena_filtered_samples,\n",
    "    title=\"High quality SNVs observed as clonal and subclonal (VAF >= 20 %)\")\n",
    "fig.savefig(os.path.join(figure_output_folder, \"figure_07_time_subclonal_into_clonal_snvs_vaf_20.png\"), dpi=200)"
   ]
  },
  {
   "cell_type": "code",
   "execution_count": null,
   "id": "e126e14e-e5d2-4eb6-93d2-f9beed3b8601",
   "metadata": {},
   "outputs": [],
   "source": [
    "fig = plot_subclonal_to_clonal_time(\n",
    "    clonal_data=clonal_snvs, \n",
    "    subclonal_data=subclonal_snvs_filtered_vaf03, \n",
    "    sample_data=sample_ena_filtered_samples,\n",
    "    title=\"High quality SNVs observed as clonal and subclonal (VAF >= 30 %)\")\n",
    "fig.savefig(os.path.join(figure_output_folder, \"figure_07_time_subclonal_into_clonal_snvs_vaf_30.png\"), dpi=200)"
   ]
  },
  {
   "cell_type": "markdown",
   "id": "0a031217-53a7-45b7-888d-831cbc6beeaf",
   "metadata": {},
   "source": [
    "## Prioritise subclonal variants\n",
    "\n",
    "Here we aim at prioritising subclonal variants for their risk of becoming clonal."
   ]
  },
  {
   "cell_type": "markdown",
   "id": "a983ced2-a8a4-4bc5-a3a7-660fe002ad56",
   "metadata": {},
   "source": [
    "### Simulation on accumulated temporal data\n",
    "\n",
    "We have data accumulated since January 2020 until June 2021. Here we will use the data accumulated prior to January 2021 to prioritise variants only observed as subclonal. Then we will assess this prioritsation with the clonal variants that were first observed from January 2021 onwards.\n",
    "\n",
    "We will use the dataset filtering out all subclonal variants with a VAF < 0.1 and with less than 3 supporting reads as its population AFs show the larger correlation with the clonal variants. RNA-seq samples are also excluded."
   ]
  },
  {
   "cell_type": "code",
   "execution_count": 183,
   "id": "6a380949-107c-4c2b-9d19-d80311865f4b",
   "metadata": {},
   "outputs": [],
   "source": [
    "def select_test_and_truth_set(clonal_data, subclonal_data, sample_data):\n",
    "\n",
    "    clonal_data_with_dates = add_dates_to_variants(clonal_data[\n",
    "        (clonal_data.annotation_highest_impact != \"synonymous_variant\") & (~clonal_data.gene_name.isna())], sample_data)\n",
    "    subclonal_data_with_dates = add_dates_to_variants(subclonal_data[\n",
    "        (subclonal_data.annotation_highest_impact != \"synonymous_variant\") & (~subclonal_data.gene_name.isna())], sample_data)\n",
    "    \n",
    "    # gets only subclonal variants from 2020\n",
    "    subclonal_2020 = subclonal_data_with_dates[subclonal_data_with_dates.collection_date < '2021-01-01']\n",
    "    clonal_2020 = clonal_data_with_dates[clonal_data_with_dates.collection_date < '2021-01-01']\n",
    "    only_subclonal_2020 = subclonal_2020[~subclonal_2020.variant_id.isin(clonal_2020.variant_id.unique())]\n",
    "    \n",
    "    # gets the new clonal variants from 2021\n",
    "    clonal_first_observations = clonal_data_with_dates[[\"variant_id\", \"collection_date\"]].groupby(\"variant_id\").min().reset_index()\n",
    "    clonal_2021_variant_ids = clonal_first_observations[clonal_first_observations.collection_date >= '2021-01-01'].variant_id.unique()\n",
    "    clonal_2021 = clonal_data_with_dates[clonal_data_with_dates.variant_id.isin(clonal_2021_variant_ids)][[\"variant_id\", \"sample\"]]\n",
    "    \n",
    "    print(\"Only subclonal from 2020: {}\".format(only_subclonal_2020.variant_id.unique().shape[0]))\n",
    "    print(\"New clonal from 2021: {}\".format(clonal_2021.variant_id.unique().shape[0]))\n",
    "    print(\"Predictable: {}\".format(len(set(clonal_2021.variant_id).intersection(set(only_subclonal_2020.variant_id)))))\n",
    "    \n",
    "    return only_subclonal_2020, clonal_2021"
   ]
  },
  {
   "cell_type": "code",
   "execution_count": 184,
   "id": "3eee4e72-422d-454c-9355-4424a0b54d8b",
   "metadata": {},
   "outputs": [],
   "source": [
    "def prioritise_subclonal(subclonal_data, clonal_data):\n",
    "    subclonal_counts = subclonal_data[[\"sample\", \"variant_id\"]].groupby(\"variant_id\").count().reset_index().rename(columns={\"sample\": \"count_subclonal\"})\n",
    "    clonal_counts = clonal_data[[\"sample\", \"variant_id\"]].groupby(\"variant_id\").count().reset_index().rename(columns={\"sample\": \"count_clonal\"})\n",
    "    prioritised_subclonal = pd.merge(left=subclonal_counts, right=clonal_counts, on=\"variant_id\", how=\"left\").reset_index().sort_values(\"count_subclonal\", ascending=False).reset_index(drop=True)\n",
    "    prioritised_subclonal[\"match\"] = prioritised_subclonal.count_clonal > 0\n",
    "    del prioritised_subclonal[\"index\"]\n",
    "    prioritised_subclonal.reset_index(inplace=True)\n",
    "    prioritised_subclonal[\"rank\"] = prioritised_subclonal[\"index\"] + 1\n",
    "    prioritised_subclonal.fillna(0, inplace=True)\n",
    "    return prioritised_subclonal"
   ]
  },
  {
   "cell_type": "code",
   "execution_count": 185,
   "id": "d6139ab1-7722-49bb-bb1c-255c0133a728",
   "metadata": {},
   "outputs": [
    {
     "name": "stdout",
     "output_type": "stream",
     "text": [
      "Only subclonal from 2020: 36086\n",
      "New clonal from 2021: 3194\n",
      "Predictable: 2574\n",
      "Only subclonal from 2020: 30446\n",
      "New clonal from 2021: 3194\n",
      "Predictable: 2306\n",
      "Only subclonal from 2020: 26286\n",
      "New clonal from 2021: 3194\n",
      "Predictable: 2077\n",
      "Only subclonal from 2020: 20060\n",
      "New clonal from 2021: 3194\n",
      "Predictable: 1723\n",
      "Only subclonal from 2020: 11507\n",
      "New clonal from 2021: 3194\n",
      "Predictable: 1141\n",
      "Only subclonal from 2020: 4947\n",
      "New clonal from 2021: 3194\n",
      "Predictable: 558\n",
      "Only subclonal from 2020: 2375\n",
      "New clonal from 2021: 3194\n",
      "Predictable: 337\n"
     ]
    }
   ],
   "source": [
    "only_subclonal_2020_vaf001, clonal_2021_vaf001 = select_test_and_truth_set(\n",
    "    clonal_data=clonal_snvs, \n",
    "    subclonal_data=subclonal_snvs_filtered_vaf001, \n",
    "    sample_data=sample_ena_filtered_samples)\n",
    "only_subclonal_2020_vaf002, clonal_2021_vaf002 = select_test_and_truth_set(\n",
    "    clonal_data=clonal_snvs, \n",
    "    subclonal_data=subclonal_snvs_filtered_vaf002, \n",
    "    sample_data=sample_ena_filtered_samples)\n",
    "only_subclonal_2020_vaf003, clonal_2021_vaf003 = select_test_and_truth_set(\n",
    "    clonal_data=clonal_snvs, \n",
    "    subclonal_data=subclonal_snvs_filtered_vaf003, \n",
    "    sample_data=sample_ena_filtered_samples)\n",
    "only_subclonal_2020_vaf005, clonal_2021_vaf005 = select_test_and_truth_set(\n",
    "    clonal_data=clonal_snvs, \n",
    "    subclonal_data=subclonal_snvs_filtered_vaf005, \n",
    "    sample_data=sample_ena_filtered_samples)\n",
    "only_subclonal_2020_vaf01, clonal_2021_vaf01 = select_test_and_truth_set(\n",
    "    clonal_data=clonal_snvs, \n",
    "    subclonal_data=subclonal_snvs_filtered_vaf01, \n",
    "    sample_data=sample_ena_filtered_samples)\n",
    "only_subclonal_2020_vaf02, clonal_2021_vaf02 = select_test_and_truth_set(\n",
    "    clonal_data=clonal_snvs, \n",
    "    subclonal_data=subclonal_snvs_filtered_vaf02, \n",
    "    sample_data=sample_ena_filtered_samples)\n",
    "only_subclonal_2020_vaf03, clonal_2021_vaf03 = select_test_and_truth_set(\n",
    "    clonal_data=clonal_snvs, \n",
    "    subclonal_data=subclonal_snvs_filtered_vaf03, \n",
    "    sample_data=sample_ena_filtered_samples)"
   ]
  },
  {
   "cell_type": "code",
   "execution_count": 186,
   "id": "1230af1f-316e-4d01-965c-c4789818dec8",
   "metadata": {},
   "outputs": [],
   "source": [
    "prioritised_subclonal_vaf001 = prioritise_subclonal(subclonal_data=only_subclonal_2020_vaf001, clonal_data=clonal_2021_vaf001)\n",
    "prioritised_subclonal_vaf002 = prioritise_subclonal(subclonal_data=only_subclonal_2020_vaf002, clonal_data=clonal_2021_vaf002)\n",
    "prioritised_subclonal_vaf003 = prioritise_subclonal(subclonal_data=only_subclonal_2020_vaf003, clonal_data=clonal_2021_vaf003)\n",
    "prioritised_subclonal_vaf005 = prioritise_subclonal(subclonal_data=only_subclonal_2020_vaf005, clonal_data=clonal_2021_vaf005)\n",
    "prioritised_subclonal_vaf01 = prioritise_subclonal(subclonal_data=only_subclonal_2020_vaf01, clonal_data=clonal_2021_vaf01)\n",
    "prioritised_subclonal_vaf02 = prioritise_subclonal(subclonal_data=only_subclonal_2020_vaf02, clonal_data=clonal_2021_vaf02)\n",
    "prioritised_subclonal_vaf03 = prioritise_subclonal(subclonal_data=only_subclonal_2020_vaf03, clonal_data=clonal_2021_vaf03)"
   ]
  },
  {
   "cell_type": "code",
   "execution_count": 187,
   "id": "803acc15-b221-425a-bd68-4da124bbca8b",
   "metadata": {},
   "outputs": [],
   "source": [
    "def reset_rank_column(data):\n",
    "    del data[\"rank\"]\n",
    "    del data[\"index\"]\n",
    "    data.reset_index(drop=True, inplace=True)\n",
    "    data.reset_index(inplace=True)\n",
    "    data[\"rank\"] = data[\"index\"] + 1\n",
    "    return data\n",
    "\n",
    "def get_discounted_cumulative_gain(data, top=50, verbose=False):\n",
    "    top_data = data.head(top)\n",
    "    dcg = top_data[[\"match\", \"rank\"]].apply(lambda x: ((2 ** int(x[0])) - 1) / (np.log2(x[1] + 1)), axis=1).sum()\n",
    "    if verbose:\n",
    "        print(\"matches={}, ranks={}\".format(top_data.match.sum(), list(top_data[top_data.match][\"rank\"])))\n",
    "        print(\"DCG={}\".format(round(dcg, 3)))\n",
    "    return dcg\n",
    "\n",
    "def get_ideal_discounted_cumulative_gain(data, top=50):\n",
    "    ideal_data = reset_rank_column(data=data.sort_values(\"count_clonal\", ascending=False))\n",
    "    return get_discounted_cumulative_gain(data=ideal_data, top=top)\n",
    "\n",
    "def get_normalized_discounted_cumulative_gain(data, top=50, verbose=False, shuffles=100):\n",
    "    dcg = get_discounted_cumulative_gain(data=data, top=top, verbose=True)\n",
    "    ndcg = dcg / get_ideal_discounted_cumulative_gain(data=data, top=top)\n",
    "    print(\"nDCG={}\".format(round(ndcg, 3)))\n",
    "    \n",
    "    \n",
    "    random_dcgs = []\n",
    "    random_ndcgs = []\n",
    "    random_matches = []\n",
    "    for _ in range(shuffles):\n",
    "        shuffled = shuffle_order(data)\n",
    "        random_dcg = get_discounted_cumulative_gain(data=shuffled, top=top, verbose=verbose)\n",
    "        random_ndcg = random_dcg / get_ideal_discounted_cumulative_gain(data=shuffled, top=top)\n",
    "        random_dcgs.append(random_dcg)\n",
    "        random_ndcgs.append(random_ndcg)\n",
    "        random_matches.append(shuffled.head(top).match.sum())\n",
    "\n",
    "    print(\"Random sort (n={n}) median DCG={dcg}, uDCG={udcg}, matches={matches}, max uDCG={max_udcg}, matches={max_matches}\".format(\n",
    "        dcg=round(np.median(random_dcgs), 3), udcg=round(np.median(random_ndcgs), 3), matches=np.median(random_matches), \n",
    "        max_udcg=round(np.max(random_ndcgs), 3), max_matches=np.max(random_matches),\n",
    "        n=shuffles))\n",
    "    \n",
    "    return dcg, ndcg"
   ]
  },
  {
   "cell_type": "code",
   "execution_count": 188,
   "id": "9e0a9f14-6d45-43ab-944c-d790442f0985",
   "metadata": {},
   "outputs": [],
   "source": [
    "def shuffle_order(data):\n",
    "    random_prioritised_subclonal_2020 = data.sample(frac=1)\n",
    "    del random_prioritised_subclonal_2020[\"rank\"]\n",
    "    del random_prioritised_subclonal_2020[\"index\"]\n",
    "    random_prioritised_subclonal_2020.reset_index(drop=True)\n",
    "    random_prioritised_subclonal_2020.reset_index(inplace=True)\n",
    "    random_prioritised_subclonal_2020[\"rank\"] = random_prioritised_subclonal_2020[\"index\"] + 1\n",
    "    return random_prioritised_subclonal_2020"
   ]
  },
  {
   "cell_type": "code",
   "execution_count": 189,
   "id": "80c5fefd-7230-4a00-ab2d-ebf82b4be9ac",
   "metadata": {},
   "outputs": [
    {
     "name": "stdout",
     "output_type": "stream",
     "text": [
      "matches=5, ranks=[23, 31, 44, 46, 49]\n",
      "DCG=0.957\n",
      "nDCG=0.074\n",
      "Random sort (n=100) median DCG=0.236, uDCG=0.018, matches=3.0, max uDCG=0.052, matches=9\n"
     ]
    }
   ],
   "source": [
    "dcg, ndcg = get_normalized_discounted_cumulative_gain(data=prioritised_subclonal_vaf001)"
   ]
  },
  {
   "cell_type": "code",
   "execution_count": 190,
   "id": "74f1a219-c94c-4c22-8def-e4d515125126",
   "metadata": {},
   "outputs": [
    {
     "name": "stdout",
     "output_type": "stream",
     "text": [
      "matches=5, ranks=[19, 30, 32, 41, 42]\n",
      "DCG=1.001\n",
      "nDCG=0.078\n",
      "Random sort (n=100) median DCG=0.268, uDCG=0.021, matches=3.0, max uDCG=0.056, matches=10\n"
     ]
    }
   ],
   "source": [
    "dcg, ndcg = get_normalized_discounted_cumulative_gain(data=prioritised_subclonal_vaf002)"
   ]
  },
  {
   "cell_type": "code",
   "execution_count": 191,
   "id": "f58e0418-8544-486f-9151-dc010e936659",
   "metadata": {},
   "outputs": [
    {
     "name": "stdout",
     "output_type": "stream",
     "text": [
      "matches=4, ranks=[14, 20, 27, 35]\n",
      "DCG=0.885\n",
      "nDCG=0.069\n",
      "Random sort (n=100) median DCG=0.248, uDCG=0.019, matches=3.0, max uDCG=0.053, matches=8\n"
     ]
    }
   ],
   "source": [
    "dcg, ndcg = get_normalized_discounted_cumulative_gain(data=prioritised_subclonal_vaf003)"
   ]
  },
  {
   "cell_type": "code",
   "execution_count": 192,
   "id": "f45f1aa3-a158-4d49-b186-7b57bf035769",
   "metadata": {},
   "outputs": [
    {
     "name": "stdout",
     "output_type": "stream",
     "text": [
      "matches=4, ranks=[12, 14, 21, 49]\n",
      "DCG=0.928\n",
      "nDCG=0.072\n",
      "Random sort (n=100) median DCG=0.335, uDCG=0.026, matches=4.0, max uDCG=0.057, matches=9\n"
     ]
    }
   ],
   "source": [
    "dcg, ndcg = get_normalized_discounted_cumulative_gain(data=prioritised_subclonal_vaf005)"
   ]
  },
  {
   "cell_type": "code",
   "execution_count": 193,
   "id": "7b3f682f-9560-4d24-8faf-7a93922ce379",
   "metadata": {},
   "outputs": [
    {
     "name": "stdout",
     "output_type": "stream",
     "text": [
      "matches=6, ranks=[5, 31, 33, 42, 46, 48]\n",
      "DCG=1.326\n",
      "nDCG=0.103\n",
      "Random sort (n=100) median DCG=0.399, uDCG=0.031, matches=5.0, max uDCG=0.071, matches=11\n"
     ]
    }
   ],
   "source": [
    "dcg, ndcg = get_normalized_discounted_cumulative_gain(data=prioritised_subclonal_vaf01)"
   ]
  },
  {
   "cell_type": "code",
   "execution_count": 194,
   "id": "1dac38b4-0ffe-4b87-972e-1a4c166bd415",
   "metadata": {},
   "outputs": [
    {
     "name": "stdout",
     "output_type": "stream",
     "text": [
      "matches=9, ranks=[4, 14, 22, 27, 30, 43, 46, 48, 49]\n",
      "DCG=2.036\n",
      "nDCG=0.158\n",
      "Random sort (n=100) median DCG=0.557, uDCG=0.043, matches=6.0, max uDCG=0.098, matches=12\n"
     ]
    }
   ],
   "source": [
    "dcg, ndcg = get_normalized_discounted_cumulative_gain(data=prioritised_subclonal_vaf02)"
   ]
  },
  {
   "cell_type": "code",
   "execution_count": 195,
   "id": "e4e8d9e7-6900-4b9e-abc6-83245f789b45",
   "metadata": {},
   "outputs": [
    {
     "name": "stdout",
     "output_type": "stream",
     "text": [
      "matches=14, ranks=[6, 7, 9, 19, 22, 23, 28, 29, 32, 33, 38, 40, 42, 50]\n",
      "DCG=3.202\n",
      "nDCG=0.248\n",
      "Random sort (n=100) median DCG=0.741, uDCG=0.057, matches=7.0, max uDCG=0.107, matches=13\n"
     ]
    }
   ],
   "source": [
    "dcg, ndcg = get_normalized_discounted_cumulative_gain(data=prioritised_subclonal_vaf03)"
   ]
  },
  {
   "cell_type": "code",
   "execution_count": 196,
   "id": "55b34c1f-a717-4db9-a27e-f9731e5614b7",
   "metadata": {},
   "outputs": [],
   "source": [
    "def prioritise_subclonal_by_conservation(subclonal_data, clonal_data):\n",
    "    #subclonal_data_with_conservation = pd.merge(left=subclonal_data, right=subclonal_snvs[[\"variant_id\", \"cons_hmm_sars_cov_2\"]], on=\"variant_id\", how=\"left\").reset_index()\n",
    "    subclonal_counts = subclonal_data[[\"sample\", \"variant_id\"]].groupby(\"variant_id\").count().reset_index().rename(columns={\"sample\": \"count_subclonal\"})\n",
    "    subclonal_counts_with_annotations = pd.merge(left=subclonal_counts, right=subclonal_data, on=\"variant_id\", how=\"left\").groupby(\"variant_id\").first().reset_index()\n",
    "    clonal_counts = clonal_data[[\"sample\", \"variant_id\"]].groupby(\"variant_id\").count().reset_index().rename(columns={\"sample\": \"count_clonal\"})\n",
    "    subclonal_counts_with_annotations[\"af_cons\"] = subclonal_counts_with_annotations[[\"count_subclonal\", \"cons_hmm_sars_cov_2\"]].apply(lambda x: np.log(x[0])*x[1], axis=1)\n",
    "    prioritised_subclonal = pd.merge(left=subclonal_counts_with_annotations, right=clonal_counts, on=\"variant_id\", how=\"left\").reset_index().sort_values(\"af_cons\", ascending=True).reset_index(drop=True)\n",
    "    prioritised_subclonal[\"match\"] = prioritised_subclonal.count_clonal > 0\n",
    "    del prioritised_subclonal[\"index\"]\n",
    "    prioritised_subclonal.reset_index(inplace=True)\n",
    "    prioritised_subclonal[\"rank\"] = prioritised_subclonal[\"index\"] + 1\n",
    "    prioritised_subclonal.fillna(0, inplace=True)\n",
    "    return prioritised_subclonal"
   ]
  },
  {
   "cell_type": "code",
   "execution_count": 197,
   "id": "36ea0da9-3530-4e6a-a08a-19c830156035",
   "metadata": {},
   "outputs": [],
   "source": [
    "prioritised_subclonal_by_conservation_vaf001 = prioritise_subclonal_by_conservation(subclonal_data=only_subclonal_2020_vaf001, clonal_data=clonal_2021_vaf001)\n",
    "prioritised_subclonal_by_conservation_vaf002 = prioritise_subclonal_by_conservation(subclonal_data=only_subclonal_2020_vaf002, clonal_data=clonal_2021_vaf002)\n",
    "prioritised_subclonal_by_conservation_vaf003 = prioritise_subclonal_by_conservation(subclonal_data=only_subclonal_2020_vaf003, clonal_data=clonal_2021_vaf003)\n",
    "prioritised_subclonal_by_conservation_vaf005 = prioritise_subclonal_by_conservation(subclonal_data=only_subclonal_2020_vaf005, clonal_data=clonal_2021_vaf005)\n",
    "prioritised_subclonal_by_conservation_vaf01 = prioritise_subclonal_by_conservation(subclonal_data=only_subclonal_2020_vaf01, clonal_data=clonal_2021_vaf01)\n",
    "prioritised_subclonal_by_conservation_vaf02 = prioritise_subclonal_by_conservation(subclonal_data=only_subclonal_2020_vaf02, clonal_data=clonal_2021_vaf02)\n",
    "prioritised_subclonal_by_conservation_vaf03 = prioritise_subclonal_by_conservation(subclonal_data=only_subclonal_2020_vaf03, clonal_data=clonal_2021_vaf03)"
   ]
  },
  {
   "cell_type": "code",
   "execution_count": 198,
   "id": "e9e8bec1-355d-44dd-878a-4d713229a4ff",
   "metadata": {},
   "outputs": [
    {
     "name": "stdout",
     "output_type": "stream",
     "text": [
      "matches=8, ranks=[8, 18, 24, 41, 44, 46, 47, 49]\n",
      "DCG=1.67\n",
      "nDCG=0.129\n",
      "Random sort (n=100) median DCG=0.234, uDCG=0.018, matches=3.0, max uDCG=0.054, matches=9\n"
     ]
    }
   ],
   "source": [
    "dcg, ndcg = get_normalized_discounted_cumulative_gain(data=prioritised_subclonal_by_conservation_vaf001)"
   ]
  },
  {
   "cell_type": "code",
   "execution_count": 199,
   "id": "8dbf8d98-29bb-45cc-b99c-af65378e5589",
   "metadata": {},
   "outputs": [
    {
     "name": "stdout",
     "output_type": "stream",
     "text": [
      "matches=8, ranks=[8, 22, 32, 35, 36, 39, 46, 48]\n",
      "DCG=1.666\n",
      "nDCG=0.129\n",
      "Random sort (n=100) median DCG=0.292, uDCG=0.023, matches=4.0, max uDCG=0.067, matches=12\n"
     ]
    }
   ],
   "source": [
    "dcg, ndcg = get_normalized_discounted_cumulative_gain(data=prioritised_subclonal_by_conservation_vaf002)"
   ]
  },
  {
   "cell_type": "code",
   "execution_count": 200,
   "id": "46b5fbd8-861d-4bb0-b311-23192b28373b",
   "metadata": {},
   "outputs": [
    {
     "name": "stdout",
     "output_type": "stream",
     "text": [
      "matches=6, ranks=[6, 23, 29, 31, 32, 36]\n",
      "DCG=1.368\n",
      "nDCG=0.106\n",
      "Random sort (n=100) median DCG=0.293, uDCG=0.023, matches=4.0, max uDCG=0.059, matches=9\n"
     ]
    }
   ],
   "source": [
    "dcg, ndcg = get_normalized_discounted_cumulative_gain(data=prioritised_subclonal_by_conservation_vaf003)"
   ]
  },
  {
   "cell_type": "code",
   "execution_count": 201,
   "id": "7aade77d-c424-47b9-8ff7-d0a726cc0a47",
   "metadata": {},
   "outputs": [
    {
     "name": "stdout",
     "output_type": "stream",
     "text": [
      "matches=9, ranks=[5, 15, 29, 30, 36, 38, 42, 44, 46]\n",
      "DCG=1.97\n",
      "nDCG=0.153\n",
      "Random sort (n=100) median DCG=0.366, uDCG=0.028, matches=4.0, max uDCG=0.061, matches=10\n"
     ]
    }
   ],
   "source": [
    "dcg, ndcg = get_normalized_discounted_cumulative_gain(data=prioritised_subclonal_by_conservation_vaf005)"
   ]
  },
  {
   "cell_type": "code",
   "execution_count": 202,
   "id": "78af3194-a974-46fb-820b-57fca8a6cf1a",
   "metadata": {},
   "outputs": [
    {
     "name": "stdout",
     "output_type": "stream",
     "text": [
      "matches=10, ranks=[4, 13, 15, 17, 18, 22, 27, 34, 44, 50]\n",
      "DCG=2.401\n",
      "nDCG=0.186\n",
      "Random sort (n=100) median DCG=0.454, uDCG=0.035, matches=5.0, max uDCG=0.078, matches=12\n"
     ]
    }
   ],
   "source": [
    "dcg, ndcg = get_normalized_discounted_cumulative_gain(data=prioritised_subclonal_by_conservation_vaf01)"
   ]
  },
  {
   "cell_type": "code",
   "execution_count": 203,
   "id": "1e889a63-a9cc-4b87-86d4-2971d808df31",
   "metadata": {},
   "outputs": [
    {
     "name": "stdout",
     "output_type": "stream",
     "text": [
      "matches=10, ranks=[6, 7, 10, 12, 19, 23, 27, 28, 33, 42]\n",
      "DCG=2.493\n",
      "nDCG=0.193\n",
      "Random sort (n=100) median DCG=0.518, uDCG=0.04, matches=5.0, max uDCG=0.097, matches=11\n"
     ]
    }
   ],
   "source": [
    "dcg, ndcg = get_normalized_discounted_cumulative_gain(data=prioritised_subclonal_by_conservation_vaf02)"
   ]
  },
  {
   "cell_type": "code",
   "execution_count": 204,
   "id": "a5b02e70-87f0-4ad2-bb37-f2a2b53ac62d",
   "metadata": {},
   "outputs": [
    {
     "name": "stdout",
     "output_type": "stream",
     "text": [
      "matches=17, ranks=[2, 5, 7, 8, 10, 15, 16, 18, 20, 21, 22, 28, 29, 41, 45, 46, 48]\n",
      "DCG=4.493\n",
      "nDCG=0.348\n",
      "Random sort (n=100) median DCG=0.729, uDCG=0.056, matches=7.0, max uDCG=0.109, matches=13\n"
     ]
    }
   ],
   "source": [
    "dcg, ndcg = get_normalized_discounted_cumulative_gain(data=prioritised_subclonal_by_conservation_vaf03)"
   ]
  },
  {
   "cell_type": "code",
   "execution_count": 91,
   "id": "b2c30015-5943-4052-afb9-68ff5daf26f6",
   "metadata": {},
   "outputs": [
    {
     "data": {
      "text/html": [
       "<div>\n",
       "<style scoped>\n",
       "    .dataframe tbody tr th:only-of-type {\n",
       "        vertical-align: middle;\n",
       "    }\n",
       "\n",
       "    .dataframe tbody tr th {\n",
       "        vertical-align: top;\n",
       "    }\n",
       "\n",
       "    .dataframe thead th {\n",
       "        text-align: right;\n",
       "    }\n",
       "</style>\n",
       "<table border=\"1\" class=\"dataframe\">\n",
       "  <thead>\n",
       "    <tr style=\"text-align: right;\">\n",
       "      <th></th>\n",
       "      <th>index</th>\n",
       "      <th>variant_id</th>\n",
       "      <th>count_subclonal</th>\n",
       "      <th>sample</th>\n",
       "      <th>cons_hmm_sars_cov_2</th>\n",
       "      <th>gene_name</th>\n",
       "      <th>hgvs_p</th>\n",
       "      <th>run_accession</th>\n",
       "      <th>collection_date</th>\n",
       "      <th>collection_date_month</th>\n",
       "      <th>collection_date_month_str</th>\n",
       "      <th>af_cons</th>\n",
       "      <th>count_clonal</th>\n",
       "      <th>match</th>\n",
       "      <th>rank</th>\n",
       "    </tr>\n",
       "  </thead>\n",
       "  <tbody>\n",
       "    <tr>\n",
       "      <th>0</th>\n",
       "      <td>0</td>\n",
       "      <td>23607:G&gt;T</td>\n",
       "      <td>5</td>\n",
       "      <td>SRR11607709</td>\n",
       "      <td>-1.02973</td>\n",
       "      <td>S</td>\n",
       "      <td>p.R682L</td>\n",
       "      <td>SRR11607709</td>\n",
       "      <td>2020-02-07</td>\n",
       "      <td>2020-02</td>\n",
       "      <td>2020-02</td>\n",
       "      <td>-1.657286</td>\n",
       "      <td>0.0</td>\n",
       "      <td>False</td>\n",
       "      <td>1</td>\n",
       "    </tr>\n",
       "    <tr>\n",
       "      <th>1</th>\n",
       "      <td>1</td>\n",
       "      <td>28087:C&gt;G</td>\n",
       "      <td>6</td>\n",
       "      <td>ERR5502378</td>\n",
       "      <td>-0.80744</td>\n",
       "      <td>ORF8</td>\n",
       "      <td>p.A65G</td>\n",
       "      <td>ERR5502378</td>\n",
       "      <td>2020-11-12</td>\n",
       "      <td>2020-11</td>\n",
       "      <td>2020-11</td>\n",
       "      <td>-1.446738</td>\n",
       "      <td>2.0</td>\n",
       "      <td>True</td>\n",
       "      <td>2</td>\n",
       "    </tr>\n",
       "    <tr>\n",
       "      <th>2</th>\n",
       "      <td>2</td>\n",
       "      <td>15369:A&gt;T</td>\n",
       "      <td>3</td>\n",
       "      <td>ERR5218545</td>\n",
       "      <td>-1.04511</td>\n",
       "      <td>ORF1ab</td>\n",
       "      <td>p.Q5035L</td>\n",
       "      <td>ERR5218545</td>\n",
       "      <td>2020-12-13</td>\n",
       "      <td>2020-12</td>\n",
       "      <td>2020-12</td>\n",
       "      <td>-1.148171</td>\n",
       "      <td>0.0</td>\n",
       "      <td>False</td>\n",
       "      <td>3</td>\n",
       "    </tr>\n",
       "    <tr>\n",
       "      <th>3</th>\n",
       "      <td>3</td>\n",
       "      <td>8771:A&gt;G</td>\n",
       "      <td>3</td>\n",
       "      <td>ERR5737146</td>\n",
       "      <td>-1.04511</td>\n",
       "      <td>ORF1ab</td>\n",
       "      <td>p.T2836A</td>\n",
       "      <td>ERR5737146</td>\n",
       "      <td>2020-10-22</td>\n",
       "      <td>2020-10</td>\n",
       "      <td>2020-10</td>\n",
       "      <td>-1.148171</td>\n",
       "      <td>0.0</td>\n",
       "      <td>False</td>\n",
       "      <td>4</td>\n",
       "    </tr>\n",
       "    <tr>\n",
       "      <th>4</th>\n",
       "      <td>4</td>\n",
       "      <td>23031:T&gt;C</td>\n",
       "      <td>3</td>\n",
       "      <td>ERR6090796</td>\n",
       "      <td>-1.02973</td>\n",
       "      <td>S</td>\n",
       "      <td>p.F490S</td>\n",
       "      <td>ERR6090796</td>\n",
       "      <td>2020-03-28</td>\n",
       "      <td>2020-03</td>\n",
       "      <td>2020-03</td>\n",
       "      <td>-1.131274</td>\n",
       "      <td>48.0</td>\n",
       "      <td>True</td>\n",
       "      <td>5</td>\n",
       "    </tr>\n",
       "    <tr>\n",
       "      <th>5</th>\n",
       "      <td>5</td>\n",
       "      <td>28099:C&gt;T</td>\n",
       "      <td>3</td>\n",
       "      <td>SRR12427339</td>\n",
       "      <td>-0.80744</td>\n",
       "      <td>ORF8</td>\n",
       "      <td>p.S69L</td>\n",
       "      <td>SRR12427339</td>\n",
       "      <td>2020-06-24</td>\n",
       "      <td>2020-06</td>\n",
       "      <td>2020-06</td>\n",
       "      <td>-0.887063</td>\n",
       "      <td>0.0</td>\n",
       "      <td>False</td>\n",
       "      <td>6</td>\n",
       "    </tr>\n",
       "    <tr>\n",
       "      <th>6</th>\n",
       "      <td>6</td>\n",
       "      <td>28254:A&gt;T</td>\n",
       "      <td>3</td>\n",
       "      <td>ERR5072990</td>\n",
       "      <td>-0.80744</td>\n",
       "      <td>ORF8</td>\n",
       "      <td>p.I121F</td>\n",
       "      <td>ERR5072990</td>\n",
       "      <td>2020-09-07</td>\n",
       "      <td>2020-09</td>\n",
       "      <td>2020-09</td>\n",
       "      <td>-0.887063</td>\n",
       "      <td>2.0</td>\n",
       "      <td>True</td>\n",
       "      <td>7</td>\n",
       "    </tr>\n",
       "    <tr>\n",
       "      <th>7</th>\n",
       "      <td>7</td>\n",
       "      <td>27765:C&gt;G</td>\n",
       "      <td>2</td>\n",
       "      <td>ERR4891384</td>\n",
       "      <td>-1.27455</td>\n",
       "      <td>ORF7b</td>\n",
       "      <td>p.L4V</td>\n",
       "      <td>ERR4891384</td>\n",
       "      <td>2020-11-09</td>\n",
       "      <td>2020-11</td>\n",
       "      <td>2020-11</td>\n",
       "      <td>-0.883451</td>\n",
       "      <td>0.0</td>\n",
       "      <td>False</td>\n",
       "      <td>8</td>\n",
       "    </tr>\n",
       "    <tr>\n",
       "      <th>8</th>\n",
       "      <td>8</td>\n",
       "      <td>21090:C&gt;T</td>\n",
       "      <td>2</td>\n",
       "      <td>ERR5631854</td>\n",
       "      <td>-1.27455</td>\n",
       "      <td>ORF1ab</td>\n",
       "      <td>p.T6942I</td>\n",
       "      <td>ERR5631854</td>\n",
       "      <td>2020-09-27</td>\n",
       "      <td>2020-09</td>\n",
       "      <td>2020-09</td>\n",
       "      <td>-0.883451</td>\n",
       "      <td>1.0</td>\n",
       "      <td>True</td>\n",
       "      <td>9</td>\n",
       "    </tr>\n",
       "    <tr>\n",
       "      <th>9</th>\n",
       "      <td>9</td>\n",
       "      <td>29716:A&gt;T</td>\n",
       "      <td>2</td>\n",
       "      <td>SRR11528306</td>\n",
       "      <td>-1.25436</td>\n",
       "      <td>0</td>\n",
       "      <td>0</td>\n",
       "      <td>SRR11528306</td>\n",
       "      <td>2020-02-26</td>\n",
       "      <td>2020-02</td>\n",
       "      <td>2020-02</td>\n",
       "      <td>-0.869456</td>\n",
       "      <td>0.0</td>\n",
       "      <td>False</td>\n",
       "      <td>10</td>\n",
       "    </tr>\n",
       "    <tr>\n",
       "      <th>10</th>\n",
       "      <td>10</td>\n",
       "      <td>29778:G&gt;A</td>\n",
       "      <td>2</td>\n",
       "      <td>ERR5079699</td>\n",
       "      <td>-1.25436</td>\n",
       "      <td>0</td>\n",
       "      <td>0</td>\n",
       "      <td>ERR5079699</td>\n",
       "      <td>2020-11-19</td>\n",
       "      <td>2020-11</td>\n",
       "      <td>2020-11</td>\n",
       "      <td>-0.869456</td>\n",
       "      <td>1.0</td>\n",
       "      <td>True</td>\n",
       "      <td>11</td>\n",
       "    </tr>\n",
       "    <tr>\n",
       "      <th>11</th>\n",
       "      <td>11</td>\n",
       "      <td>182:T&gt;C</td>\n",
       "      <td>2</td>\n",
       "      <td>SRR12426965</td>\n",
       "      <td>-1.25436</td>\n",
       "      <td>0</td>\n",
       "      <td>0</td>\n",
       "      <td>SRR12426965</td>\n",
       "      <td>2020-06-26</td>\n",
       "      <td>2020-06</td>\n",
       "      <td>2020-06</td>\n",
       "      <td>-0.869456</td>\n",
       "      <td>0.0</td>\n",
       "      <td>False</td>\n",
       "      <td>12</td>\n",
       "    </tr>\n",
       "    <tr>\n",
       "      <th>12</th>\n",
       "      <td>12</td>\n",
       "      <td>203:C&gt;A</td>\n",
       "      <td>2</td>\n",
       "      <td>ERR4891546</td>\n",
       "      <td>-1.25436</td>\n",
       "      <td>0</td>\n",
       "      <td>0</td>\n",
       "      <td>ERR4891546</td>\n",
       "      <td>2020-11-02</td>\n",
       "      <td>2020-11</td>\n",
       "      <td>2020-11</td>\n",
       "      <td>-0.869456</td>\n",
       "      <td>0.0</td>\n",
       "      <td>False</td>\n",
       "      <td>13</td>\n",
       "    </tr>\n",
       "    <tr>\n",
       "      <th>13</th>\n",
       "      <td>13</td>\n",
       "      <td>8327:C&gt;T</td>\n",
       "      <td>4</td>\n",
       "      <td>ERR5503556</td>\n",
       "      <td>-0.59191</td>\n",
       "      <td>ORF1ab</td>\n",
       "      <td>p.L2688F</td>\n",
       "      <td>ERR5503556</td>\n",
       "      <td>2020-11-12</td>\n",
       "      <td>2020-11</td>\n",
       "      <td>2020-11</td>\n",
       "      <td>-0.820562</td>\n",
       "      <td>1.0</td>\n",
       "      <td>True</td>\n",
       "      <td>14</td>\n",
       "    </tr>\n",
       "    <tr>\n",
       "      <th>14</th>\n",
       "      <td>14</td>\n",
       "      <td>17376:A&gt;G</td>\n",
       "      <td>2</td>\n",
       "      <td>ERR5497775</td>\n",
       "      <td>-1.04511</td>\n",
       "      <td>ORF1ab</td>\n",
       "      <td>p.Q5704R</td>\n",
       "      <td>ERR5497775</td>\n",
       "      <td>2020-04-20</td>\n",
       "      <td>2020-04</td>\n",
       "      <td>2020-04</td>\n",
       "      <td>-0.724415</td>\n",
       "      <td>0.0</td>\n",
       "      <td>False</td>\n",
       "      <td>15</td>\n",
       "    </tr>\n",
       "    <tr>\n",
       "      <th>15</th>\n",
       "      <td>15</td>\n",
       "      <td>14118:G&gt;A</td>\n",
       "      <td>2</td>\n",
       "      <td>ERR5698098</td>\n",
       "      <td>-1.04511</td>\n",
       "      <td>ORF1ab</td>\n",
       "      <td>p.R4618H</td>\n",
       "      <td>ERR5698098</td>\n",
       "      <td>2020-08-15</td>\n",
       "      <td>2020-08</td>\n",
       "      <td>2020-08</td>\n",
       "      <td>-0.724415</td>\n",
       "      <td>16.0</td>\n",
       "      <td>True</td>\n",
       "      <td>16</td>\n",
       "    </tr>\n",
       "    <tr>\n",
       "      <th>16</th>\n",
       "      <td>16</td>\n",
       "      <td>15909:T&gt;C</td>\n",
       "      <td>2</td>\n",
       "      <td>ERR5494484</td>\n",
       "      <td>-1.04511</td>\n",
       "      <td>ORF1ab</td>\n",
       "      <td>p.V5215A</td>\n",
       "      <td>ERR5494484</td>\n",
       "      <td>2020-01-01</td>\n",
       "      <td>2020-01</td>\n",
       "      <td>2020-01</td>\n",
       "      <td>-0.724415</td>\n",
       "      <td>1.0</td>\n",
       "      <td>True</td>\n",
       "      <td>17</td>\n",
       "    </tr>\n",
       "    <tr>\n",
       "      <th>17</th>\n",
       "      <td>17</td>\n",
       "      <td>2430:A&gt;G</td>\n",
       "      <td>2</td>\n",
       "      <td>SRR12427349</td>\n",
       "      <td>-1.04511</td>\n",
       "      <td>ORF1ab</td>\n",
       "      <td>p.K722R</td>\n",
       "      <td>SRR12427349</td>\n",
       "      <td>2020-06-20</td>\n",
       "      <td>2020-06</td>\n",
       "      <td>2020-06</td>\n",
       "      <td>-0.724415</td>\n",
       "      <td>10.0</td>\n",
       "      <td>True</td>\n",
       "      <td>18</td>\n",
       "    </tr>\n",
       "    <tr>\n",
       "      <th>18</th>\n",
       "      <td>18</td>\n",
       "      <td>13998:G&gt;T</td>\n",
       "      <td>2</td>\n",
       "      <td>ERR5310955</td>\n",
       "      <td>-1.04511</td>\n",
       "      <td>ORF1ab</td>\n",
       "      <td>p.C4578F</td>\n",
       "      <td>ERR5310955</td>\n",
       "      <td>2020-08-20</td>\n",
       "      <td>2020-08</td>\n",
       "      <td>2020-08</td>\n",
       "      <td>-0.724415</td>\n",
       "      <td>0.0</td>\n",
       "      <td>False</td>\n",
       "      <td>19</td>\n",
       "    </tr>\n",
       "    <tr>\n",
       "      <th>19</th>\n",
       "      <td>19</td>\n",
       "      <td>15927:T&gt;C</td>\n",
       "      <td>2</td>\n",
       "      <td>SRR12427081</td>\n",
       "      <td>-1.04511</td>\n",
       "      <td>ORF1ab</td>\n",
       "      <td>p.F5221S</td>\n",
       "      <td>SRR12427081</td>\n",
       "      <td>2020-06-22</td>\n",
       "      <td>2020-06</td>\n",
       "      <td>2020-06</td>\n",
       "      <td>-0.724415</td>\n",
       "      <td>0.0</td>\n",
       "      <td>False</td>\n",
       "      <td>20</td>\n",
       "    </tr>\n",
       "    <tr>\n",
       "      <th>20</th>\n",
       "      <td>20</td>\n",
       "      <td>18657:C&gt;A</td>\n",
       "      <td>2</td>\n",
       "      <td>SRR12427026</td>\n",
       "      <td>-1.04511</td>\n",
       "      <td>ORF1ab</td>\n",
       "      <td>p.P6131H</td>\n",
       "      <td>SRR12427026</td>\n",
       "      <td>2020-06-24</td>\n",
       "      <td>2020-06</td>\n",
       "      <td>2020-06</td>\n",
       "      <td>-0.724415</td>\n",
       "      <td>0.0</td>\n",
       "      <td>False</td>\n",
       "      <td>21</td>\n",
       "    </tr>\n",
       "    <tr>\n",
       "      <th>21</th>\n",
       "      <td>21</td>\n",
       "      <td>18465:T&gt;C</td>\n",
       "      <td>2</td>\n",
       "      <td>ERR5494484</td>\n",
       "      <td>-1.04511</td>\n",
       "      <td>ORF1ab</td>\n",
       "      <td>p.L6067P</td>\n",
       "      <td>ERR5494484</td>\n",
       "      <td>2020-01-01</td>\n",
       "      <td>2020-01</td>\n",
       "      <td>2020-01</td>\n",
       "      <td>-0.724415</td>\n",
       "      <td>12.0</td>\n",
       "      <td>True</td>\n",
       "      <td>22</td>\n",
       "    </tr>\n",
       "    <tr>\n",
       "      <th>22</th>\n",
       "      <td>22</td>\n",
       "      <td>29318:C&gt;T</td>\n",
       "      <td>2</td>\n",
       "      <td>ERR6092069</td>\n",
       "      <td>-1.04511</td>\n",
       "      <td>N</td>\n",
       "      <td>p.Q349*</td>\n",
       "      <td>ERR6092069</td>\n",
       "      <td>2020-04-02</td>\n",
       "      <td>2020-04</td>\n",
       "      <td>2020-04</td>\n",
       "      <td>-0.724415</td>\n",
       "      <td>0.0</td>\n",
       "      <td>False</td>\n",
       "      <td>23</td>\n",
       "    </tr>\n",
       "    <tr>\n",
       "      <th>23</th>\n",
       "      <td>23</td>\n",
       "      <td>14697:C&gt;T</td>\n",
       "      <td>2</td>\n",
       "      <td>SRR12718302</td>\n",
       "      <td>-1.04511</td>\n",
       "      <td>ORF1ab</td>\n",
       "      <td>p.S4811F</td>\n",
       "      <td>SRR12718302</td>\n",
       "      <td>2020-08-07</td>\n",
       "      <td>2020-08</td>\n",
       "      <td>2020-08</td>\n",
       "      <td>-0.724415</td>\n",
       "      <td>26.0</td>\n",
       "      <td>True</td>\n",
       "      <td>24</td>\n",
       "    </tr>\n",
       "    <tr>\n",
       "      <th>24</th>\n",
       "      <td>24</td>\n",
       "      <td>13821:C&gt;T</td>\n",
       "      <td>2</td>\n",
       "      <td>ERR6094076</td>\n",
       "      <td>-1.04511</td>\n",
       "      <td>ORF1ab</td>\n",
       "      <td>p.S4519L</td>\n",
       "      <td>ERR6094076</td>\n",
       "      <td>2020-03-17</td>\n",
       "      <td>2020-03</td>\n",
       "      <td>2020-03</td>\n",
       "      <td>-0.724415</td>\n",
       "      <td>1.0</td>\n",
       "      <td>True</td>\n",
       "      <td>25</td>\n",
       "    </tr>\n",
       "    <tr>\n",
       "      <th>25</th>\n",
       "      <td>25</td>\n",
       "      <td>4829:C&gt;T</td>\n",
       "      <td>2</td>\n",
       "      <td>ERR6091064</td>\n",
       "      <td>-1.04511</td>\n",
       "      <td>ORF1ab</td>\n",
       "      <td>p.Q1522*</td>\n",
       "      <td>ERR6091064</td>\n",
       "      <td>2020-03-24</td>\n",
       "      <td>2020-03</td>\n",
       "      <td>2020-03</td>\n",
       "      <td>-0.724415</td>\n",
       "      <td>0.0</td>\n",
       "      <td>False</td>\n",
       "      <td>26</td>\n",
       "    </tr>\n",
       "    <tr>\n",
       "      <th>26</th>\n",
       "      <td>26</td>\n",
       "      <td>19218:T&gt;C</td>\n",
       "      <td>2</td>\n",
       "      <td>ERR5310961</td>\n",
       "      <td>-1.04511</td>\n",
       "      <td>ORF1ab</td>\n",
       "      <td>p.L6318P</td>\n",
       "      <td>ERR5310961</td>\n",
       "      <td>2020-09-17</td>\n",
       "      <td>2020-09</td>\n",
       "      <td>2020-09</td>\n",
       "      <td>-0.724415</td>\n",
       "      <td>0.0</td>\n",
       "      <td>False</td>\n",
       "      <td>27</td>\n",
       "    </tr>\n",
       "    <tr>\n",
       "      <th>27</th>\n",
       "      <td>27</td>\n",
       "      <td>20445:T&gt;A</td>\n",
       "      <td>2</td>\n",
       "      <td>ERR4388108</td>\n",
       "      <td>-1.04511</td>\n",
       "      <td>ORF1ab</td>\n",
       "      <td>p.L6727*</td>\n",
       "      <td>ERR4388108</td>\n",
       "      <td>2020-03-11</td>\n",
       "      <td>2020-03</td>\n",
       "      <td>2020-03</td>\n",
       "      <td>-0.724415</td>\n",
       "      <td>0.0</td>\n",
       "      <td>False</td>\n",
       "      <td>28</td>\n",
       "    </tr>\n",
       "    <tr>\n",
       "      <th>28</th>\n",
       "      <td>28</td>\n",
       "      <td>25468:T&gt;C</td>\n",
       "      <td>2</td>\n",
       "      <td>ERR6094845</td>\n",
       "      <td>-1.04511</td>\n",
       "      <td>ORF3a</td>\n",
       "      <td>p.S26P</td>\n",
       "      <td>ERR6094845</td>\n",
       "      <td>2020-03-18</td>\n",
       "      <td>2020-03</td>\n",
       "      <td>2020-03</td>\n",
       "      <td>-0.724415</td>\n",
       "      <td>2.0</td>\n",
       "      <td>True</td>\n",
       "      <td>29</td>\n",
       "    </tr>\n",
       "    <tr>\n",
       "      <th>29</th>\n",
       "      <td>29</td>\n",
       "      <td>17418:G&gt;T</td>\n",
       "      <td>2</td>\n",
       "      <td>SRR12426824</td>\n",
       "      <td>-1.04511</td>\n",
       "      <td>ORF1ab</td>\n",
       "      <td>p.S5718I</td>\n",
       "      <td>SRR12426824</td>\n",
       "      <td>2020-06-26</td>\n",
       "      <td>2020-06</td>\n",
       "      <td>2020-06</td>\n",
       "      <td>-0.724415</td>\n",
       "      <td>1.0</td>\n",
       "      <td>True</td>\n",
       "      <td>30</td>\n",
       "    </tr>\n",
       "    <tr>\n",
       "      <th>30</th>\n",
       "      <td>30</td>\n",
       "      <td>13695:A&gt;G</td>\n",
       "      <td>2</td>\n",
       "      <td>SRR12427278</td>\n",
       "      <td>-1.04511</td>\n",
       "      <td>ORF1ab</td>\n",
       "      <td>p.Q4477R</td>\n",
       "      <td>SRR12427278</td>\n",
       "      <td>2020-07-05</td>\n",
       "      <td>2020-07</td>\n",
       "      <td>2020-07</td>\n",
       "      <td>-0.724415</td>\n",
       "      <td>0.0</td>\n",
       "      <td>False</td>\n",
       "      <td>31</td>\n",
       "    </tr>\n",
       "    <tr>\n",
       "      <th>31</th>\n",
       "      <td>31</td>\n",
       "      <td>3863:G&gt;T</td>\n",
       "      <td>2</td>\n",
       "      <td>ERR5730198</td>\n",
       "      <td>-1.04511</td>\n",
       "      <td>ORF1ab</td>\n",
       "      <td>p.E1200*</td>\n",
       "      <td>ERR5730198</td>\n",
       "      <td>2020-03-29</td>\n",
       "      <td>2020-03</td>\n",
       "      <td>2020-03</td>\n",
       "      <td>-0.724415</td>\n",
       "      <td>0.0</td>\n",
       "      <td>False</td>\n",
       "      <td>32</td>\n",
       "    </tr>\n",
       "    <tr>\n",
       "      <th>32</th>\n",
       "      <td>32</td>\n",
       "      <td>14847:A&gt;G</td>\n",
       "      <td>2</td>\n",
       "      <td>ERR5928933</td>\n",
       "      <td>-1.04511</td>\n",
       "      <td>ORF1ab</td>\n",
       "      <td>p.Y4861C</td>\n",
       "      <td>ERR5928933</td>\n",
       "      <td>2020-12-28</td>\n",
       "      <td>2020-12</td>\n",
       "      <td>2020-12</td>\n",
       "      <td>-0.724415</td>\n",
       "      <td>0.0</td>\n",
       "      <td>False</td>\n",
       "      <td>33</td>\n",
       "    </tr>\n",
       "    <tr>\n",
       "      <th>33</th>\n",
       "      <td>33</td>\n",
       "      <td>23034:C&gt;T</td>\n",
       "      <td>2</td>\n",
       "      <td>ERR5514306</td>\n",
       "      <td>-1.02973</td>\n",
       "      <td>S</td>\n",
       "      <td>p.P491L</td>\n",
       "      <td>ERR5514306</td>\n",
       "      <td>2020-01-01</td>\n",
       "      <td>2020-01</td>\n",
       "      <td>2020-01</td>\n",
       "      <td>-0.713754</td>\n",
       "      <td>0.0</td>\n",
       "      <td>False</td>\n",
       "      <td>34</td>\n",
       "    </tr>\n",
       "    <tr>\n",
       "      <th>34</th>\n",
       "      <td>34</td>\n",
       "      <td>23606:C&gt;T</td>\n",
       "      <td>2</td>\n",
       "      <td>SRR14095166</td>\n",
       "      <td>-1.02973</td>\n",
       "      <td>S</td>\n",
       "      <td>p.R682W</td>\n",
       "      <td>SRR14095166</td>\n",
       "      <td>2020-02-29</td>\n",
       "      <td>2020-02</td>\n",
       "      <td>2020-02</td>\n",
       "      <td>-0.713754</td>\n",
       "      <td>0.0</td>\n",
       "      <td>False</td>\n",
       "      <td>35</td>\n",
       "    </tr>\n",
       "    <tr>\n",
       "      <th>35</th>\n",
       "      <td>35</td>\n",
       "      <td>3290:C&gt;G</td>\n",
       "      <td>2</td>\n",
       "      <td>SRR12316194</td>\n",
       "      <td>-1.02973</td>\n",
       "      <td>ORF1ab</td>\n",
       "      <td>p.Q1009E</td>\n",
       "      <td>SRR12316194</td>\n",
       "      <td>2020-02-04</td>\n",
       "      <td>2020-02</td>\n",
       "      <td>2020-02</td>\n",
       "      <td>-0.713754</td>\n",
       "      <td>0.0</td>\n",
       "      <td>False</td>\n",
       "      <td>36</td>\n",
       "    </tr>\n",
       "    <tr>\n",
       "      <th>36</th>\n",
       "      <td>36</td>\n",
       "      <td>9721:T&gt;A</td>\n",
       "      <td>3</td>\n",
       "      <td>SRR12379999</td>\n",
       "      <td>-0.59191</td>\n",
       "      <td>ORF1ab</td>\n",
       "      <td>p.H3152Q</td>\n",
       "      <td>SRR12379999</td>\n",
       "      <td>2020-04-01</td>\n",
       "      <td>2020-04</td>\n",
       "      <td>2020-04</td>\n",
       "      <td>-0.650280</td>\n",
       "      <td>0.0</td>\n",
       "      <td>False</td>\n",
       "      <td>37</td>\n",
       "    </tr>\n",
       "    <tr>\n",
       "      <th>37</th>\n",
       "      <td>37</td>\n",
       "      <td>12355:G&gt;T</td>\n",
       "      <td>2</td>\n",
       "      <td>ERR5928976</td>\n",
       "      <td>-0.85561</td>\n",
       "      <td>ORF1ab</td>\n",
       "      <td>p.Q4030H</td>\n",
       "      <td>ERR5928976</td>\n",
       "      <td>2020-12-02</td>\n",
       "      <td>2020-12</td>\n",
       "      <td>2020-12</td>\n",
       "      <td>-0.593064</td>\n",
       "      <td>0.0</td>\n",
       "      <td>False</td>\n",
       "      <td>38</td>\n",
       "    </tr>\n",
       "    <tr>\n",
       "      <th>38</th>\n",
       "      <td>38</td>\n",
       "      <td>7211:T&gt;A</td>\n",
       "      <td>2</td>\n",
       "      <td>ERR6092571</td>\n",
       "      <td>-0.85561</td>\n",
       "      <td>ORF1ab</td>\n",
       "      <td>p.W2316R</td>\n",
       "      <td>ERR6092571</td>\n",
       "      <td>2020-04-20</td>\n",
       "      <td>2020-04</td>\n",
       "      <td>2020-04</td>\n",
       "      <td>-0.593064</td>\n",
       "      <td>0.0</td>\n",
       "      <td>False</td>\n",
       "      <td>39</td>\n",
       "    </tr>\n",
       "    <tr>\n",
       "      <th>39</th>\n",
       "      <td>39</td>\n",
       "      <td>4340:A&gt;C</td>\n",
       "      <td>2</td>\n",
       "      <td>SRR12427041</td>\n",
       "      <td>-0.85561</td>\n",
       "      <td>ORF1ab</td>\n",
       "      <td>p.I1359L</td>\n",
       "      <td>SRR12427041</td>\n",
       "      <td>2020-06-23</td>\n",
       "      <td>2020-06</td>\n",
       "      <td>2020-06</td>\n",
       "      <td>-0.593064</td>\n",
       "      <td>0.0</td>\n",
       "      <td>False</td>\n",
       "      <td>40</td>\n",
       "    </tr>\n",
       "    <tr>\n",
       "      <th>40</th>\n",
       "      <td>40</td>\n",
       "      <td>21420:A&gt;C</td>\n",
       "      <td>5</td>\n",
       "      <td>ERR5886488</td>\n",
       "      <td>-0.35633</td>\n",
       "      <td>ORF1ab</td>\n",
       "      <td>p.*7052Sext*?</td>\n",
       "      <td>ERR5886488</td>\n",
       "      <td>2020-04-13</td>\n",
       "      <td>2020-04</td>\n",
       "      <td>2020-04</td>\n",
       "      <td>-0.573491</td>\n",
       "      <td>0.0</td>\n",
       "      <td>False</td>\n",
       "      <td>41</td>\n",
       "    </tr>\n",
       "    <tr>\n",
       "      <th>41</th>\n",
       "      <td>41</td>\n",
       "      <td>27158:T&gt;G</td>\n",
       "      <td>5</td>\n",
       "      <td>SRR13620184</td>\n",
       "      <td>-0.35633</td>\n",
       "      <td>M</td>\n",
       "      <td>p.S212R</td>\n",
       "      <td>SRR13620184</td>\n",
       "      <td>2020-11-06</td>\n",
       "      <td>2020-11</td>\n",
       "      <td>2020-11</td>\n",
       "      <td>-0.573491</td>\n",
       "      <td>0.0</td>\n",
       "      <td>False</td>\n",
       "      <td>42</td>\n",
       "    </tr>\n",
       "    <tr>\n",
       "      <th>42</th>\n",
       "      <td>42</td>\n",
       "      <td>3181:A&gt;C</td>\n",
       "      <td>2</td>\n",
       "      <td>SRR12427106</td>\n",
       "      <td>-0.80744</td>\n",
       "      <td>ORF1ab</td>\n",
       "      <td>p.E972D</td>\n",
       "      <td>SRR12427106</td>\n",
       "      <td>2020-07-01</td>\n",
       "      <td>2020-07</td>\n",
       "      <td>2020-07</td>\n",
       "      <td>-0.559675</td>\n",
       "      <td>0.0</td>\n",
       "      <td>False</td>\n",
       "      <td>43</td>\n",
       "    </tr>\n",
       "    <tr>\n",
       "      <th>43</th>\n",
       "      <td>43</td>\n",
       "      <td>4067:G&gt;A</td>\n",
       "      <td>2</td>\n",
       "      <td>SRR12423419</td>\n",
       "      <td>-0.80744</td>\n",
       "      <td>ORF1ab</td>\n",
       "      <td>p.A1268T</td>\n",
       "      <td>SRR12423419</td>\n",
       "      <td>2020-06-15</td>\n",
       "      <td>2020-06</td>\n",
       "      <td>2020-06</td>\n",
       "      <td>-0.559675</td>\n",
       "      <td>0.0</td>\n",
       "      <td>False</td>\n",
       "      <td>44</td>\n",
       "    </tr>\n",
       "    <tr>\n",
       "      <th>44</th>\n",
       "      <td>44</td>\n",
       "      <td>22199:G&gt;T</td>\n",
       "      <td>2</td>\n",
       "      <td>ERR5929067</td>\n",
       "      <td>-0.72927</td>\n",
       "      <td>S</td>\n",
       "      <td>p.V213L</td>\n",
       "      <td>ERR5929067</td>\n",
       "      <td>2020-11-15</td>\n",
       "      <td>2020-11</td>\n",
       "      <td>2020-11</td>\n",
       "      <td>-0.505491</td>\n",
       "      <td>4.0</td>\n",
       "      <td>True</td>\n",
       "      <td>45</td>\n",
       "    </tr>\n",
       "    <tr>\n",
       "      <th>45</th>\n",
       "      <td>45</td>\n",
       "      <td>1956:A&gt;G</td>\n",
       "      <td>2</td>\n",
       "      <td>SRR13879455</td>\n",
       "      <td>-0.72927</td>\n",
       "      <td>ORF1ab</td>\n",
       "      <td>p.K564R</td>\n",
       "      <td>SRR13879455</td>\n",
       "      <td>2020-04-30</td>\n",
       "      <td>2020-04</td>\n",
       "      <td>2020-04</td>\n",
       "      <td>-0.505491</td>\n",
       "      <td>0.0</td>\n",
       "      <td>False</td>\n",
       "      <td>46</td>\n",
       "    </tr>\n",
       "    <tr>\n",
       "      <th>46</th>\n",
       "      <td>46</td>\n",
       "      <td>1143:T&gt;G</td>\n",
       "      <td>2</td>\n",
       "      <td>ERR5924684</td>\n",
       "      <td>-0.72927</td>\n",
       "      <td>ORF1ab</td>\n",
       "      <td>p.L293R</td>\n",
       "      <td>ERR5924684</td>\n",
       "      <td>2020-10-09</td>\n",
       "      <td>2020-10</td>\n",
       "      <td>2020-10</td>\n",
       "      <td>-0.505491</td>\n",
       "      <td>0.0</td>\n",
       "      <td>False</td>\n",
       "      <td>47</td>\n",
       "    </tr>\n",
       "    <tr>\n",
       "      <th>47</th>\n",
       "      <td>47</td>\n",
       "      <td>2022:T&gt;G</td>\n",
       "      <td>2</td>\n",
       "      <td>SRR12423230</td>\n",
       "      <td>-0.72927</td>\n",
       "      <td>ORF1ab</td>\n",
       "      <td>p.F586C</td>\n",
       "      <td>SRR12423230</td>\n",
       "      <td>2020-06-23</td>\n",
       "      <td>2020-06</td>\n",
       "      <td>2020-06</td>\n",
       "      <td>-0.505491</td>\n",
       "      <td>0.0</td>\n",
       "      <td>False</td>\n",
       "      <td>48</td>\n",
       "    </tr>\n",
       "    <tr>\n",
       "      <th>48</th>\n",
       "      <td>48</td>\n",
       "      <td>15483:A&gt;G</td>\n",
       "      <td>2</td>\n",
       "      <td>ERR5736918</td>\n",
       "      <td>-0.72839</td>\n",
       "      <td>ORF1ab</td>\n",
       "      <td>p.H5073R</td>\n",
       "      <td>ERR5736918</td>\n",
       "      <td>2020-11-14</td>\n",
       "      <td>2020-11</td>\n",
       "      <td>2020-11</td>\n",
       "      <td>-0.504881</td>\n",
       "      <td>0.0</td>\n",
       "      <td>False</td>\n",
       "      <td>49</td>\n",
       "    </tr>\n",
       "    <tr>\n",
       "      <th>49</th>\n",
       "      <td>49</td>\n",
       "      <td>15615:C&gt;T</td>\n",
       "      <td>2</td>\n",
       "      <td>SRR12423214</td>\n",
       "      <td>-0.72839</td>\n",
       "      <td>ORF1ab</td>\n",
       "      <td>p.T5117I</td>\n",
       "      <td>SRR12423214</td>\n",
       "      <td>2020-06-23</td>\n",
       "      <td>2020-06</td>\n",
       "      <td>2020-06</td>\n",
       "      <td>-0.504881</td>\n",
       "      <td>3.0</td>\n",
       "      <td>True</td>\n",
       "      <td>50</td>\n",
       "    </tr>\n",
       "  </tbody>\n",
       "</table>\n",
       "</div>"
      ],
      "text/plain": [
       "    index variant_id  count_subclonal       sample  cons_hmm_sars_cov_2  \\\n",
       "0       0  23607:G>T                5  SRR11607709             -1.02973   \n",
       "1       1  28087:C>G                6   ERR5502378             -0.80744   \n",
       "2       2  15369:A>T                3   ERR5218545             -1.04511   \n",
       "3       3   8771:A>G                3   ERR5737146             -1.04511   \n",
       "4       4  23031:T>C                3   ERR6090796             -1.02973   \n",
       "5       5  28099:C>T                3  SRR12427339             -0.80744   \n",
       "6       6  28254:A>T                3   ERR5072990             -0.80744   \n",
       "7       7  27765:C>G                2   ERR4891384             -1.27455   \n",
       "8       8  21090:C>T                2   ERR5631854             -1.27455   \n",
       "9       9  29716:A>T                2  SRR11528306             -1.25436   \n",
       "10     10  29778:G>A                2   ERR5079699             -1.25436   \n",
       "11     11    182:T>C                2  SRR12426965             -1.25436   \n",
       "12     12    203:C>A                2   ERR4891546             -1.25436   \n",
       "13     13   8327:C>T                4   ERR5503556             -0.59191   \n",
       "14     14  17376:A>G                2   ERR5497775             -1.04511   \n",
       "15     15  14118:G>A                2   ERR5698098             -1.04511   \n",
       "16     16  15909:T>C                2   ERR5494484             -1.04511   \n",
       "17     17   2430:A>G                2  SRR12427349             -1.04511   \n",
       "18     18  13998:G>T                2   ERR5310955             -1.04511   \n",
       "19     19  15927:T>C                2  SRR12427081             -1.04511   \n",
       "20     20  18657:C>A                2  SRR12427026             -1.04511   \n",
       "21     21  18465:T>C                2   ERR5494484             -1.04511   \n",
       "22     22  29318:C>T                2   ERR6092069             -1.04511   \n",
       "23     23  14697:C>T                2  SRR12718302             -1.04511   \n",
       "24     24  13821:C>T                2   ERR6094076             -1.04511   \n",
       "25     25   4829:C>T                2   ERR6091064             -1.04511   \n",
       "26     26  19218:T>C                2   ERR5310961             -1.04511   \n",
       "27     27  20445:T>A                2   ERR4388108             -1.04511   \n",
       "28     28  25468:T>C                2   ERR6094845             -1.04511   \n",
       "29     29  17418:G>T                2  SRR12426824             -1.04511   \n",
       "30     30  13695:A>G                2  SRR12427278             -1.04511   \n",
       "31     31   3863:G>T                2   ERR5730198             -1.04511   \n",
       "32     32  14847:A>G                2   ERR5928933             -1.04511   \n",
       "33     33  23034:C>T                2   ERR5514306             -1.02973   \n",
       "34     34  23606:C>T                2  SRR14095166             -1.02973   \n",
       "35     35   3290:C>G                2  SRR12316194             -1.02973   \n",
       "36     36   9721:T>A                3  SRR12379999             -0.59191   \n",
       "37     37  12355:G>T                2   ERR5928976             -0.85561   \n",
       "38     38   7211:T>A                2   ERR6092571             -0.85561   \n",
       "39     39   4340:A>C                2  SRR12427041             -0.85561   \n",
       "40     40  21420:A>C                5   ERR5886488             -0.35633   \n",
       "41     41  27158:T>G                5  SRR13620184             -0.35633   \n",
       "42     42   3181:A>C                2  SRR12427106             -0.80744   \n",
       "43     43   4067:G>A                2  SRR12423419             -0.80744   \n",
       "44     44  22199:G>T                2   ERR5929067             -0.72927   \n",
       "45     45   1956:A>G                2  SRR13879455             -0.72927   \n",
       "46     46   1143:T>G                2   ERR5924684             -0.72927   \n",
       "47     47   2022:T>G                2  SRR12423230             -0.72927   \n",
       "48     48  15483:A>G                2   ERR5736918             -0.72839   \n",
       "49     49  15615:C>T                2  SRR12423214             -0.72839   \n",
       "\n",
       "   gene_name         hgvs_p run_accession collection_date  \\\n",
       "0          S        p.R682L   SRR11607709      2020-02-07   \n",
       "1       ORF8         p.A65G    ERR5502378      2020-11-12   \n",
       "2     ORF1ab       p.Q5035L    ERR5218545      2020-12-13   \n",
       "3     ORF1ab       p.T2836A    ERR5737146      2020-10-22   \n",
       "4          S        p.F490S    ERR6090796      2020-03-28   \n",
       "5       ORF8         p.S69L   SRR12427339      2020-06-24   \n",
       "6       ORF8        p.I121F    ERR5072990      2020-09-07   \n",
       "7      ORF7b          p.L4V    ERR4891384      2020-11-09   \n",
       "8     ORF1ab       p.T6942I    ERR5631854      2020-09-27   \n",
       "9          0              0   SRR11528306      2020-02-26   \n",
       "10         0              0    ERR5079699      2020-11-19   \n",
       "11         0              0   SRR12426965      2020-06-26   \n",
       "12         0              0    ERR4891546      2020-11-02   \n",
       "13    ORF1ab       p.L2688F    ERR5503556      2020-11-12   \n",
       "14    ORF1ab       p.Q5704R    ERR5497775      2020-04-20   \n",
       "15    ORF1ab       p.R4618H    ERR5698098      2020-08-15   \n",
       "16    ORF1ab       p.V5215A    ERR5494484      2020-01-01   \n",
       "17    ORF1ab        p.K722R   SRR12427349      2020-06-20   \n",
       "18    ORF1ab       p.C4578F    ERR5310955      2020-08-20   \n",
       "19    ORF1ab       p.F5221S   SRR12427081      2020-06-22   \n",
       "20    ORF1ab       p.P6131H   SRR12427026      2020-06-24   \n",
       "21    ORF1ab       p.L6067P    ERR5494484      2020-01-01   \n",
       "22         N        p.Q349*    ERR6092069      2020-04-02   \n",
       "23    ORF1ab       p.S4811F   SRR12718302      2020-08-07   \n",
       "24    ORF1ab       p.S4519L    ERR6094076      2020-03-17   \n",
       "25    ORF1ab       p.Q1522*    ERR6091064      2020-03-24   \n",
       "26    ORF1ab       p.L6318P    ERR5310961      2020-09-17   \n",
       "27    ORF1ab       p.L6727*    ERR4388108      2020-03-11   \n",
       "28     ORF3a         p.S26P    ERR6094845      2020-03-18   \n",
       "29    ORF1ab       p.S5718I   SRR12426824      2020-06-26   \n",
       "30    ORF1ab       p.Q4477R   SRR12427278      2020-07-05   \n",
       "31    ORF1ab       p.E1200*    ERR5730198      2020-03-29   \n",
       "32    ORF1ab       p.Y4861C    ERR5928933      2020-12-28   \n",
       "33         S        p.P491L    ERR5514306      2020-01-01   \n",
       "34         S        p.R682W   SRR14095166      2020-02-29   \n",
       "35    ORF1ab       p.Q1009E   SRR12316194      2020-02-04   \n",
       "36    ORF1ab       p.H3152Q   SRR12379999      2020-04-01   \n",
       "37    ORF1ab       p.Q4030H    ERR5928976      2020-12-02   \n",
       "38    ORF1ab       p.W2316R    ERR6092571      2020-04-20   \n",
       "39    ORF1ab       p.I1359L   SRR12427041      2020-06-23   \n",
       "40    ORF1ab  p.*7052Sext*?    ERR5886488      2020-04-13   \n",
       "41         M        p.S212R   SRR13620184      2020-11-06   \n",
       "42    ORF1ab        p.E972D   SRR12427106      2020-07-01   \n",
       "43    ORF1ab       p.A1268T   SRR12423419      2020-06-15   \n",
       "44         S        p.V213L    ERR5929067      2020-11-15   \n",
       "45    ORF1ab        p.K564R   SRR13879455      2020-04-30   \n",
       "46    ORF1ab        p.L293R    ERR5924684      2020-10-09   \n",
       "47    ORF1ab        p.F586C   SRR12423230      2020-06-23   \n",
       "48    ORF1ab       p.H5073R    ERR5736918      2020-11-14   \n",
       "49    ORF1ab       p.T5117I   SRR12423214      2020-06-23   \n",
       "\n",
       "   collection_date_month collection_date_month_str   af_cons  count_clonal  \\\n",
       "0                2020-02                   2020-02 -1.657286           0.0   \n",
       "1                2020-11                   2020-11 -1.446738           2.0   \n",
       "2                2020-12                   2020-12 -1.148171           0.0   \n",
       "3                2020-10                   2020-10 -1.148171           0.0   \n",
       "4                2020-03                   2020-03 -1.131274          48.0   \n",
       "5                2020-06                   2020-06 -0.887063           0.0   \n",
       "6                2020-09                   2020-09 -0.887063           2.0   \n",
       "7                2020-11                   2020-11 -0.883451           0.0   \n",
       "8                2020-09                   2020-09 -0.883451           1.0   \n",
       "9                2020-02                   2020-02 -0.869456           0.0   \n",
       "10               2020-11                   2020-11 -0.869456           1.0   \n",
       "11               2020-06                   2020-06 -0.869456           0.0   \n",
       "12               2020-11                   2020-11 -0.869456           0.0   \n",
       "13               2020-11                   2020-11 -0.820562           1.0   \n",
       "14               2020-04                   2020-04 -0.724415           0.0   \n",
       "15               2020-08                   2020-08 -0.724415          16.0   \n",
       "16               2020-01                   2020-01 -0.724415           1.0   \n",
       "17               2020-06                   2020-06 -0.724415          10.0   \n",
       "18               2020-08                   2020-08 -0.724415           0.0   \n",
       "19               2020-06                   2020-06 -0.724415           0.0   \n",
       "20               2020-06                   2020-06 -0.724415           0.0   \n",
       "21               2020-01                   2020-01 -0.724415          12.0   \n",
       "22               2020-04                   2020-04 -0.724415           0.0   \n",
       "23               2020-08                   2020-08 -0.724415          26.0   \n",
       "24               2020-03                   2020-03 -0.724415           1.0   \n",
       "25               2020-03                   2020-03 -0.724415           0.0   \n",
       "26               2020-09                   2020-09 -0.724415           0.0   \n",
       "27               2020-03                   2020-03 -0.724415           0.0   \n",
       "28               2020-03                   2020-03 -0.724415           2.0   \n",
       "29               2020-06                   2020-06 -0.724415           1.0   \n",
       "30               2020-07                   2020-07 -0.724415           0.0   \n",
       "31               2020-03                   2020-03 -0.724415           0.0   \n",
       "32               2020-12                   2020-12 -0.724415           0.0   \n",
       "33               2020-01                   2020-01 -0.713754           0.0   \n",
       "34               2020-02                   2020-02 -0.713754           0.0   \n",
       "35               2020-02                   2020-02 -0.713754           0.0   \n",
       "36               2020-04                   2020-04 -0.650280           0.0   \n",
       "37               2020-12                   2020-12 -0.593064           0.0   \n",
       "38               2020-04                   2020-04 -0.593064           0.0   \n",
       "39               2020-06                   2020-06 -0.593064           0.0   \n",
       "40               2020-04                   2020-04 -0.573491           0.0   \n",
       "41               2020-11                   2020-11 -0.573491           0.0   \n",
       "42               2020-07                   2020-07 -0.559675           0.0   \n",
       "43               2020-06                   2020-06 -0.559675           0.0   \n",
       "44               2020-11                   2020-11 -0.505491           4.0   \n",
       "45               2020-04                   2020-04 -0.505491           0.0   \n",
       "46               2020-10                   2020-10 -0.505491           0.0   \n",
       "47               2020-06                   2020-06 -0.505491           0.0   \n",
       "48               2020-11                   2020-11 -0.504881           0.0   \n",
       "49               2020-06                   2020-06 -0.504881           3.0   \n",
       "\n",
       "    match  rank  \n",
       "0   False     1  \n",
       "1    True     2  \n",
       "2   False     3  \n",
       "3   False     4  \n",
       "4    True     5  \n",
       "5   False     6  \n",
       "6    True     7  \n",
       "7   False     8  \n",
       "8    True     9  \n",
       "9   False    10  \n",
       "10   True    11  \n",
       "11  False    12  \n",
       "12  False    13  \n",
       "13   True    14  \n",
       "14  False    15  \n",
       "15   True    16  \n",
       "16   True    17  \n",
       "17   True    18  \n",
       "18  False    19  \n",
       "19  False    20  \n",
       "20  False    21  \n",
       "21   True    22  \n",
       "22  False    23  \n",
       "23   True    24  \n",
       "24   True    25  \n",
       "25  False    26  \n",
       "26  False    27  \n",
       "27  False    28  \n",
       "28   True    29  \n",
       "29   True    30  \n",
       "30  False    31  \n",
       "31  False    32  \n",
       "32  False    33  \n",
       "33  False    34  \n",
       "34  False    35  \n",
       "35  False    36  \n",
       "36  False    37  \n",
       "37  False    38  \n",
       "38  False    39  \n",
       "39  False    40  \n",
       "40  False    41  \n",
       "41  False    42  \n",
       "42  False    43  \n",
       "43  False    44  \n",
       "44   True    45  \n",
       "45  False    46  \n",
       "46  False    47  \n",
       "47  False    48  \n",
       "48  False    49  \n",
       "49   True    50  "
      ]
     },
     "execution_count": 91,
     "metadata": {},
     "output_type": "execute_result"
    }
   ],
   "source": [
    "prioritised_subclonal_by_conservation_vaf03.head(50)"
   ]
  },
  {
   "cell_type": "code",
   "execution_count": 95,
   "id": "b6b49415-9843-4a7f-bb92-11552e10add2",
   "metadata": {},
   "outputs": [
    {
     "data": {
      "text/html": [
       "<div>\n",
       "<style scoped>\n",
       "    .dataframe tbody tr th:only-of-type {\n",
       "        vertical-align: middle;\n",
       "    }\n",
       "\n",
       "    .dataframe tbody tr th {\n",
       "        vertical-align: top;\n",
       "    }\n",
       "\n",
       "    .dataframe thead th {\n",
       "        text-align: right;\n",
       "    }\n",
       "</style>\n",
       "<table border=\"1\" class=\"dataframe\">\n",
       "  <thead>\n",
       "    <tr style=\"text-align: right;\">\n",
       "      <th></th>\n",
       "      <th>variant_id</th>\n",
       "      <th>hgvs_p</th>\n",
       "      <th>gene_name</th>\n",
       "      <th>cons_hmm_sars_cov_2</th>\n",
       "      <th>count_subclonal</th>\n",
       "      <th>count_clonal</th>\n",
       "    </tr>\n",
       "  </thead>\n",
       "  <tbody>\n",
       "    <tr>\n",
       "      <th>0</th>\n",
       "      <td>23607:G&gt;T</td>\n",
       "      <td>p.R682L</td>\n",
       "      <td>S</td>\n",
       "      <td>-1.02973</td>\n",
       "      <td>5</td>\n",
       "      <td>0.0</td>\n",
       "    </tr>\n",
       "    <tr>\n",
       "      <th>4</th>\n",
       "      <td>23031:T&gt;C</td>\n",
       "      <td>p.F490S</td>\n",
       "      <td>S</td>\n",
       "      <td>-1.02973</td>\n",
       "      <td>3</td>\n",
       "      <td>48.0</td>\n",
       "    </tr>\n",
       "    <tr>\n",
       "      <th>33</th>\n",
       "      <td>23034:C&gt;T</td>\n",
       "      <td>p.P491L</td>\n",
       "      <td>S</td>\n",
       "      <td>-1.02973</td>\n",
       "      <td>2</td>\n",
       "      <td>0.0</td>\n",
       "    </tr>\n",
       "    <tr>\n",
       "      <th>34</th>\n",
       "      <td>23606:C&gt;T</td>\n",
       "      <td>p.R682W</td>\n",
       "      <td>S</td>\n",
       "      <td>-1.02973</td>\n",
       "      <td>2</td>\n",
       "      <td>0.0</td>\n",
       "    </tr>\n",
       "    <tr>\n",
       "      <th>44</th>\n",
       "      <td>22199:G&gt;T</td>\n",
       "      <td>p.V213L</td>\n",
       "      <td>S</td>\n",
       "      <td>-0.72927</td>\n",
       "      <td>2</td>\n",
       "      <td>4.0</td>\n",
       "    </tr>\n",
       "  </tbody>\n",
       "</table>\n",
       "</div>"
      ],
      "text/plain": [
       "   variant_id   hgvs_p gene_name  cons_hmm_sars_cov_2  count_subclonal  \\\n",
       "0   23607:G>T  p.R682L         S             -1.02973                5   \n",
       "4   23031:T>C  p.F490S         S             -1.02973                3   \n",
       "33  23034:C>T  p.P491L         S             -1.02973                2   \n",
       "34  23606:C>T  p.R682W         S             -1.02973                2   \n",
       "44  22199:G>T  p.V213L         S             -0.72927                2   \n",
       "\n",
       "    count_clonal  \n",
       "0            0.0  \n",
       "4           48.0  \n",
       "33           0.0  \n",
       "34           0.0  \n",
       "44           4.0  "
      ]
     },
     "execution_count": 95,
     "metadata": {},
     "output_type": "execute_result"
    }
   ],
   "source": [
    "prioritised_subclonal_by_conservation_vaf03.head(50)[prioritised_subclonal_by_conservation_vaf03.gene_name == \"S\"][[\"variant_id\", \"hgvs_p\", \"gene_name\", \"cons_hmm_sars_cov_2\", \"count_subclonal\", \"count_clonal\"]]"
   ]
  },
  {
   "cell_type": "code",
   "execution_count": 105,
   "id": "0aa7bb3e-fb43-40b4-a198-b3cca775a302",
   "metadata": {},
   "outputs": [
    {
     "data": {
      "text/html": [
       "<div>\n",
       "<style scoped>\n",
       "    .dataframe tbody tr th:only-of-type {\n",
       "        vertical-align: middle;\n",
       "    }\n",
       "\n",
       "    .dataframe tbody tr th {\n",
       "        vertical-align: top;\n",
       "    }\n",
       "\n",
       "    .dataframe thead th {\n",
       "        text-align: right;\n",
       "    }\n",
       "</style>\n",
       "<table border=\"1\" class=\"dataframe\">\n",
       "  <thead>\n",
       "    <tr style=\"text-align: right;\">\n",
       "      <th></th>\n",
       "      <th>index</th>\n",
       "      <th>variant_id</th>\n",
       "      <th>count_subclonal</th>\n",
       "      <th>sample</th>\n",
       "      <th>cons_hmm_sars_cov_2</th>\n",
       "      <th>gene_name</th>\n",
       "      <th>hgvs_p</th>\n",
       "      <th>run_accession</th>\n",
       "      <th>collection_date</th>\n",
       "      <th>collection_date_month</th>\n",
       "      <th>collection_date_month_str</th>\n",
       "      <th>af_cons</th>\n",
       "      <th>count_clonal</th>\n",
       "      <th>match</th>\n",
       "      <th>rank</th>\n",
       "    </tr>\n",
       "  </thead>\n",
       "  <tbody>\n",
       "    <tr>\n",
       "      <th>686</th>\n",
       "      <td>686</td>\n",
       "      <td>22917:T&gt;A</td>\n",
       "      <td>5</td>\n",
       "      <td>ERR5075255</td>\n",
       "      <td>-1.02973</td>\n",
       "      <td>S</td>\n",
       "      <td>p.L452Q</td>\n",
       "      <td>ERR5075255</td>\n",
       "      <td>2020-01-01</td>\n",
       "      <td>2020-01</td>\n",
       "      <td>2020-01</td>\n",
       "      <td>-1.657286</td>\n",
       "      <td>37.0</td>\n",
       "      <td>True</td>\n",
       "      <td>687</td>\n",
       "    </tr>\n",
       "  </tbody>\n",
       "</table>\n",
       "</div>"
      ],
      "text/plain": [
       "     index variant_id  count_subclonal      sample  cons_hmm_sars_cov_2  \\\n",
       "686    686  22917:T>A                5  ERR5075255             -1.02973   \n",
       "\n",
       "    gene_name   hgvs_p run_accession collection_date collection_date_month  \\\n",
       "686         S  p.L452Q    ERR5075255      2020-01-01               2020-01   \n",
       "\n",
       "    collection_date_month_str   af_cons  count_clonal  match  rank  \n",
       "686                   2020-01 -1.657286          37.0   True   687  "
      ]
     },
     "execution_count": 105,
     "metadata": {},
     "output_type": "execute_result"
    }
   ],
   "source": [
    "prioritised_subclonal_by_conservation_vaf001[prioritised_subclonal_by_conservation_vaf001.hgvs_p == \"p.L452Q\"]"
   ]
  },
  {
   "cell_type": "code",
   "execution_count": 107,
   "id": "d2892d9e-18a9-45a7-8627-58ec5810ffa2",
   "metadata": {},
   "outputs": [
    {
     "data": {
      "text/html": [
       "<div>\n",
       "<style scoped>\n",
       "    .dataframe tbody tr th:only-of-type {\n",
       "        vertical-align: middle;\n",
       "    }\n",
       "\n",
       "    .dataframe tbody tr th {\n",
       "        vertical-align: top;\n",
       "    }\n",
       "\n",
       "    .dataframe thead th {\n",
       "        text-align: right;\n",
       "    }\n",
       "</style>\n",
       "<table border=\"1\" class=\"dataframe\">\n",
       "  <thead>\n",
       "    <tr style=\"text-align: right;\">\n",
       "      <th></th>\n",
       "      <th>index</th>\n",
       "      <th>variant_id</th>\n",
       "      <th>count_subclonal</th>\n",
       "      <th>sample</th>\n",
       "      <th>cons_hmm_sars_cov_2</th>\n",
       "      <th>gene_name</th>\n",
       "      <th>hgvs_p</th>\n",
       "      <th>run_accession</th>\n",
       "      <th>collection_date</th>\n",
       "      <th>collection_date_month</th>\n",
       "      <th>collection_date_month_str</th>\n",
       "      <th>af_cons</th>\n",
       "      <th>count_clonal</th>\n",
       "      <th>match</th>\n",
       "      <th>rank</th>\n",
       "    </tr>\n",
       "  </thead>\n",
       "  <tbody>\n",
       "  </tbody>\n",
       "</table>\n",
       "</div>"
      ],
      "text/plain": [
       "Empty DataFrame\n",
       "Columns: [index, variant_id, count_subclonal, sample, cons_hmm_sars_cov_2, gene_name, hgvs_p, run_accession, collection_date, collection_date_month, collection_date_month_str, af_cons, count_clonal, match, rank]\n",
       "Index: []"
      ]
     },
     "execution_count": 107,
     "metadata": {},
     "output_type": "execute_result"
    }
   ],
   "source": [
    "prioritised_subclonal_by_conservation_vaf001[prioritised_subclonal_by_conservation_vaf001.hgvs_p == \"p.G75V\"]"
   ]
  },
  {
   "cell_type": "code",
   "execution_count": 118,
   "id": "eb4a0efc-b9d3-47d6-a852-7da8ae1f8b89",
   "metadata": {},
   "outputs": [
    {
     "name": "stdout",
     "output_type": "stream",
     "text": [
      "matches=16, ranks=[2, 5, 7, 9, 11, 14, 16, 17, 18, 22, 24, 25, 29, 30, 45, 50]\n",
      "DCG=4.319\n",
      "nDCG=0.335\n",
      "Random sort (n=100) median DCG=0.77, uDCG=0.06, matches=7.0\n"
     ]
    }
   ],
   "source": [
    "dcg, ndcg = get_normalized_discounted_cumulative_gain(data=prioritised_subclonal_by_conservation_vaf03)  #get_ideal_discounted_cumulative_gain(data=prioritised_subclonal_vaf03)"
   ]
  },
  {
   "cell_type": "code",
   "execution_count": 206,
   "id": "3b5ffa3e-3b62-46f5-971b-6779bd93141a",
   "metadata": {},
   "outputs": [
    {
     "data": {
      "image/png": "[encoded data removed]",
      "text/plain": [
       "<Figure size 1440x576 with 1 Axes>"
      ]
     },
     "metadata": {
      "needs_background": "light"
     },
     "output_type": "display_data"
    }
   ],
   "source": [
    "data = pd.DataFrame({\"vaf_threshold\":[1, 2, 3, 5, 10, 20, 30], \n",
    "                     \"prioritization_by_subclonal_count\":[0.074, 0.078, 0.069, 0.072, 0.103, 0.158, 0.248],\n",
    "                     \"prioritization_by_subclonal_count_and_conservation\":[0.129, 0.129, 0.106, 0.153, 0.186, 0.193, 0.348],\n",
    "                     \"prioritization_random_median\":[0.018, 0.023, 0.023, 0.028, 0.035, 0.04, 0.056],\n",
    "                     \"prioritization_random_max\":[0.054, 0.067, 0.059, 0.061, 0.078, 0.097, 0.109]\n",
    "                    })\n",
    "\n",
    "fig, ax = plt.subplots(1, 1, figsize=(20, 8))\n",
    "sns.lineplot(data=data, x=\"vaf_threshold\", y=\"prioritization_by_subclonal_count\", color=blue, label=\"subclonal AF\", marker='o')\n",
    "sns.lineplot(data=data, x=\"vaf_threshold\", y=\"prioritization_by_subclonal_count_and_conservation\", color=orange, label=\"subclonal AF + conservation\", marker='o')\n",
    "sns.lineplot(data=data, x=\"vaf_threshold\", y=\"prioritization_random_median\", color=grey, label=\"random sort median (n=100)\", marker='o', linestyle='--', )\n",
    "sns.lineplot(data=data, x=\"vaf_threshold\", y=\"prioritization_random_max\", color=grey, label=\"random sort max (n=100)\", marker='o', linestyle='dotted', )\n",
    "plt.axhline(1.0, linestyle='--', color=red, label=\"ideal (sort by clonal frequency)\")\n",
    "plt.title(\"Discounted Cumulative Gain (DCG) on the top 50 predictions of new clonal variants from 2020 subclonal variants\")\n",
    "plt.xlabel(\"VAF >= X %\")\n",
    "plt.ylabel(\"nDCG\")\n",
    "sns.despine(bottom=True, left=True)\n",
    "ax.legend()\n",
    "plt.tight_layout()\n",
    "fig.savefig(os.path.join(figure_output_folder, \"figure_08_prediction_clonal_ndcg.jpg\"), dpi=200)"
   ]
  },
  {
   "cell_type": "code",
   "execution_count": 207,
   "id": "87b3cbf2-c2f7-4709-8399-285bb98762c7",
   "metadata": {},
   "outputs": [
    {
     "name": "stdout",
     "output_type": "stream",
     "text": [
      "0.07680830747195035\n",
      "0.08194740582800285\n",
      "0.08579453922095089\n",
      "0.09396302557670284\n",
      "0.11007138722747443\n",
      "0.127136021872864\n",
      "0.16535819430814525\n"
     ]
    }
   ],
   "source": [
    "def get_percentage_clonal(data):\n",
    "    return data[data.count_clonal > 0].shape[0] / data[data.count_clonal == 0].shape[0]\n",
    "\n",
    "print(get_percentage_clonal(data=prioritised_subclonal_by_conservation_vaf001))\n",
    "print(get_percentage_clonal(data=prioritised_subclonal_by_conservation_vaf002))\n",
    "print(get_percentage_clonal(data=prioritised_subclonal_by_conservation_vaf003))\n",
    "print(get_percentage_clonal(data=prioritised_subclonal_by_conservation_vaf005))\n",
    "print(get_percentage_clonal(data=prioritised_subclonal_by_conservation_vaf01))\n",
    "print(get_percentage_clonal(data=prioritised_subclonal_by_conservation_vaf02))\n",
    "print(get_percentage_clonal(data=prioritised_subclonal_by_conservation_vaf03))"
   ]
  },
  {
   "cell_type": "code",
   "execution_count": 210,
   "id": "bfdeb081-f70a-4fc0-940b-bcb04b8d2d84",
   "metadata": {},
   "outputs": [
    {
     "data": {
      "image/png": "[encoded data removed]",
      "text/plain": [
       "<Figure size 1440x864 with 2 Axes>"
      ]
     },
     "metadata": {
      "needs_background": "light"
     },
     "output_type": "display_data"
    }
   ],
   "source": [
    "data = pd.DataFrame({\"vaf_threshold\":[1, 2, 3, 5, 10, 20, 30], \n",
    "                     \"matches_by_subclonal_count\":[5,5,4,4,6,9,14],\n",
    "                     \"matches_by_subclonal_count_and_conservation\":[8,8,6,9,10,10,17],\n",
    "                     \"matches_random_median\":[3,4,4,5,5,5,7],\n",
    "                     \"matches_random_max\":[9,12,9,10,12,11,13],\n",
    "                     \"percent_clonal\": [0.07680830747195035,0.08194740582800285,0.08579453922095089,0.09396302557670284,\n",
    "                                        0.11007138722747443,0.127136021872864,0.16535819430814525]\n",
    "                    })\n",
    "data[\"percent_clonal\"] =  data[\"percent_clonal\"].transform(lambda x: round(x*100, 3))\n",
    "\n",
    "fig, (ax1, ax2) = plt.subplots(2, 1, figsize=(20, 12))\n",
    "sns.lineplot(data=data, x=\"vaf_threshold\", y=\"matches_by_subclonal_count\", color=blue, label=\"subclonal AF\", marker='o', ax=ax1)\n",
    "sns.lineplot(data=data, x=\"vaf_threshold\", y=\"matches_by_subclonal_count_and_conservation\", color=orange, label=\"subclonal AF + conservation\", marker='o', ax=ax1)\n",
    "sns.lineplot(data=data, x=\"vaf_threshold\", y=\"matches_random_median\", color=grey, label=\"random sort median (n=100)\", marker='o', linestyle='--', ax=ax1)\n",
    "sns.lineplot(data=data, x=\"vaf_threshold\", y=\"matches_random_max\", color=grey, label=\"random sort max (n=100)\", marker='o', linestyle='dotted', ax=ax1)\n",
    "ax1.set_title(\"Number of matches on the prediction of new clonal variants from 2020 subclonal variants\")\n",
    "ax1.set_xlabel(\"VAF >= X %\")\n",
    "ax1.set_ylabel(\"No of matches\")\n",
    "sns.despine(bottom=True, left=True)\n",
    "ax1.legend()\n",
    "\n",
    "sns.barplot(data=data, x=\"vaf_threshold\", y=\"percent_clonal\", color=grey, ax=ax2)\n",
    "\n",
    "ax2.set_xlabel(\"VAF >= X %\")\n",
    "ax2.set_ylabel(\"Percentage of clonal in dataset\")\n",
    "\n",
    "plt.tight_layout()\n",
    "fig.savefig(os.path.join(figure_output_folder, \"figure_08_prediction_clonal_matches.jpg\"), dpi=200) "
   ]
  },
  {
   "cell_type": "markdown",
   "id": "bf4218a0-b2ff-4380-9068-452d92ad635b",
   "metadata": {},
   "source": [
    "### Prediction on current data"
   ]
  },
  {
   "cell_type": "code",
   "execution_count": 180,
   "id": "356a73ac-ca0e-4955-abe4-760a42d40943",
   "metadata": {},
   "outputs": [],
   "source": [
    "clonal_data_with_dates = add_dates_to_variants(clonal_snvs_non_synonymous, sample_ena_filtered_samples)\n",
    "subclonal_data_with_dates = add_dates_to_variants(\n",
    "    subclonal_snvs_filtered_vaf03[(subclonal_snvs_filtered_vaf03.annotation_highest_impact != \"synonymous_variant\") & \n",
    "                                 (~subclonal_snvs_filtered_vaf03.gene_name.isna())], sample_ena_filtered_samples)\n",
    "only_subclonal = subclonal_data_with_dates[~subclonal_data_with_dates.variant_id.isin(clonal_data_with_dates.variant_id.unique())]"
   ]
  },
  {
   "cell_type": "code",
   "execution_count": 213,
   "id": "770d91c9-b7b0-4ce1-af68-297e4eb93123",
   "metadata": {},
   "outputs": [
    {
     "data": {
      "text/html": [
       "<div>\n",
       "<style scoped>\n",
       "    .dataframe tbody tr th:only-of-type {\n",
       "        vertical-align: middle;\n",
       "    }\n",
       "\n",
       "    .dataframe tbody tr th {\n",
       "        vertical-align: top;\n",
       "    }\n",
       "\n",
       "    .dataframe thead th {\n",
       "        text-align: right;\n",
       "    }\n",
       "</style>\n",
       "<table border=\"1\" class=\"dataframe\">\n",
       "  <thead>\n",
       "    <tr style=\"text-align: right;\">\n",
       "      <th></th>\n",
       "      <th>variant_id</th>\n",
       "      <th>hgvs_p</th>\n",
       "      <th>gene_name</th>\n",
       "      <th>count_subclonal</th>\n",
       "      <th>cons_hmm_sars_cov_2</th>\n",
       "      <th>af_cons</th>\n",
       "    </tr>\n",
       "  </thead>\n",
       "  <tbody>\n",
       "    <tr>\n",
       "      <th>1423</th>\n",
       "      <td>21920:G&gt;A</td>\n",
       "      <td>p.V120I</td>\n",
       "      <td>S</td>\n",
       "      <td>153</td>\n",
       "      <td>-0.72927</td>\n",
       "      <td>-3.668547</td>\n",
       "    </tr>\n",
       "    <tr>\n",
       "      <th>1518</th>\n",
       "      <td>22604:G&gt;C</td>\n",
       "      <td>p.A348P</td>\n",
       "      <td>S</td>\n",
       "      <td>7</td>\n",
       "      <td>-1.04511</td>\n",
       "      <td>-2.033690</td>\n",
       "    </tr>\n",
       "    <tr>\n",
       "      <th>1648</th>\n",
       "      <td>23607:G&gt;T</td>\n",
       "      <td>p.R682L</td>\n",
       "      <td>S</td>\n",
       "      <td>5</td>\n",
       "      <td>-1.02973</td>\n",
       "      <td>-1.657286</td>\n",
       "    </tr>\n",
       "    <tr>\n",
       "      <th>1061</th>\n",
       "      <td>18657:C&gt;A</td>\n",
       "      <td>p.P6131H</td>\n",
       "      <td>ORF1ab</td>\n",
       "      <td>4</td>\n",
       "      <td>-1.04511</td>\n",
       "      <td>-1.448830</td>\n",
       "    </tr>\n",
       "    <tr>\n",
       "      <th>2181</th>\n",
       "      <td>28099:C&gt;T</td>\n",
       "      <td>p.S69L</td>\n",
       "      <td>ORF8</td>\n",
       "      <td>5</td>\n",
       "      <td>-0.80744</td>\n",
       "      <td>-1.299525</td>\n",
       "    </tr>\n",
       "    <tr>\n",
       "      <th>732</th>\n",
       "      <td>15927:T&gt;C</td>\n",
       "      <td>p.F5221S</td>\n",
       "      <td>ORF1ab</td>\n",
       "      <td>3</td>\n",
       "      <td>-1.04511</td>\n",
       "      <td>-1.148171</td>\n",
       "    </tr>\n",
       "    <tr>\n",
       "      <th>3064</th>\n",
       "      <td>8771:A&gt;G</td>\n",
       "      <td>p.T2836A</td>\n",
       "      <td>ORF1ab</td>\n",
       "      <td>3</td>\n",
       "      <td>-1.04511</td>\n",
       "      <td>-1.148171</td>\n",
       "    </tr>\n",
       "    <tr>\n",
       "      <th>664</th>\n",
       "      <td>15369:A&gt;T</td>\n",
       "      <td>p.Q5035L</td>\n",
       "      <td>ORF1ab</td>\n",
       "      <td>3</td>\n",
       "      <td>-1.04511</td>\n",
       "      <td>-1.148171</td>\n",
       "    </tr>\n",
       "    <tr>\n",
       "      <th>1372</th>\n",
       "      <td>21450:A&gt;C</td>\n",
       "      <td>p.K7062T</td>\n",
       "      <td>ORF1ab</td>\n",
       "      <td>3</td>\n",
       "      <td>-1.04511</td>\n",
       "      <td>-1.148171</td>\n",
       "    </tr>\n",
       "    <tr>\n",
       "      <th>601</th>\n",
       "      <td>14847:A&gt;G</td>\n",
       "      <td>p.Y4861C</td>\n",
       "      <td>ORF1ab</td>\n",
       "      <td>3</td>\n",
       "      <td>-1.04511</td>\n",
       "      <td>-1.148171</td>\n",
       "    </tr>\n",
       "    <tr>\n",
       "      <th>1647</th>\n",
       "      <td>23607:G&gt;A</td>\n",
       "      <td>p.R682Q</td>\n",
       "      <td>S</td>\n",
       "      <td>3</td>\n",
       "      <td>-1.02973</td>\n",
       "      <td>-1.131274</td>\n",
       "    </tr>\n",
       "    <tr>\n",
       "      <th>1649</th>\n",
       "      <td>23610:G&gt;A</td>\n",
       "      <td>p.R683Q</td>\n",
       "      <td>S</td>\n",
       "      <td>3</td>\n",
       "      <td>-1.02973</td>\n",
       "      <td>-1.131274</td>\n",
       "    </tr>\n",
       "    <tr>\n",
       "      <th>1370</th>\n",
       "      <td>21420:A&gt;C</td>\n",
       "      <td>p.*7052Sext*?</td>\n",
       "      <td>ORF1ab</td>\n",
       "      <td>13</td>\n",
       "      <td>-0.35633</td>\n",
       "      <td>-0.913968</td>\n",
       "    </tr>\n",
       "    <tr>\n",
       "      <th>2144</th>\n",
       "      <td>27765:C&gt;G</td>\n",
       "      <td>p.L4V</td>\n",
       "      <td>ORF7b</td>\n",
       "      <td>2</td>\n",
       "      <td>-1.27455</td>\n",
       "      <td>-0.883451</td>\n",
       "    </tr>\n",
       "    <tr>\n",
       "      <th>1721</th>\n",
       "      <td>24172:T&gt;G</td>\n",
       "      <td>p.I870M</td>\n",
       "      <td>S</td>\n",
       "      <td>2</td>\n",
       "      <td>-1.27455</td>\n",
       "      <td>-0.883451</td>\n",
       "    </tr>\n",
       "    <tr>\n",
       "      <th>1267</th>\n",
       "      <td>20445:T&gt;A</td>\n",
       "      <td>p.L6727*</td>\n",
       "      <td>ORF1ab</td>\n",
       "      <td>2</td>\n",
       "      <td>-1.04511</td>\n",
       "      <td>-0.724415</td>\n",
       "    </tr>\n",
       "    <tr>\n",
       "      <th>1124</th>\n",
       "      <td>19218:T&gt;C</td>\n",
       "      <td>p.L6318P</td>\n",
       "      <td>ORF1ab</td>\n",
       "      <td>2</td>\n",
       "      <td>-1.04511</td>\n",
       "      <td>-0.724415</td>\n",
       "    </tr>\n",
       "    <tr>\n",
       "      <th>2457</th>\n",
       "      <td>3863:G&gt;T</td>\n",
       "      <td>p.E1200*</td>\n",
       "      <td>ORF1ab</td>\n",
       "      <td>2</td>\n",
       "      <td>-1.04511</td>\n",
       "      <td>-0.724415</td>\n",
       "    </tr>\n",
       "    <tr>\n",
       "      <th>2321</th>\n",
       "      <td>29318:C&gt;T</td>\n",
       "      <td>p.Q349*</td>\n",
       "      <td>N</td>\n",
       "      <td>2</td>\n",
       "      <td>-1.04511</td>\n",
       "      <td>-0.724415</td>\n",
       "    </tr>\n",
       "    <tr>\n",
       "      <th>459</th>\n",
       "      <td>13695:A&gt;G</td>\n",
       "      <td>p.Q4477R</td>\n",
       "      <td>ORF1ab</td>\n",
       "      <td>2</td>\n",
       "      <td>-1.04511</td>\n",
       "      <td>-0.724415</td>\n",
       "    </tr>\n",
       "    <tr>\n",
       "      <th>666</th>\n",
       "      <td>15380:G&gt;C</td>\n",
       "      <td>p.A5039P</td>\n",
       "      <td>ORF1ab</td>\n",
       "      <td>2</td>\n",
       "      <td>-1.04511</td>\n",
       "      <td>-0.724415</td>\n",
       "    </tr>\n",
       "    <tr>\n",
       "      <th>82</th>\n",
       "      <td>10718:C&gt;T</td>\n",
       "      <td>p.R3485*</td>\n",
       "      <td>ORF1ab</td>\n",
       "      <td>2</td>\n",
       "      <td>-1.04511</td>\n",
       "      <td>-0.724415</td>\n",
       "    </tr>\n",
       "    <tr>\n",
       "      <th>913</th>\n",
       "      <td>17376:A&gt;G</td>\n",
       "      <td>p.Q5704R</td>\n",
       "      <td>ORF1ab</td>\n",
       "      <td>2</td>\n",
       "      <td>-1.04511</td>\n",
       "      <td>-0.724415</td>\n",
       "    </tr>\n",
       "    <tr>\n",
       "      <th>498</th>\n",
       "      <td>13998:G&gt;T</td>\n",
       "      <td>p.C4578F</td>\n",
       "      <td>ORF1ab</td>\n",
       "      <td>2</td>\n",
       "      <td>-1.04511</td>\n",
       "      <td>-0.724415</td>\n",
       "    </tr>\n",
       "    <tr>\n",
       "      <th>2566</th>\n",
       "      <td>4829:C&gt;T</td>\n",
       "      <td>p.Q1522*</td>\n",
       "      <td>ORF1ab</td>\n",
       "      <td>2</td>\n",
       "      <td>-1.04511</td>\n",
       "      <td>-0.724415</td>\n",
       "    </tr>\n",
       "    <tr>\n",
       "      <th>2402</th>\n",
       "      <td>3290:C&gt;G</td>\n",
       "      <td>p.Q1009E</td>\n",
       "      <td>ORF1ab</td>\n",
       "      <td>2</td>\n",
       "      <td>-1.02973</td>\n",
       "      <td>-0.713754</td>\n",
       "    </tr>\n",
       "    <tr>\n",
       "      <th>1579</th>\n",
       "      <td>23034:C&gt;T</td>\n",
       "      <td>p.P491L</td>\n",
       "      <td>S</td>\n",
       "      <td>2</td>\n",
       "      <td>-1.02973</td>\n",
       "      <td>-0.713754</td>\n",
       "    </tr>\n",
       "    <tr>\n",
       "      <th>1646</th>\n",
       "      <td>23606:C&gt;T</td>\n",
       "      <td>p.R682W</td>\n",
       "      <td>S</td>\n",
       "      <td>2</td>\n",
       "      <td>-1.02973</td>\n",
       "      <td>-0.713754</td>\n",
       "    </tr>\n",
       "    <tr>\n",
       "      <th>1572</th>\n",
       "      <td>22988:G&gt;T</td>\n",
       "      <td>p.G476C</td>\n",
       "      <td>S</td>\n",
       "      <td>2</td>\n",
       "      <td>-1.02973</td>\n",
       "      <td>-0.713754</td>\n",
       "    </tr>\n",
       "    <tr>\n",
       "      <th>1434</th>\n",
       "      <td>22004:A&gt;G</td>\n",
       "      <td>p.N148D</td>\n",
       "      <td>S</td>\n",
       "      <td>2</td>\n",
       "      <td>-1.02973</td>\n",
       "      <td>-0.713754</td>\n",
       "    </tr>\n",
       "    <tr>\n",
       "      <th>3179</th>\n",
       "      <td>9721:T&gt;A</td>\n",
       "      <td>p.H3152Q</td>\n",
       "      <td>ORF1ab</td>\n",
       "      <td>3</td>\n",
       "      <td>-0.59191</td>\n",
       "      <td>-0.650280</td>\n",
       "    </tr>\n",
       "    <tr>\n",
       "      <th>2856</th>\n",
       "      <td>7211:T&gt;A</td>\n",
       "      <td>p.W2316R</td>\n",
       "      <td>ORF1ab</td>\n",
       "      <td>2</td>\n",
       "      <td>-0.85561</td>\n",
       "      <td>-0.593064</td>\n",
       "    </tr>\n",
       "    <tr>\n",
       "      <th>1189</th>\n",
       "      <td>19779:A&gt;T</td>\n",
       "      <td>p.*6505Lext*?</td>\n",
       "      <td>ORF1ab</td>\n",
       "      <td>2</td>\n",
       "      <td>-0.85561</td>\n",
       "      <td>-0.593064</td>\n",
       "    </tr>\n",
       "    <tr>\n",
       "      <th>2512</th>\n",
       "      <td>4340:A&gt;C</td>\n",
       "      <td>p.I1359L</td>\n",
       "      <td>ORF1ab</td>\n",
       "      <td>2</td>\n",
       "      <td>-0.85561</td>\n",
       "      <td>-0.593064</td>\n",
       "    </tr>\n",
       "    <tr>\n",
       "      <th>282</th>\n",
       "      <td>12355:G&gt;T</td>\n",
       "      <td>p.Q4030H</td>\n",
       "      <td>ORF1ab</td>\n",
       "      <td>2</td>\n",
       "      <td>-0.85561</td>\n",
       "      <td>-0.593064</td>\n",
       "    </tr>\n",
       "    <tr>\n",
       "      <th>1140</th>\n",
       "      <td>19344:T&gt;C</td>\n",
       "      <td>p.L6360P</td>\n",
       "      <td>ORF1ab</td>\n",
       "      <td>2</td>\n",
       "      <td>-0.85561</td>\n",
       "      <td>-0.593064</td>\n",
       "    </tr>\n",
       "    <tr>\n",
       "      <th>3082</th>\n",
       "      <td>8887:A&gt;C</td>\n",
       "      <td>p.L2874F</td>\n",
       "      <td>ORF1ab</td>\n",
       "      <td>2</td>\n",
       "      <td>-0.85561</td>\n",
       "      <td>-0.593064</td>\n",
       "    </tr>\n",
       "    <tr>\n",
       "      <th>2070</th>\n",
       "      <td>27158:T&gt;G</td>\n",
       "      <td>p.S212R</td>\n",
       "      <td>M</td>\n",
       "      <td>5</td>\n",
       "      <td>-0.35633</td>\n",
       "      <td>-0.573491</td>\n",
       "    </tr>\n",
       "    <tr>\n",
       "      <th>2381</th>\n",
       "      <td>3171:T&gt;C</td>\n",
       "      <td>p.L969P</td>\n",
       "      <td>ORF1ab</td>\n",
       "      <td>2</td>\n",
       "      <td>-0.80744</td>\n",
       "      <td>-0.559675</td>\n",
       "    </tr>\n",
       "    <tr>\n",
       "      <th>2478</th>\n",
       "      <td>4067:G&gt;A</td>\n",
       "      <td>p.A1268T</td>\n",
       "      <td>ORF1ab</td>\n",
       "      <td>2</td>\n",
       "      <td>-0.80744</td>\n",
       "      <td>-0.559675</td>\n",
       "    </tr>\n",
       "    <tr>\n",
       "      <th>2188</th>\n",
       "      <td>28197:T&gt;C</td>\n",
       "      <td>p.C102R</td>\n",
       "      <td>ORF8</td>\n",
       "      <td>2</td>\n",
       "      <td>-0.80744</td>\n",
       "      <td>-0.559675</td>\n",
       "    </tr>\n",
       "    <tr>\n",
       "      <th>2179</th>\n",
       "      <td>28081:A&gt;G</td>\n",
       "      <td>p.D63G</td>\n",
       "      <td>ORF8</td>\n",
       "      <td>2</td>\n",
       "      <td>-0.80744</td>\n",
       "      <td>-0.559675</td>\n",
       "    </tr>\n",
       "    <tr>\n",
       "      <th>2479</th>\n",
       "      <td>4068:C&gt;T</td>\n",
       "      <td>p.A1268V</td>\n",
       "      <td>ORF1ab</td>\n",
       "      <td>2</td>\n",
       "      <td>-0.80744</td>\n",
       "      <td>-0.559675</td>\n",
       "    </tr>\n",
       "    <tr>\n",
       "      <th>2383</th>\n",
       "      <td>3181:A&gt;C</td>\n",
       "      <td>p.E972D</td>\n",
       "      <td>ORF1ab</td>\n",
       "      <td>2</td>\n",
       "      <td>-0.80744</td>\n",
       "      <td>-0.559675</td>\n",
       "    </tr>\n",
       "    <tr>\n",
       "      <th>164</th>\n",
       "      <td>1143:T&gt;G</td>\n",
       "      <td>p.L293R</td>\n",
       "      <td>ORF1ab</td>\n",
       "      <td>2</td>\n",
       "      <td>-0.72927</td>\n",
       "      <td>-0.505491</td>\n",
       "    </tr>\n",
       "    <tr>\n",
       "      <th>2378</th>\n",
       "      <td>3161:T&gt;C</td>\n",
       "      <td>p.S966P</td>\n",
       "      <td>ORF1ab</td>\n",
       "      <td>2</td>\n",
       "      <td>-0.72927</td>\n",
       "      <td>-0.505491</td>\n",
       "    </tr>\n",
       "    <tr>\n",
       "      <th>1157</th>\n",
       "      <td>1956:A&gt;G</td>\n",
       "      <td>p.K564R</td>\n",
       "      <td>ORF1ab</td>\n",
       "      <td>2</td>\n",
       "      <td>-0.72927</td>\n",
       "      <td>-0.505491</td>\n",
       "    </tr>\n",
       "    <tr>\n",
       "      <th>1232</th>\n",
       "      <td>2022:T&gt;G</td>\n",
       "      <td>p.F586C</td>\n",
       "      <td>ORF1ab</td>\n",
       "      <td>2</td>\n",
       "      <td>-0.72927</td>\n",
       "      <td>-0.505491</td>\n",
       "    </tr>\n",
       "    <tr>\n",
       "      <th>678</th>\n",
       "      <td>15483:A&gt;G</td>\n",
       "      <td>p.H5073R</td>\n",
       "      <td>ORF1ab</td>\n",
       "      <td>2</td>\n",
       "      <td>-0.72839</td>\n",
       "      <td>-0.504881</td>\n",
       "    </tr>\n",
       "    <tr>\n",
       "      <th>976</th>\n",
       "      <td>17817:A&gt;G</td>\n",
       "      <td>p.D5851G</td>\n",
       "      <td>ORF1ab</td>\n",
       "      <td>2</td>\n",
       "      <td>-0.72839</td>\n",
       "      <td>-0.504881</td>\n",
       "    </tr>\n",
       "  </tbody>\n",
       "</table>\n",
       "</div>"
      ],
      "text/plain": [
       "     variant_id         hgvs_p gene_name  count_subclonal  \\\n",
       "1423  21920:G>A        p.V120I         S              153   \n",
       "1518  22604:G>C        p.A348P         S                7   \n",
       "1648  23607:G>T        p.R682L         S                5   \n",
       "1061  18657:C>A       p.P6131H    ORF1ab                4   \n",
       "2181  28099:C>T         p.S69L      ORF8                5   \n",
       "732   15927:T>C       p.F5221S    ORF1ab                3   \n",
       "3064   8771:A>G       p.T2836A    ORF1ab                3   \n",
       "664   15369:A>T       p.Q5035L    ORF1ab                3   \n",
       "1372  21450:A>C       p.K7062T    ORF1ab                3   \n",
       "601   14847:A>G       p.Y4861C    ORF1ab                3   \n",
       "1647  23607:G>A        p.R682Q         S                3   \n",
       "1649  23610:G>A        p.R683Q         S                3   \n",
       "1370  21420:A>C  p.*7052Sext*?    ORF1ab               13   \n",
       "2144  27765:C>G          p.L4V     ORF7b                2   \n",
       "1721  24172:T>G        p.I870M         S                2   \n",
       "1267  20445:T>A       p.L6727*    ORF1ab                2   \n",
       "1124  19218:T>C       p.L6318P    ORF1ab                2   \n",
       "2457   3863:G>T       p.E1200*    ORF1ab                2   \n",
       "2321  29318:C>T        p.Q349*         N                2   \n",
       "459   13695:A>G       p.Q4477R    ORF1ab                2   \n",
       "666   15380:G>C       p.A5039P    ORF1ab                2   \n",
       "82    10718:C>T       p.R3485*    ORF1ab                2   \n",
       "913   17376:A>G       p.Q5704R    ORF1ab                2   \n",
       "498   13998:G>T       p.C4578F    ORF1ab                2   \n",
       "2566   4829:C>T       p.Q1522*    ORF1ab                2   \n",
       "2402   3290:C>G       p.Q1009E    ORF1ab                2   \n",
       "1579  23034:C>T        p.P491L         S                2   \n",
       "1646  23606:C>T        p.R682W         S                2   \n",
       "1572  22988:G>T        p.G476C         S                2   \n",
       "1434  22004:A>G        p.N148D         S                2   \n",
       "3179   9721:T>A       p.H3152Q    ORF1ab                3   \n",
       "2856   7211:T>A       p.W2316R    ORF1ab                2   \n",
       "1189  19779:A>T  p.*6505Lext*?    ORF1ab                2   \n",
       "2512   4340:A>C       p.I1359L    ORF1ab                2   \n",
       "282   12355:G>T       p.Q4030H    ORF1ab                2   \n",
       "1140  19344:T>C       p.L6360P    ORF1ab                2   \n",
       "3082   8887:A>C       p.L2874F    ORF1ab                2   \n",
       "2070  27158:T>G        p.S212R         M                5   \n",
       "2381   3171:T>C        p.L969P    ORF1ab                2   \n",
       "2478   4067:G>A       p.A1268T    ORF1ab                2   \n",
       "2188  28197:T>C        p.C102R      ORF8                2   \n",
       "2179  28081:A>G         p.D63G      ORF8                2   \n",
       "2479   4068:C>T       p.A1268V    ORF1ab                2   \n",
       "2383   3181:A>C        p.E972D    ORF1ab                2   \n",
       "164    1143:T>G        p.L293R    ORF1ab                2   \n",
       "2378   3161:T>C        p.S966P    ORF1ab                2   \n",
       "1157   1956:A>G        p.K564R    ORF1ab                2   \n",
       "1232   2022:T>G        p.F586C    ORF1ab                2   \n",
       "678   15483:A>G       p.H5073R    ORF1ab                2   \n",
       "976   17817:A>G       p.D5851G    ORF1ab                2   \n",
       "\n",
       "      cons_hmm_sars_cov_2   af_cons  \n",
       "1423             -0.72927 -3.668547  \n",
       "1518             -1.04511 -2.033690  \n",
       "1648             -1.02973 -1.657286  \n",
       "1061             -1.04511 -1.448830  \n",
       "2181             -0.80744 -1.299525  \n",
       "732              -1.04511 -1.148171  \n",
       "3064             -1.04511 -1.148171  \n",
       "664              -1.04511 -1.148171  \n",
       "1372             -1.04511 -1.148171  \n",
       "601              -1.04511 -1.148171  \n",
       "1647             -1.02973 -1.131274  \n",
       "1649             -1.02973 -1.131274  \n",
       "1370             -0.35633 -0.913968  \n",
       "2144             -1.27455 -0.883451  \n",
       "1721             -1.27455 -0.883451  \n",
       "1267             -1.04511 -0.724415  \n",
       "1124             -1.04511 -0.724415  \n",
       "2457             -1.04511 -0.724415  \n",
       "2321             -1.04511 -0.724415  \n",
       "459              -1.04511 -0.724415  \n",
       "666              -1.04511 -0.724415  \n",
       "82               -1.04511 -0.724415  \n",
       "913              -1.04511 -0.724415  \n",
       "498              -1.04511 -0.724415  \n",
       "2566             -1.04511 -0.724415  \n",
       "2402             -1.02973 -0.713754  \n",
       "1579             -1.02973 -0.713754  \n",
       "1646             -1.02973 -0.713754  \n",
       "1572             -1.02973 -0.713754  \n",
       "1434             -1.02973 -0.713754  \n",
       "3179             -0.59191 -0.650280  \n",
       "2856             -0.85561 -0.593064  \n",
       "1189             -0.85561 -0.593064  \n",
       "2512             -0.85561 -0.593064  \n",
       "282              -0.85561 -0.593064  \n",
       "1140             -0.85561 -0.593064  \n",
       "3082             -0.85561 -0.593064  \n",
       "2070             -0.35633 -0.573491  \n",
       "2381             -0.80744 -0.559675  \n",
       "2478             -0.80744 -0.559675  \n",
       "2188             -0.80744 -0.559675  \n",
       "2179             -0.80744 -0.559675  \n",
       "2479             -0.80744 -0.559675  \n",
       "2383             -0.80744 -0.559675  \n",
       "164              -0.72927 -0.505491  \n",
       "2378             -0.72927 -0.505491  \n",
       "1157             -0.72927 -0.505491  \n",
       "1232             -0.72927 -0.505491  \n",
       "678              -0.72839 -0.504881  \n",
       "976              -0.72839 -0.504881  "
      ]
     },
     "execution_count": 213,
     "metadata": {},
     "output_type": "execute_result"
    }
   ],
   "source": [
    "only_subclonal_counts = only_subclonal[[\"sample\", \"variant_id\"]].groupby(\"variant_id\").count().reset_index().rename(columns={\"sample\": \"count_subclonal\"})\n",
    "only_subclonal_counts_with_annotations = pd.merge(left=only_subclonal_counts, right=only_subclonal, on=\"variant_id\", how=\"left\").groupby(\"variant_id\").first().reset_index()\n",
    "only_subclonal_counts_with_annotations[\"af_cons\"] = only_subclonal_counts_with_annotations[[\"count_subclonal\", \"cons_hmm_sars_cov_2\"]].apply(lambda x: np.log(x[0])*x[1], axis=1)\n",
    "top_50_predictions = only_subclonal_counts_with_annotations.sort_values(\"af_cons\", ascending=True).head(50)\n",
    "only_subclonal_counts_with_annotations[[\"variant_id\", \"hgvs_p\", \"gene_name\", \"count_subclonal\", \"cons_hmm_sars_cov_2\", \"af_cons\"]]\\\n",
    "    .sort_values(\"af_cons\", ascending=True).head(50).to_csv(\n",
    "    os.path.join(figure_output_folder, \"prediction_clonal_variants_20072021.csv\"))\n",
    "top_50_predictions[[\"variant_id\", \"hgvs_p\", \"gene_name\", \"count_subclonal\", \"cons_hmm_sars_cov_2\", \"af_cons\"]]"
   ]
  }
 ],
 "metadata": {
  "kernelspec": {
   "display_name": "Python 3",
   "language": "python",
   "name": "python3"
  },
  "language_info": {
   "codemirror_mode": {
    "name": "ipython",
    "version": 3
   },
   "file_extension": ".py",
   "mimetype": "text/x-python",
   "name": "python",
   "nbconvert_exporter": "python",
   "pygments_lexer": "ipython3",
   "version": "3.6.13"
  },
  "toc-autonumbering": true,
  "toc-showcode": false,
  "toc-showmarkdowntxt": false,
  "toc-showtags": false
 },
 "nbformat": 4,
 "nbformat_minor": 5
}
