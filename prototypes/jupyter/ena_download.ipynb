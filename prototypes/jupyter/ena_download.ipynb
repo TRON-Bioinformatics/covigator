{
 "cells": [
  {
   "cell_type": "markdown",
   "metadata": {},
   "source": [
    "# Download NGS data from ENA\n",
    "\n",
    "User guide of ENA API here https://ena-docs.readthedocs.io/en/latest/retrieval/programmatic-access/advanced-search.html\n",
    "\n",
    "Swagger documentation here https://www.ebi.ac.uk/ena/portal/api/\n",
    "\n",
    "An example of searching raw reads entries from ENA:\n",
    "https://www.ebi.ac.uk/ena/portal/api/search?result=read_run&query=country=%22United%20Kingdom%22%20AND%20host_tax_id=9913%20AND%20host_body_site=%22rumen%22\n",
    "\n",
    "**NOTE**: using the query parameter `format=json` gives you the output in JSON format"
   ]
  },
  {
   "cell_type": "code",
   "execution_count": 1,
   "metadata": {},
   "outputs": [],
   "source": [
    "import requests"
   ]
  },
  {
   "cell_type": "markdown",
   "metadata": {},
   "source": [
    "## Fetch taxonomic information\n",
    "\n",
    "Species taxonomic information can be fetched by scientific name among other attributes. We are interested in fetching the taxonomy identifier for subsequent queries.\n",
    "\n",
    "Documentation here https://ena-docs.readthedocs.io/en/latest/retrieval/programmatic-access/taxon-api.html\n",
    "\n"
   ]
  },
  {
   "cell_type": "code",
   "execution_count": 2,
   "metadata": {},
   "outputs": [
    {
     "data": {
      "text/plain": [
       "[{'taxId': '2697049',\n",
       "  'scientificName': 'Severe acute respiratory syndrome coronavirus 2',\n",
       "  'formalName': 'false',\n",
       "  'rank': 'no rank',\n",
       "  'division': 'VRL',\n",
       "  'lineage': 'Viruses; Riboviria; Orthornavirae; Pisuviricota; Pisoniviricetes; Nidovirales; Cornidovirineae; Coronaviridae; Orthocoronavirinae; Betacoronavirus; Sarbecovirus; ',\n",
       "  'geneticCode': '1',\n",
       "  'submittable': 'true'}]"
      ]
     },
     "execution_count": 2,
     "metadata": {},
     "output_type": "execute_result"
    }
   ],
   "source": [
    "requests.get(\"https://www.ebi.ac.uk/ena/taxonomy/rest/scientific-name/Severe%20acute%20respiratory%20syndrome%20coronavirus%202\").json()"
   ]
  },
  {
   "cell_type": "code",
   "execution_count": 3,
   "metadata": {},
   "outputs": [
    {
     "data": {
      "text/plain": [
       "[{'taxId': '11320',\n",
       "  'scientificName': 'Influenza A virus',\n",
       "  'formalName': 'true',\n",
       "  'rank': 'species',\n",
       "  'division': 'VRL',\n",
       "  'lineage': 'Viruses; Riboviria; Orthornavirae; Negarnaviricota; Polyploviricotina; Insthoviricetes; Articulavirales; Orthomyxoviridae; Alphainfluenzavirus; ',\n",
       "  'geneticCode': '1',\n",
       "  'submittable': 'true'}]"
      ]
     },
     "execution_count": 3,
     "metadata": {},
     "output_type": "execute_result"
    }
   ],
   "source": [
    "requests.get(\"https://www.ebi.ac.uk/ena/taxonomy/rest/scientific-name/Influenza A virus\").json()"
   ]
  },
  {
   "cell_type": "code",
   "execution_count": 4,
   "metadata": {},
   "outputs": [
    {
     "data": {
      "text/plain": [
       "[{'taxId': '11520',\n",
       "  'scientificName': 'Influenza B virus',\n",
       "  'formalName': 'true',\n",
       "  'rank': 'species',\n",
       "  'division': 'VRL',\n",
       "  'lineage': 'Viruses; Riboviria; Orthornavirae; Negarnaviricota; Polyploviricotina; Insthoviricetes; Articulavirales; Orthomyxoviridae; Betainfluenzavirus; ',\n",
       "  'geneticCode': '1',\n",
       "  'submittable': 'false'}]"
      ]
     },
     "execution_count": 4,
     "metadata": {},
     "output_type": "execute_result"
    }
   ],
   "source": [
    "requests.get(\"https://www.ebi.ac.uk/ena/taxonomy/rest/scientific-name/Influenza B virus\").json()"
   ]
  },
  {
   "cell_type": "markdown",
   "metadata": {},
   "source": [
    "## Fetch the identifiers for the NGS raw data entries"
   ]
  },
  {
   "cell_type": "code",
   "execution_count": 5,
   "metadata": {},
   "outputs": [
    {
     "data": {
      "text/plain": [
       "100000"
      ]
     },
     "execution_count": 5,
     "metadata": {},
     "output_type": "execute_result"
    }
   ],
   "source": [
    "# this fetches 100000 entries for Sars-cov-2 which is the default\n",
    "list_runs = requests.get(\"https://www.ebi.ac.uk/ena/portal/api/search?result=read_run&query=tax_eq(2697049)&format=json\").json()\n",
    "len(list_runs)"
   ]
  },
  {
   "cell_type": "code",
   "execution_count": 6,
   "metadata": {},
   "outputs": [
    {
     "data": {
      "text/plain": [
       "152927"
      ]
     },
     "execution_count": 6,
     "metadata": {},
     "output_type": "execute_result"
    }
   ],
   "source": [
    "# this fetches all entries for Sars-cov-2 adding limit=0\n",
    "list_runs = requests.get(\"https://www.ebi.ac.uk/ena/portal/api/search?result=read_run&query=tax_eq(2697049)&limit=0&format=json\").json()\n",
    "len(list_runs)"
   ]
  },
  {
   "cell_type": "code",
   "execution_count": 7,
   "metadata": {},
   "outputs": [
    {
     "data": {
      "text/plain": [
       "[{'run_accession': 'ERR4080473', 'description': 'MinION sequencing'},\n",
       " {'run_accession': 'ERR4080474', 'description': 'MinION sequencing'},\n",
       " {'run_accession': 'ERR4080475', 'description': 'MinION sequencing'},\n",
       " {'run_accession': 'ERR4080476', 'description': 'MinION sequencing'},\n",
       " {'run_accession': 'ERR4080477', 'description': 'MinION sequencing'}]"
      ]
     },
     "execution_count": 7,
     "metadata": {},
     "output_type": "execute_result"
    }
   ],
   "source": [
    "list_runs[0:5]"
   ]
  },
  {
   "cell_type": "code",
   "execution_count": 8,
   "metadata": {},
   "outputs": [
    {
     "data": {
      "text/plain": [
       "[{'columnId': 'study_accession', 'description': 'study accession number'},\n",
       " {'columnId': 'secondary_study_accession',\n",
       "  'description': 'secondary study accession number'},\n",
       " {'columnId': 'sample_accession', 'description': 'sample accession number'},\n",
       " {'columnId': 'secondary_sample_accession',\n",
       "  'description': 'secondary sample accession number'},\n",
       " {'columnId': 'experiment_accession',\n",
       "  'description': 'experiment accession number'},\n",
       " {'columnId': 'run_accession', 'description': 'run accession number'},\n",
       " {'columnId': 'submission_accession',\n",
       "  'description': 'submission accession number'},\n",
       " {'columnId': 'tax_id', 'description': 'taxonomic ID'},\n",
       " {'columnId': 'scientific_name', 'description': 'scientific name'},\n",
       " {'columnId': 'instrument_platform',\n",
       "  'description': 'instrument platform used in sequencing experiment'},\n",
       " {'columnId': 'instrument_model',\n",
       "  'description': 'instrument model used in sequencing experiment'},\n",
       " {'columnId': 'library_name', 'description': 'sequencing library name'},\n",
       " {'columnId': 'nominal_length',\n",
       "  'description': 'average fragmentation size of paired reads'},\n",
       " {'columnId': 'library_layout', 'description': 'sequencing library layout'},\n",
       " {'columnId': 'library_strategy',\n",
       "  'description': 'sequencing technique intended for the library'},\n",
       " {'columnId': 'library_source',\n",
       "  'description': 'source material being sequenced'},\n",
       " {'columnId': 'library_selection',\n",
       "  'description': 'method used to select or enrich the material being sequenced'},\n",
       " {'columnId': 'read_count', 'description': 'number of reads'},\n",
       " {'columnId': 'base_count', 'description': 'number of base pairs'},\n",
       " {'columnId': 'center_name', 'description': 'Submitting center'},\n",
       " {'columnId': 'first_public', 'description': 'date when made public'},\n",
       " {'columnId': 'last_updated', 'description': 'date when last updated'},\n",
       " {'columnId': 'experiment_title', 'description': 'brief experiment title'},\n",
       " {'columnId': 'study_title',\n",
       "  'description': 'brief sequencing study description'},\n",
       " {'columnId': 'study_alias', 'description': \"submitter's name for the study\"},\n",
       " {'columnId': 'experiment_alias',\n",
       "  'description': \"submitter's name for the experiment\"},\n",
       " {'columnId': 'run_alias', 'description': \"submitter's name for the run\"},\n",
       " {'columnId': 'fastq_bytes', 'description': 'size (in bytes) of FASTQ files'},\n",
       " {'columnId': 'fastq_md5', 'description': 'MD5 checksum of FASTQ files'},\n",
       " {'columnId': 'fastq_ftp', 'description': 'FTP links for fastq files'},\n",
       " {'columnId': 'fastq_aspera', 'description': 'Aspera links for fastq files'},\n",
       " {'columnId': 'fastq_galaxy', 'description': 'Galaxy links for fastq files'},\n",
       " {'columnId': 'submitted_bytes',\n",
       "  'description': 'size (in bytes) of submitted files'},\n",
       " {'columnId': 'submitted_md5',\n",
       "  'description': 'MD5 checksum of submitted files'},\n",
       " {'columnId': 'submitted_ftp', 'description': 'FTP links for submitted files'},\n",
       " {'columnId': 'submitted_aspera',\n",
       "  'description': 'Aspera links for submitted files'},\n",
       " {'columnId': 'submitted_galaxy',\n",
       "  'description': 'Galaxy links for submitted files'},\n",
       " {'columnId': 'submitted_format', 'description': 'format of submitted reads'},\n",
       " {'columnId': 'sra_bytes',\n",
       "  'description': 'size (in bytes) of NCBI SRA format files'},\n",
       " {'columnId': 'sra_md5',\n",
       "  'description': 'MD5 checksum of NCBI SRA format files'},\n",
       " {'columnId': 'sra_ftp', 'description': 'FTP links for NCBI SRA format files'},\n",
       " {'columnId': 'sra_aspera',\n",
       "  'description': 'Aspera links for NCBI SRA format files'},\n",
       " {'columnId': 'sra_galaxy',\n",
       "  'description': 'Galaxy links for NCBI SRA format files'},\n",
       " {'columnId': 'cram_index_ftp',\n",
       "  'description': 'FTP links for CRAM index files'},\n",
       " {'columnId': 'cram_index_aspera',\n",
       "  'description': 'Aspera links for CRAM index files'},\n",
       " {'columnId': 'cram_index_galaxy',\n",
       "  'description': 'Galaxy links for CRAM index files'},\n",
       " {'columnId': 'sample_alias',\n",
       "  'description': \"submitter's name for the sample\"},\n",
       " {'columnId': 'broker_name', 'description': 'broker name'},\n",
       " {'columnId': 'sample_title', 'description': 'brief sample title'},\n",
       " {'columnId': 'nominal_sdev',\n",
       "  'description': 'standard deviation of fragmentation size of paired reads'},\n",
       " {'columnId': 'first_created', 'description': 'date when first created'},\n",
       " {'columnId': 'sample_description',\n",
       "  'description': 'detailed sample description'},\n",
       " {'columnId': 'parent_study', 'description': 'parent study accession number'},\n",
       " {'columnId': 'accession', 'description': 'accession number'},\n",
       " {'columnId': 'bio_material',\n",
       "  'description': 'identifier for biological material including institute and collection code'},\n",
       " {'columnId': 'cell_line',\n",
       "  'description': 'cell line from which the sample was obtained'},\n",
       " {'columnId': 'cell_type',\n",
       "  'description': 'cell type from which the sample was obtained'},\n",
       " {'columnId': 'collected_by',\n",
       "  'description': 'name of the person who collected the specimen'},\n",
       " {'columnId': 'collection_date',\n",
       "  'description': 'date that the specimen was collected'},\n",
       " {'columnId': 'country',\n",
       "  'description': 'locality of sample isolation: country names, oceans or seas, followed by regions and localities'},\n",
       " {'columnId': 'cultivar',\n",
       "  'description': 'cultivar (cultivated variety) of plant from which sample was obtained'},\n",
       " {'columnId': 'culture_collection',\n",
       "  'description': 'identifier for the sample culture including institute and collection code'},\n",
       " {'columnId': 'description', 'description': 'brief sequence description'},\n",
       " {'columnId': 'dev_stage',\n",
       "  'description': 'sample obtained from an organism in a specific developmental stage'},\n",
       " {'columnId': 'ecotype',\n",
       "  'description': 'a population within a given species displaying traits that reflect adaptation to a local habitat'},\n",
       " {'columnId': 'environmental_sample',\n",
       "  'description': 'identifies sequences derived by direct molecular isolation from an environmental DNA sample'},\n",
       " {'columnId': 'germline',\n",
       "  'description': 'the sample is an unrearranged molecule that was inherited from the parental germline'},\n",
       " {'columnId': 'identified_by',\n",
       "  'description': 'name of the taxonomist who identified the specimen'},\n",
       " {'columnId': 'isolate',\n",
       "  'description': 'individual isolate from which sample was obtained'},\n",
       " {'columnId': 'isolation_source',\n",
       "  'description': 'describes the physical, environmental and/or local geographical source of the sample'},\n",
       " {'columnId': 'location',\n",
       "  'description': 'geographic location of isolation of the sample'},\n",
       " {'columnId': 'mating_type',\n",
       "  'description': 'mating type of the organism from which the sequence was obtained'},\n",
       " {'columnId': 'serotype',\n",
       "  'description': 'serological variety of a species characterized by its antigenic properties'},\n",
       " {'columnId': 'serovar',\n",
       "  'description': 'serological variety of a species (usually a prokaryote) characterized by its antigenic properties'},\n",
       " {'columnId': 'sex',\n",
       "  'description': 'sex of the organism from which the sample was obtained'},\n",
       " {'columnId': 'submitted_sex',\n",
       "  'description': 'sex of the organism from which the sample was obtained'},\n",
       " {'columnId': 'specimen_voucher',\n",
       "  'description': 'identifier for the sample culture including institute and collection code'},\n",
       " {'columnId': 'strain',\n",
       "  'description': 'strain from which sample was obtained'},\n",
       " {'columnId': 'sub_species',\n",
       "  'description': 'name of sub-species of organism from which sample was obtained'},\n",
       " {'columnId': 'sub_strain',\n",
       "  'description': 'name or identifier of a genetically or otherwise modified strain from which sample was obtained'},\n",
       " {'columnId': 'tissue_lib',\n",
       "  'description': 'tissue library from which sample was obtained'},\n",
       " {'columnId': 'tissue_type',\n",
       "  'description': 'tissue type from which the sample was obtained'},\n",
       " {'columnId': 'variety',\n",
       "  'description': 'variety (varietas, a formal Linnaean rank) of organism from which sample was derived'},\n",
       " {'columnId': 'checklist', 'description': 'checklist name (or ID)'},\n",
       " {'columnId': 'depth', 'description': 'Depth (m)'},\n",
       " {'columnId': 'elevation', 'description': 'Elevation (m)'},\n",
       " {'columnId': 'altitude', 'description': 'Altitude (m)'},\n",
       " {'columnId': 'environment_biome', 'description': 'Environment (Biome)'},\n",
       " {'columnId': 'environment_feature', 'description': 'Environment (Feature)'},\n",
       " {'columnId': 'environment_material', 'description': 'Environment (Material)'},\n",
       " {'columnId': 'temperature', 'description': 'Temperature (C)'},\n",
       " {'columnId': 'salinity', 'description': 'Salinity (PSU)'},\n",
       " {'columnId': 'sampling_campaign',\n",
       "  'description': 'the activity within which this sample was collected'},\n",
       " {'columnId': 'sampling_site',\n",
       "  'description': 'the site/station where this sample was collection'},\n",
       " {'columnId': 'sampling_platform',\n",
       "  'description': 'the large infrastructure from which this sample was collected'},\n",
       " {'columnId': 'protocol_label',\n",
       "  'description': 'the protocol used to produce the sample'},\n",
       " {'columnId': 'project_name',\n",
       "  'description': 'name of the project within which the sequencing was organized'},\n",
       " {'columnId': 'host',\n",
       "  'description': 'natural (as opposed to laboratory) host to the organism from which sample was obtained'},\n",
       " {'columnId': 'host_tax_id', 'description': 'NCBI taxon id of the host'},\n",
       " {'columnId': 'host_status',\n",
       "  'description': 'condition of host (eg. diseased or healthy)'},\n",
       " {'columnId': 'host_sex', 'description': 'physical sex of the host'},\n",
       " {'columnId': 'submitted_host_sex', 'description': 'physical sex of the host'},\n",
       " {'columnId': 'host_body_site',\n",
       "  'description': 'name of body site from where the sample was obtained'},\n",
       " {'columnId': 'host_gravidity',\n",
       "  'description': 'whether or not subject is gravid, including date due or date post-conception where applicable'},\n",
       " {'columnId': 'host_phenotype', 'description': 'phenotype of host'},\n",
       " {'columnId': 'host_genotype', 'description': 'genotype of host'},\n",
       " {'columnId': 'host_growth_conditions',\n",
       "  'description': 'literature reference giving growth conditions of the host'},\n",
       " {'columnId': 'environmental_package',\n",
       "  'description': 'MIGS/MIMS/MIMARKS extension for reporting (from environment where the sample was obtained)'},\n",
       " {'columnId': 'investigation_type',\n",
       "  'description': 'the study type targeted by the sequencing'},\n",
       " {'columnId': 'experimental_factor',\n",
       "  'description': 'variable aspects of the experimental design'},\n",
       " {'columnId': 'sample_collection',\n",
       "  'description': 'the method or device employed for collecting the sample'},\n",
       " {'columnId': 'sequencing_method', 'description': 'sequencing method used'},\n",
       " {'columnId': 'target_gene',\n",
       "  'description': 'targeted gene or locus name for marker gene studies'},\n",
       " {'columnId': 'ph', 'description': 'pH'},\n",
       " {'columnId': 'sample_material', 'description': 'sample material label'},\n",
       " {'columnId': 'taxonomic_identity_marker',\n",
       "  'description': 'Taxonomic identity marker'},\n",
       " {'columnId': 'assembly_quality', 'description': 'Quality of assembly'},\n",
       " {'columnId': 'assembly_software', 'description': 'Assembly software'},\n",
       " {'columnId': 'taxonomic_classification',\n",
       "  'description': 'Taxonomic classification'},\n",
       " {'columnId': 'completeness_score', 'description': 'Completeness score (%)'},\n",
       " {'columnId': 'contamination_score', 'description': 'Contamination score (%)'},\n",
       " {'columnId': 'binning_software', 'description': 'Binning software'},\n",
       " {'columnId': 'lat', 'description': 'Latitude'},\n",
       " {'columnId': 'lon', 'description': 'Longitude'}]"
      ]
     },
     "execution_count": 8,
     "metadata": {},
     "output_type": "execute_result"
    }
   ],
   "source": [
    "# this shows all the fields that can be returned\n",
    "requests.get(\"https://www.ebi.ac.uk/ena/portal/api/returnFields?result=read_run&format=json\").json()"
   ]
  },
  {
   "cell_type": "code",
   "execution_count": 9,
   "metadata": {},
   "outputs": [
    {
     "data": {
      "text/plain": [
       "[{'run_accession': 'ERR4080473',\n",
       "  'sample_accession': 'SAMEA6798401',\n",
       "  'fastq_ftp': 'ftp.sra.ebi.ac.uk/vol1/fastq/ERR408/003/ERR4080473/ERR4080473_1.fastq.gz',\n",
       "  'host_tax_id': '9606',\n",
       "  'host_sex': '',\n",
       "  'lat': '',\n",
       "  'lon': '',\n",
       "  'country': 'Denmark'},\n",
       " {'run_accession': 'ERR4080474',\n",
       "  'sample_accession': 'SAMEA6798402',\n",
       "  'fastq_ftp': 'ftp.sra.ebi.ac.uk/vol1/fastq/ERR408/004/ERR4080474/ERR4080474_1.fastq.gz',\n",
       "  'host_tax_id': '9606',\n",
       "  'host_sex': '',\n",
       "  'lat': '',\n",
       "  'lon': '',\n",
       "  'country': 'Denmark'},\n",
       " {'run_accession': 'ERR4080475',\n",
       "  'sample_accession': 'SAMEA6798403',\n",
       "  'fastq_ftp': 'ftp.sra.ebi.ac.uk/vol1/fastq/ERR408/005/ERR4080475/ERR4080475_1.fastq.gz',\n",
       "  'host_tax_id': '9606',\n",
       "  'host_sex': '',\n",
       "  'lat': '',\n",
       "  'lon': '',\n",
       "  'country': 'Denmark'},\n",
       " {'run_accession': 'ERR4080476',\n",
       "  'sample_accession': 'SAMEA6798404',\n",
       "  'fastq_ftp': 'ftp.sra.ebi.ac.uk/vol1/fastq/ERR408/006/ERR4080476/ERR4080476_1.fastq.gz',\n",
       "  'host_tax_id': '9606',\n",
       "  'host_sex': '',\n",
       "  'lat': '',\n",
       "  'lon': '',\n",
       "  'country': 'Denmark'},\n",
       " {'run_accession': 'ERR4080477',\n",
       "  'sample_accession': 'SAMEA6798405',\n",
       "  'fastq_ftp': 'ftp.sra.ebi.ac.uk/vol1/fastq/ERR408/007/ERR4080477/ERR4080477_1.fastq.gz',\n",
       "  'host_tax_id': '9606',\n",
       "  'host_sex': '',\n",
       "  'lat': '',\n",
       "  'lon': '',\n",
       "  'country': 'Denmark'}]"
      ]
     },
     "execution_count": 9,
     "metadata": {},
     "output_type": "execute_result"
    }
   ],
   "source": [
    "# using the fields attribute we can add metadata, including FTP URL to fetch the FASTQ files\n",
    "requests.get(\"https://www.ebi.ac.uk/ena/portal/api/search?result=read_run&query=tax_eq(2697049)&limit=5&fields=fastq_ftp,host_tax_id,host_sex,lat,lon,country&format=json\").json()"
   ]
  }
 ],
 "metadata": {
  "kernelspec": {
   "display_name": "Python 3",
   "language": "python",
   "name": "python3"
  },
  "language_info": {
   "codemirror_mode": {
    "name": "ipython",
    "version": 3
   },
   "file_extension": ".py",
   "mimetype": "text/x-python",
   "name": "python",
   "nbconvert_exporter": "python",
   "pygments_lexer": "ipython3",
   "version": "3.8.5"
  }
 },
 "nbformat": 4,
 "nbformat_minor": 4
}
